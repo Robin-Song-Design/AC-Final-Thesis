{
 "cells": [
  {
   "cell_type": "markdown",
   "metadata": {},
   "source": [
    "# How Route Choice can Impact Evacuation Times\n",
    "\n",
    "This notebook can be directly downloaded {download}`here <./routing.ipynb>` to run it locally.\n",
    "\n",
    "In this demonstration, we'll be simulating a room with a single exit. \n",
    "We'll place two distinct groups of agents in a designated zone within the room. \n",
    "Each group will be assigned a specific route to reach the exit: \n",
    "one group will follow the shortest path, while the other will take a longer detour.\n",
    "\n",
    "To chart these paths, we'll use several waypoints, creating unique journeys for the agents to navigate.\n",
    "\n",
    "## Configuring the Room Layout\n",
    "\n",
    "For our simulation, we'll utilize a square-shaped room with dimensions of 20 meters by 20 meters. \n",
    "Inside, obstacles will be strategically placed to segment the room and guide both agent groups."
   ]
  },
  {
   "cell_type": "code",
   "execution_count": 1,
   "metadata": {
    "tags": [
     "hide-input"
    ]
   },
   "outputs": [],
   "source": [
    "import pathlib\n",
    "\n",
    "import jupedsim as jps\n",
    "import matplotlib.pyplot as plt\n",
    "import pedpy\n",
    "import shapely\n",
    "from matplotlib.patches import Circle\n",
    "from shapely import Polygon\n",
    "\n",
    "%matplotlib inline"
   ]
  },
  {
   "cell_type": "code",
   "execution_count": 28,
   "metadata": {},
   "outputs": [],
   "source": [
    "complete_area = Polygon(\n",
    "    [\n",
    "        (0, 0),\n",
    "        (0, 20),\n",
    "        (40, 20),\n",
    "        (40, 0),\n",
    "    ]\n",
    ")\n",
    "obstacles = [\n",
    "    Polygon(\n",
    "        [\n",
    "            (5, 4.0),\n",
    "            (5, 16),\n",
    "            (7, 16),\n",
    "            (7, 4.0),\n",
    "        ]\n",
    "    ),\n",
    "    Polygon(\n",
    "        [\n",
    "            (13, 4.0),\n",
    "            (13, 16),\n",
    "            (15, 16),\n",
    "            (15, 4.0),\n",
    "        ]\n",
    "    ),\n",
    "    Polygon(\n",
    "        [\n",
    "            (25, 4.0),\n",
    "            (25, 16),\n",
    "            (27, 16),\n",
    "            (27, 4.0),\n",
    "        ]\n",
    "    ),\n",
    "    Polygon(\n",
    "        [\n",
    "            (33, 4.0),\n",
    "            (33, 16),\n",
    "            (35, 16),\n",
    "            (35, 4.0),\n",
    "        ]\n",
    "    ),\n",
    "]\n",
    "\n",
    "exit_polygon = [(19, 19), (20, 19), (20, 20), (19, 20)]\n",
    "waypoints = [([3, 19], 3), ([7, 19], 2), ([7, 2.5], 2), ([17.5, 2.5], 2)]\n",
    "distribution_polygons = [\n",
    "    Polygon(\n",
    "        [\n",
    "            (2, 4.0),\n",
    "            (2, 16),\n",
    "            (5, 16),\n",
    "            (5, 4.0),\n",
    "        ]\n",
    "    ),\n",
    "    Polygon(\n",
    "        [\n",
    "            (15, 4.0),\n",
    "            (15, 16),\n",
    "            (18, 16),\n",
    "            (18, 4.0),\n",
    "        ]\n",
    "    ),\n",
    "    Polygon(\n",
    "        [\n",
    "            (22, 4.0),\n",
    "            (22, 16),\n",
    "            (25, 16),\n",
    "            (25, 4.0),\n",
    "        ]\n",
    "    ),\n",
    "    Polygon(\n",
    "        [\n",
    "            (35, 4.0),\n",
    "            (35, 16),\n",
    "            (38, 16),\n",
    "            (38, 4.0),\n",
    "        ]\n",
    "    ),\n",
    "]\n",
    "obstacle = shapely.union_all(obstacles)\n",
    "distribution_polygons = [\n",
    "    shapely.intersection(distribution_polygon, complete_area) for distribution_polygon in distribution_polygons\n",
    "]\n",
    "walkable_area = pedpy.WalkableArea(shapely.difference(complete_area, obstacle))"
   ]
  },
  {
   "cell_type": "code",
   "execution_count": 29,
   "metadata": {
    "tags": [
     "hide-input"
    ]
   },
   "outputs": [
    {
     "data": {
      "image/png": "[encoded data removed]",
      "text/plain": [
       "<Figure size 640x480 with 1 Axes>"
      ]
     },
     "metadata": {},
     "output_type": "display_data"
    }
   ],
   "source": [
    "fig, ax = plt.subplots(nrows=1, ncols=1)\n",
    "ax.set_aspect(\"equal\")\n",
    "pedpy.plot_walkable_area(walkable_area=walkable_area, axes=ax)\n",
    "\n",
    "for idx, (waypoint, distance) in enumerate(waypoints):\n",
    "    ax.plot(waypoint[0], waypoint[1], \"ro\")\n",
    "    ax.annotate(\n",
    "        f\"WP {idx + 1}\",\n",
    "        (waypoint[0], waypoint[1]),\n",
    "        textcoords=\"offset points\",\n",
    "        xytext=(10, -15),\n",
    "        ha=\"center\",\n",
    "    )\n",
    "    circle = Circle(\n",
    "        (waypoint[0], waypoint[1]), distance, fc=\"red\", ec=\"red\", alpha=0.1\n",
    "    )\n",
    "    ax.add_patch(circle)\n",
    "\n",
    "x, y = Polygon(exit_polygon).exterior.xy\n",
    "plt.fill(x, y, alpha=0.1, color=\"orange\")\n",
    "centroid = Polygon(exit_polygon).centroid\n",
    "plt.text(centroid.x, centroid.y, \"Exit\", ha=\"center\", va=\"center\", fontsize=8)\n",
    "\n",
    "for distribution_polygon in distribution_polygons:\n",
    "    x, y = distribution_polygon.exterior.xy\n",
    "    plt.fill(x, y, alpha=0.1, color=\"blue\")\n",
    "    centroid = distribution_polygon.centroid\n",
    "    plt.text(centroid.x, centroid.y, \"Start\", ha=\"center\", va=\"center\", fontsize=10)"
   ]
  },
  {
   "cell_type": "markdown",
   "metadata": {},
   "source": [
    "## Configuration of Simulation Scenarios\n",
    "<a id=\"model\"></a>\n",
    "With our room geometry in place, the next step is to define the simulation object, the operational model and its corresponding parameters. In this demonstration, we'll use the \"collision-free\" model.\n",
    "\n",
    "We'll outline an array of percentage values, allowing us to adjust the sizes of the two groups across multiple simulations. As a result, creating distinct simulation objects for each scenario becomes essential."
   ]
  },
  {
   "cell_type": "code",
   "execution_count": 30,
   "metadata": {},
   "outputs": [],
   "source": [
    "percentage = 0\n",
    "total_agents = 20\n",
    "\n",
    "trajectory_file = f\"trajectories_percentage_{percentage}.sqlite\"\n",
    "simulation = jps.Simulation(\n",
    "    dt=0.05,\n",
    "    model=jps.CollisionFreeSpeedModel(\n",
    "        strength_neighbor_repulsion=2.6,\n",
    "        range_neighbor_repulsion=0.1,\n",
    "        range_geometry_repulsion=0.05,\n",
    "    ),\n",
    "    geometry=walkable_area.polygon,\n",
    "    trajectory_writer=jps.SqliteTrajectoryWriter(\n",
    "        output_file=pathlib.Path(trajectory_file),\n",
    "    ),\n",
    ")"
   ]
  },
  {
   "cell_type": "markdown",
   "metadata": {},
   "source": [
    "## Outlining Agent Journeys\n",
    "\n",
    "Having established the base configurations, it's time to outline the routes our agents will take. \n",
    "We've designated two distinct pathways:\n",
    "\n",
    "- The first route is a direct path, guiding agents along the shortest distance to the exit.\n",
    "- The second route, in contrast, takes agents on a more extended journey, guiding them along the longest distance to reach the same exit.\n",
    "\n",
    "These variations in routing are designed to showcase how agents navigate and respond under different evacuation strategies."
   ]
  },
  {
   "cell_type": "code",
   "execution_count": 31,
   "metadata": {},
   "outputs": [],
   "source": [
    "def set_journeys(simulation):\n",
    "    exit_id = simulation.add_exit_stage(exit_polygon)\n",
    "    waypoint_ids = []\n",
    "    for waypoint, distance in waypoints:\n",
    "        waypoint_ids.append(simulation.add_waypoint_stage(waypoint, distance))\n",
    "\n",
    "    long_journey = jps.JourneyDescription([*waypoint_ids[:], exit_id])\n",
    "    for idx, waypoint in enumerate(waypoint_ids):\n",
    "        next_waypoint = (\n",
    "            exit_id if idx == len(waypoint_ids) - 1 else waypoint_ids[idx + 1]\n",
    "        )\n",
    "        long_journey.set_transition_for_stage(\n",
    "            waypoint, jps.Transition.create_fixed_transition(next_waypoint)\n",
    "        )\n",
    "\n",
    "    short_journey = jps.JourneyDescription([waypoint_ids[0], exit_id])\n",
    "    short_journey.set_transition_for_stage(\n",
    "        waypoint_ids[0], jps.Transition.create_fixed_transition(exit_id)\n",
    "    )\n",
    "\n",
    "    long_journey_id = simulation.add_journey(long_journey)\n",
    "    short_journey_id = simulation.add_journey(short_journey)\n",
    "    return short_journey_id, long_journey_id, waypoint_ids[0]"
   ]
  },
  {
   "cell_type": "markdown",
   "metadata": {},
   "source": [
    "## Allocation and Configuration of Agents\n",
    "<a id=\"distribution\"></a>\n",
    "With our environment set up, it's time to introduce and configure the agents, utilizing the parameters we've previously discussed. We're going to place agents in two distinct groups, the proportion of which will be determined by the specified percentage parameter.\n",
    "\n",
    "- The first group will be directed to take the longer route to the exit.\n",
    "- Conversely, the second group will be guided along the shortest path to reach the exit.\n",
    "\n",
    "By doing so, we aim to observe and analyze the behaviors and dynamics between these two groups under varying evacuation strategies."
   ]
  },
  {
   "cell_type": "code",
   "execution_count": 32,
   "metadata": {},
   "outputs": [],
   "source": [
    "positions = jps.distribute_by_number(\n",
    "    polygon=distribution_polygon,\n",
    "    number_of_agents=total_agents,\n",
    "    distance_to_agents=0.5,\n",
    "    distance_to_polygon=0.7,\n",
    "    seed=45131502,\n",
    ")"
   ]
  },
  {
   "cell_type": "markdown",
   "metadata": {},
   "source": [
    "**Reminder:**\n",
    "\n",
    "Given that the journey operates as a graph, it's essential to designate the initial target for the agents by setting the `stage_id`."
   ]
  },
  {
   "cell_type": "markdown",
   "metadata": {},
   "source": [
    "## Launching the Simulations\n",
    "\n",
    "Having  configured our environment, agents, and routes, we are now poised to set the simulation into motion. For the purposes of this demonstration, agent trajectories throughout the simulation will be systematically captured and stored within an SQLite database. This will allow for a detailed post-analysis of agent behaviors and movement patterns.\n",
    "\n",
    "**Note**\n",
    "Given that we've set the time step at $dt=0.05$ seconds and aim to restrict the simulation duration to approximately 2 minutes, we will cap the number of iterations per simulation to 3000."
   ]
  },
  {
   "cell_type": "code",
   "execution_count": null,
   "metadata": {},
   "outputs": [],
   "source": [
    "short_journey_id, long_journey_id, first_waypoint_id = set_journeys(\n",
    "    simulation\n",
    ")\n",
    "\n",
    "num_items = int(len(positions) * (percentage / 100.0))\n",
    "\n",
    "for position in positions[num_items:]:\n",
    "    simulation.add_agent(\n",
    "        jps.CollisionFreeSpeedModelAgentParameters(\n",
    "            position=position,\n",
    "            journey_id=short_journey_id,\n",
    "            stage_id=first_waypoint_id,\n",
    "        )\n",
    "    )\n",
    "\n",
    "for position in positions[:num_items]:\n",
    "    simulation.add_agent(\n",
    "        jps.CollisionFreeSpeedModelAgentParameters(\n",
    "            position=position,\n",
    "            journey_id=long_journey_id,\n",
    "            stage_id=first_waypoint_id,\n",
    "        )\n",
    "    )\n",
    "\n",
    "while simulation.agent_count() > 0 and simulation.iteration_count() < 3000:\n",
    "    simulation.iterate()\n",
    "\n",
    "trajectory_file = f\"trajectories_percentage_{percentage}.sqlite\""
   ]
  },
  {
   "cell_type": "markdown",
   "metadata": {},
   "source": [
    "## Visualizing Agent Pathways\n",
    "\n",
    "To gain insights into the movement patterns of our agents, we'll visualize their trajectories. Data for this endeavor will be pulled directly from the SQLite database we've previously populated. "
   ]
  },
  {
   "cell_type": "code",
   "execution_count": 36,
   "metadata": {},
   "outputs": [
    {
     "data": {
      "application/vnd.plotly.v1+json": {
       "config": {
        "plotlyServerURL": "https://plot.ly"
       },
       "data": [
        {
         "hoverinfo": "name",
         "line": {
          "color": "grey"
         },
         "mode": "lines",
         "name": "Exterior",
         "showlegend": false,
         "type": "scatter",
         "x": {
          "bdata": "AAAAAAAAAAAAAAAAAAAAAAAAAAAAAERAAAAAAAAAREAAAAAAAAAAAA==",
          "dtype": "f8"
         },
         "y": {
          "bdata": "AAAAAAAANEAAAAAAAAAAAAAAAAAAAAAAAAAAAAAANEAAAAAAAAA0QA==",
          "dtype": "f8"
         }
        },
        {
         "hoverinfo": "name",
         "line": {
          "color": "grey"
         },
         "mode": "lines",
         "name": "Obstacle",
         "showlegend": false,
         "type": "scatter",
         "x": {
          "bdata": "AAAAAAAAFEAAAAAAAAAcQAAAAAAAABxAAAAAAAAAFEAAAAAAAAAUQA==",
          "dtype": "f8"
         },
         "y": {
          "bdata": "AAAAAAAAMEAAAAAAAAAwQAAAAAAAABBAAAAAAAAAEEAAAAAAAAAwQA==",
          "dtype": "f8"
         }
        },
        {
         "hoverinfo": "name",
         "line": {
          "color": "grey"
         },
         "mode": "lines",
         "name": "Obstacle",
         "showlegend": false,
         "type": "scatter",
         "x": {
          "bdata": "AAAAAAAAKkAAAAAAAAAuQAAAAAAAAC5AAAAAAAAAKkAAAAAAAAAqQA==",
          "dtype": "f8"
         },
         "y": {
          "bdata": "AAAAAAAAMEAAAAAAAAAwQAAAAAAAABBAAAAAAAAAEEAAAAAAAAAwQA==",
          "dtype": "f8"
         }
        },
        {
         "hoverinfo": "name",
         "line": {
          "color": "grey"
         },
         "mode": "lines",
         "name": "Obstacle",
         "showlegend": false,
         "type": "scatter",
         "x": {
          "bdata": "AAAAAAAAOUAAAAAAAAA7QAAAAAAAADtAAAAAAAAAOUAAAAAAAAA5QA==",
          "dtype": "f8"
         },
         "y": {
          "bdata": "AAAAAAAAMEAAAAAAAAAwQAAAAAAAABBAAAAAAAAAEEAAAAAAAAAwQA==",
          "dtype": "f8"
         }
        },
        {
         "hoverinfo": "name",
         "line": {
          "color": "grey"
         },
         "mode": "lines",
         "name": "Obstacle",
         "showlegend": false,
         "type": "scatter",
         "x": {
          "bdata": "AAAAAACAQEAAAAAAAIBBQAAAAAAAgEFAAAAAAACAQEAAAAAAAIBAQA==",
          "dtype": "f8"
         },
         "y": {
          "bdata": "AAAAAAAAMEAAAAAAAAAwQAAAAAAAABBAAAAAAAAAEEAAAAAAAAAwQA==",
          "dtype": "f8"
         }
        },
        {
         "hoverinfo": "none",
         "marker": {
          "cmax": 1.2000000000000035,
          "cmin": 0,
          "color": {
           "bdata": "vM3O69bz3z81zwt+yJ3gP2rBtb0Qh+k/X+q3Sbz68j/pLXgC2YXjPxTskur5mvI/FZmuie2q3D/5bnPGwsXfP7kRFdx1WOk/ArBKibTO6z+BgkSwuTLzP0zTwSV2TtY/G6zQ9k9d1j8wkQgo4TTjPwa1wMZAkuM/aCWVVk1x5j8LXKlgAUnlP+H4p0ossfI/v5cq6YPm7D/brXy4rg3zPw==",
           "dtype": "f8"
          },
          "colorbar": {
           "title": {
            "text": "Speed [m/s]"
           }
          },
          "colorscale": [
           [
            0,
            "rgb(128,0,0)"
           ],
           [
            0.2,
            "rgb(250,0,0)"
           ],
           [
            0.4,
            "rgb(255,255,0)"
           ],
           [
            0.6,
            "rgb(5,255,255)"
           ],
           [
            0.8,
            "rgb(0,60,170)"
           ],
           [
            1,
            "rgb(0,0,131)"
           ]
          ],
          "size": {
           "bdata": "mpmZmZmZ2T+amZmZmZnZP5qZmZmZmdk/mpmZmZmZ2T+amZmZmZnZP5qZmZmZmdk/mpmZmZmZ2T+amZmZmZnZP5qZmZmZmdk/mpmZmZmZ2T+amZmZmZnZP5qZmZmZmdk/mpmZmZmZ2T+amZmZmZnZP5qZmZmZmdk/mpmZmZmZ2T+amZmZmZnZP5qZmZmZmdk/mpmZmZmZ2T+amZmZmZnZPw==",
           "dtype": "f8"
          }
         },
         "mode": "markers",
         "showlegend": false,
         "text": {
          "bdata": "vM3O69bz3z81zwt+yJ3gP2rBtb0Qh+k/X+q3Sbz68j/pLXgC2YXjPxTskur5mvI/FZmuie2q3D/5bnPGwsXfP7kRFdx1WOk/ArBKibTO6z+BgkSwuTLzP0zTwSV2TtY/G6zQ9k9d1j8wkQgo4TTjPwa1wMZAkuM/aCWVVk1x5j8LXKlgAUnlP+H4p0ossfI/v5cq6YPm7D/brXy4rg3zPw==",
          "dtype": "f8"
         },
         "type": "scatter",
         "x": {
          "bdata": "SoFcg4wEQkAN7nZqhSJCQIJzmiv3AUJAqa7KPKbvQUBDbr227WtCQNQeP09HLEJABC2Wi/CLQkB2LQcUd4dCQJ9/7JHjAkJAecuduOcGQkDM/Tg5s1FCQAb7jAp9nEJARh4rSP73QUBMPgu/7yVCQB06Ji3MdEJA94ByVj6UQkDd61h4aEtCQBQdr6u1mkJAVkPb+RkmQkBOoDOSreNBQA==",
          "dtype": "f8"
         },
         "y": {
          "bdata": "mIm6GOBSH0DsA8k16eUoQFAPoUVQbSVAupuVqFSSKUD6oe2/p1MsQPpWJR77DipA3ksyUqljIUCptR3fgg4jQFCW/vEy6CdA1gJLkYjRIkA/pN3JIrstQNmXsFx7BSBAUkA+zt6pHEDberFB3EIhQKKj/EyEtCRAGFnOthngKUACVD1KAo0mQCDciOI8UBdAwJEMK1FVFkDDoWV3OmchQA==",
          "dtype": "f8"
         }
        },
        {
         "hoverinfo": "text",
         "marker": {
          "opacity": 1,
          "size": 1
         },
         "mode": "markers",
         "showlegend": false,
         "text": [
          "ID: 22, Pos(36.04,7.83)"
         ],
         "type": "scatter",
         "x": [
          36.035538120430445
         ],
         "y": [
          7.830932985673279
         ]
        },
        {
         "hoverinfo": "text",
         "marker": {
          "opacity": 1,
          "size": 1
         },
         "mode": "markers",
         "showlegend": false,
         "text": [
          "ID: 23, Pos(36.27,12.45)"
         ],
         "type": "scatter",
         "x": [
          36.26969652945636
         ],
         "y": [
          12.449044876850131
         ]
        },
        {
         "hoverinfo": "text",
         "marker": {
          "opacity": 1,
          "size": 1
         },
         "mode": "markers",
         "showlegend": false,
         "text": [
          "ID: 24, Pos(36.02,10.71)"
         ],
         "type": "scatter",
         "x": [
          36.01535553971827
         ],
         "y": [
          10.713503051672575
         ]
        },
        {
         "hoverinfo": "text",
         "marker": {
          "opacity": 1,
          "size": 1
         },
         "mode": "markers",
         "showlegend": false,
         "text": [
          "ID: 25, Pos(35.87,12.79)"
         ],
         "type": "scatter",
         "x": [
          35.87226066490741
         ],
         "y": [
          12.785802143347485
         ]
        },
        {
         "hoverinfo": "text",
         "marker": {
          "opacity": 1,
          "size": 1
         },
         "mode": "markers",
         "showlegend": false,
         "text": [
          "ID: 26, Pos(36.84,14.16)"
         ],
         "type": "scatter",
         "x": [
          36.84319195031687
         ],
         "y": [
          14.163389203794384
         ]
        },
        {
         "hoverinfo": "text",
         "marker": {
          "opacity": 1,
          "size": 1
         },
         "mode": "markers",
         "showlegend": false,
         "text": [
          "ID: 27, Pos(36.35,13.03)"
         ],
         "type": "scatter",
         "x": [
          36.34592619497349
         ],
         "y": [
          13.029259626443935
         ]
        },
        {
         "hoverinfo": "text",
         "marker": {
          "opacity": 1,
          "size": 1
         },
         "mode": "markers",
         "showlegend": false,
         "text": [
          "ID: 28, Pos(37.09,8.69)"
         ],
         "type": "scatter",
         "x": [
          37.093278358772324
         ],
         "y": [
          8.694651192321484
         ]
        },
        {
         "hoverinfo": "text",
         "marker": {
          "opacity": 1,
          "size": 1
         },
         "mode": "markers",
         "showlegend": false,
         "text": [
          "ID: 29, Pos(37.06,9.53)"
         ],
         "type": "scatter",
         "x": [
          37.05832147932499
         ],
         "y": [
          9.528342220665609
         ]
        },
        {
         "hoverinfo": "text",
         "marker": {
          "opacity": 1,
          "size": 1
         },
         "mode": "markers",
         "showlegend": false,
         "text": [
          "ID: 30, Pos(36.02,11.95)"
         ],
         "type": "scatter",
         "x": [
          36.022569885709565
         ],
         "y": [
          11.953513681724104
         ]
        },
        {
         "hoverinfo": "text",
         "marker": {
          "opacity": 1,
          "size": 1
         },
         "mode": "markers",
         "showlegend": false,
         "text": [
          "ID: 31, Pos(36.05,9.41)"
         ],
         "type": "scatter",
         "x": [
          36.05394656853509
         ],
         "y": [
          9.409245052725435
         ]
        },
        {
         "hoverinfo": "text",
         "marker": {
          "opacity": 1,
          "size": 1
         },
         "mode": "markers",
         "showlegend": false,
         "text": [
          "ID: 32, Pos(36.64,14.87)"
         ],
         "type": "scatter",
         "x": [
          36.638281967952565
         ],
         "y": [
          14.865499790483339
         ]
        },
        {
         "hoverinfo": "text",
         "marker": {
          "opacity": 1,
          "size": 1
         },
         "mode": "markers",
         "showlegend": false,
         "text": [
          "ID: 33, Pos(37.22,8.01)"
         ],
         "type": "scatter",
         "x": [
          37.22256595500771
         ],
         "y": [
          8.010706802899152
         ]
        },
        {
         "hoverinfo": "text",
         "marker": {
          "opacity": 1,
          "size": 1
         },
         "mode": "markers",
         "showlegend": false,
         "text": [
          "ID: 34, Pos(35.94,7.17)"
         ],
         "type": "scatter",
         "x": [
          35.9374475679911
         ],
         "y": [
          7.165888998555674
         ]
        },
        {
         "hoverinfo": "text",
         "marker": {
          "opacity": 1,
          "size": 1
         },
         "mode": "markers",
         "showlegend": false,
         "text": [
          "ID: 35, Pos(36.30,8.63)"
         ],
         "type": "scatter",
         "x": [
          36.29637897538177
         ],
         "y": [
          8.63058667460921
         ]
        },
        {
         "hoverinfo": "text",
         "marker": {
          "opacity": 1,
          "size": 1
         },
         "mode": "markers",
         "showlegend": false,
         "text": [
          "ID: 36, Pos(36.91,10.35)"
         ],
         "type": "scatter",
         "x": [
          36.912480968156366
         ],
         "y": [
          10.3525718744657
         ]
        },
        {
         "hoverinfo": "text",
         "marker": {
          "opacity": 1,
          "size": 1
         },
         "mode": "markers",
         "showlegend": false,
         "text": [
          "ID: 37, Pos(37.16,12.94)"
         ],
         "type": "scatter",
         "x": [
          37.158152395162624
         ],
         "y": [
          12.937696182908027
         ]
        },
        {
         "hoverinfo": "text",
         "marker": {
          "opacity": 1,
          "size": 1
         },
         "mode": "markers",
         "showlegend": false,
         "text": [
          "ID: 38, Pos(36.59,11.28)"
         ],
         "type": "scatter",
         "x": [
          36.58912567464697
         ],
         "y": [
          11.275408096300456
         ]
        },
        {
         "hoverinfo": "text",
         "marker": {
          "opacity": 1,
          "size": 1
         },
         "mode": "markers",
         "showlegend": false,
         "text": [
          "ID: 39, Pos(37.21,5.83)"
         ],
         "type": "scatter",
         "x": [
          37.208669147972756
         ],
         "y": [
          5.82835725746466
         ]
        },
        {
         "hoverinfo": "text",
         "marker": {
          "opacity": 1,
          "size": 1
         },
         "mode": "markers",
         "showlegend": false,
         "text": [
          "ID: 40, Pos(36.30,5.58)"
         ],
         "type": "scatter",
         "x": [
          36.29766772466853
         ],
         "y": [
          5.583317444460079
         ]
        },
        {
         "hoverinfo": "text",
         "marker": {
          "opacity": 1,
          "size": 1
         },
         "mode": "markers",
         "showlegend": false,
         "text": [
          "ID: 41, Pos(35.78,8.70)"
         ],
         "type": "scatter",
         "x": [
          35.77873446961222
         ],
         "y": [
          8.701617938190685
         ]
        }
       ],
       "frames": [
        {
         "data": [
          {
           "hoverinfo": "name",
           "line": {
            "color": "grey"
           },
           "mode": "lines",
           "name": "Exterior",
           "showlegend": false,
           "type": "scatter",
           "x": {
            "bdata": "AAAAAAAAAAAAAAAAAAAAAAAAAAAAAERAAAAAAAAAREAAAAAAAAAAAA==",
            "dtype": "f8"
           },
           "y": {
            "bdata": "AAAAAAAANEAAAAAAAAAAAAAAAAAAAAAAAAAAAAAANEAAAAAAAAA0QA==",
            "dtype": "f8"
           }
          },
          {
           "hoverinfo": "name",
           "line": {
            "color": "grey"
           },
           "mode": "lines",
           "name": "Obstacle",
           "showlegend": false,
           "type": "scatter",
           "x": {
            "bdata": "AAAAAAAAFEAAAAAAAAAcQAAAAAAAABxAAAAAAAAAFEAAAAAAAAAUQA==",
            "dtype": "f8"
           },
           "y": {
            "bdata": "AAAAAAAAMEAAAAAAAAAwQAAAAAAAABBAAAAAAAAAEEAAAAAAAAAwQA==",
            "dtype": "f8"
           }
          },
          {
           "hoverinfo": "name",
           "line": {
            "color": "grey"
           },
           "mode": "lines",
           "name": "Obstacle",
           "showlegend": false,
           "type": "scatter",
           "x": {
            "bdata": "AAAAAAAAKkAAAAAAAAAuQAAAAAAAAC5AAAAAAAAAKkAAAAAAAAAqQA==",
            "dtype": "f8"
           },
           "y": {
            "bdata": "AAAAAAAAMEAAAAAAAAAwQAAAAAAAABBAAAAAAAAAEEAAAAAAAAAwQA==",
            "dtype": "f8"
           }
          },
          {
           "hoverinfo": "name",
           "line": {
            "color": "grey"
           },
           "mode": "lines",
           "name": "Obstacle",
           "showlegend": false,
           "type": "scatter",
           "x": {
            "bdata": "AAAAAAAAOUAAAAAAAAA7QAAAAAAAADtAAAAAAAAAOUAAAAAAAAA5QA==",
            "dtype": "f8"
           },
           "y": {
            "bdata": "AAAAAAAAMEAAAAAAAAAwQAAAAAAAABBAAAAAAAAAEEAAAAAAAAAwQA==",
            "dtype": "f8"
           }
          },
          {
           "hoverinfo": "name",
           "line": {
            "color": "grey"
           },
           "mode": "lines",
           "name": "Obstacle",
           "showlegend": false,
           "type": "scatter",
           "x": {
            "bdata": "AAAAAACAQEAAAAAAAIBBQAAAAAAAgEFAAAAAAACAQEAAAAAAAIBAQA==",
            "dtype": "f8"
           },
           "y": {
            "bdata": "AAAAAAAAMEAAAAAAAAAwQAAAAAAAABBAAAAAAAAAEEAAAAAAAAAwQA==",
            "dtype": "f8"
           }
          },
          {
           "hoverinfo": "text",
           "marker": {
            "opacity": 1,
            "size": 1
           },
           "mode": "markers",
           "showlegend": false,
           "text": [
            "ID: 22, Pos(36.04,7.83)"
           ],
           "type": "scatter",
           "x": [
            36.035538120430445
           ],
           "y": [
            7.830932985673279
           ]
          },
          {
           "hoverinfo": "text",
           "marker": {
            "opacity": 1,
            "size": 1
           },
           "mode": "markers",
           "showlegend": false,
           "text": [
            "ID: 23, Pos(36.27,12.45)"
           ],
           "type": "scatter",
           "x": [
            36.26969652945636
           ],
           "y": [
            12.449044876850131
           ]
          },
          {
           "hoverinfo": "text",
           "marker": {
            "opacity": 1,
            "size": 1
           },
           "mode": "markers",
           "showlegend": false,
           "text": [
            "ID: 24, Pos(36.02,10.71)"
           ],
           "type": "scatter",
           "x": [
            36.01535553971827
           ],
           "y": [
            10.713503051672575
           ]
          },
          {
           "hoverinfo": "text",
           "marker": {
            "opacity": 1,
            "size": 1
           },
           "mode": "markers",
           "showlegend": false,
           "text": [
            "ID: 25, Pos(35.87,12.79)"
           ],
           "type": "scatter",
           "x": [
            35.87226066490741
           ],
           "y": [
            12.785802143347485
           ]
          },
          {
           "hoverinfo": "text",
           "marker": {
            "opacity": 1,
            "size": 1
           },
           "mode": "markers",
           "showlegend": false,
           "text": [
            "ID: 26, Pos(36.84,14.16)"
           ],
           "type": "scatter",
           "x": [
            36.84319195031687
           ],
           "y": [
            14.163389203794384
           ]
          },
          {
           "hoverinfo": "text",
           "marker": {
            "opacity": 1,
            "size": 1
           },
           "mode": "markers",
           "showlegend": false,
           "text": [
            "ID: 27, Pos(36.35,13.03)"
           ],
           "type": "scatter",
           "x": [
            36.34592619497349
           ],
           "y": [
            13.029259626443935
           ]
          },
          {
           "hoverinfo": "text",
           "marker": {
            "opacity": 1,
            "size": 1
           },
           "mode": "markers",
           "showlegend": false,
           "text": [
            "ID: 28, Pos(37.09,8.69)"
           ],
           "type": "scatter",
           "x": [
            37.093278358772324
           ],
           "y": [
            8.694651192321484
           ]
          },
          {
           "hoverinfo": "text",
           "marker": {
            "opacity": 1,
            "size": 1
           },
           "mode": "markers",
           "showlegend": false,
           "text": [
            "ID: 29, Pos(37.06,9.53)"
           ],
           "type": "scatter",
           "x": [
            37.05832147932499
           ],
           "y": [
            9.528342220665609
           ]
          },
          {
           "hoverinfo": "text",
           "marker": {
            "opacity": 1,
            "size": 1
           },
           "mode": "markers",
           "showlegend": false,
           "text": [
            "ID: 30, Pos(36.02,11.95)"
           ],
           "type": "scatter",
           "x": [
            36.022569885709565
           ],
           "y": [
            11.953513681724104
           ]
          },
          {
           "hoverinfo": "text",
           "marker": {
            "opacity": 1,
            "size": 1
           },
           "mode": "markers",
           "showlegend": false,
           "text": [
            "ID: 31, Pos(36.05,9.41)"
           ],
           "type": "scatter",
           "x": [
            36.05394656853509
           ],
           "y": [
            9.409245052725435
           ]
          },
          {
           "hoverinfo": "text",
           "marker": {
            "opacity": 1,
            "size": 1
           },
           "mode": "markers",
           "showlegend": false,
           "text": [
            "ID: 32, Pos(36.64,14.87)"
           ],
           "type": "scatter",
           "x": [
            36.638281967952565
           ],
           "y": [
            14.865499790483339
           ]
          },
          {
           "hoverinfo": "text",
           "marker": {
            "opacity": 1,
            "size": 1
           },
           "mode": "markers",
           "showlegend": false,
           "text": [
            "ID: 33, Pos(37.22,8.01)"
           ],
           "type": "scatter",
           "x": [
            37.22256595500771
           ],
           "y": [
            8.010706802899152
           ]
          },
          {
           "hoverinfo": "text",
           "marker": {
            "opacity": 1,
            "size": 1
           },
           "mode": "markers",
           "showlegend": false,
           "text": [
            "ID: 34, Pos(35.94,7.17)"
           ],
           "type": "scatter",
           "x": [
            35.9374475679911
           ],
           "y": [
            7.165888998555674
           ]
          },
          {
           "hoverinfo": "text",
           "marker": {
            "opacity": 1,
            "size": 1
           },
           "mode": "markers",
           "showlegend": false,
           "text": [
            "ID: 35, Pos(36.30,8.63)"
           ],
           "type": "scatter",
           "x": [
            36.29637897538177
           ],
           "y": [
            8.63058667460921
           ]
          },
          {
           "hoverinfo": "text",
           "marker": {
            "opacity": 1,
            "size": 1
           },
           "mode": "markers",
           "showlegend": false,
           "text": [
            "ID: 36, Pos(36.91,10.35)"
           ],
           "type": "scatter",
           "x": [
            36.912480968156366
           ],
           "y": [
            10.3525718744657
           ]
          },
          {
           "hoverinfo": "text",
           "marker": {
            "opacity": 1,
            "size": 1
           },
           "mode": "markers",
           "showlegend": false,
           "text": [
            "ID: 37, Pos(37.16,12.94)"
           ],
           "type": "scatter",
           "x": [
            37.158152395162624
           ],
           "y": [
            12.937696182908027
           ]
          },
          {
           "hoverinfo": "text",
           "marker": {
            "opacity": 1,
            "size": 1
           },
           "mode": "markers",
           "showlegend": false,
           "text": [
            "ID: 38, Pos(36.59,11.28)"
           ],
           "type": "scatter",
           "x": [
            36.58912567464697
           ],
           "y": [
            11.275408096300456
           ]
          },
          {
           "hoverinfo": "text",
           "marker": {
            "opacity": 1,
            "size": 1
           },
           "mode": "markers",
           "showlegend": false,
           "text": [
            "ID: 39, Pos(37.21,5.83)"
           ],
           "type": "scatter",
           "x": [
            37.208669147972756
           ],
           "y": [
            5.82835725746466
           ]
          },
          {
           "hoverinfo": "text",
           "marker": {
            "opacity": 1,
            "size": 1
           },
           "mode": "markers",
           "showlegend": false,
           "text": [
            "ID: 40, Pos(36.30,5.58)"
           ],
           "type": "scatter",
           "x": [
            36.29766772466853
           ],
           "y": [
            5.583317444460079
           ]
          },
          {
           "hoverinfo": "text",
           "marker": {
            "opacity": 1,
            "size": 1
           },
           "mode": "markers",
           "showlegend": false,
           "text": [
            "ID: 41, Pos(35.78,8.70)"
           ],
           "type": "scatter",
           "x": [
            35.77873446961222
           ],
           "y": [
            8.701617938190685
           ]
          }
         ],
         "layout": {
          "shapes": [
           {
            "fillcolor": "rgba(209, 255, 38, 0.5)",
            "line": {
             "color": "rgba(209, 255, 38, 0.5)"
            },
            "type": "circle",
            "x0": 35.83553812043044,
            "x1": 36.23553812043045,
            "xref": "x",
            "y0": 7.630932985673279,
            "y1": 8.030932985673278,
            "yref": "y"
           },
           {
            "fillcolor": "rgba(193, 255, 54, 0.5)",
            "line": {
             "color": "rgba(193, 255, 54, 0.5)"
            },
            "type": "circle",
            "x0": 36.06969652945636,
            "x1": 36.469696529456364,
            "xref": "x",
            "y0": 12.249044876850132,
            "y1": 12.64904487685013,
            "yref": "y"
           },
           {
            "fillcolor": "rgba(0, 224, 251, 0.5)",
            "line": {
             "color": "rgba(0, 224, 251, 0.5)"
            },
            "type": "circle",
            "x0": 35.81535553971827,
            "x1": 36.215355539718274,
            "xref": "x",
            "y0": 10.513503051672576,
            "y1": 10.913503051672574,
            "yref": "y"
           },
           {
            "fillcolor": "rgba(0, 0, 141, 0.5)",
            "line": {
             "color": "rgba(0, 0, 141, 0.5)"
            },
            "type": "circle",
            "x0": 35.672260664907405,
            "x1": 36.07226066490741,
            "xref": "x",
            "y0": 12.585802143347486,
            "y1": 12.985802143347485,
            "yref": "y"
           },
           {
            "fillcolor": "rgba(128, 255, 119, 0.5)",
            "line": {
             "color": "rgba(128, 255, 119, 0.5)"
            },
            "type": "circle",
            "x0": 36.64319195031687,
            "x1": 37.043191950316874,
            "xref": "x",
            "y0": 13.963389203794385,
            "y1": 14.363389203794384,
            "yref": "y"
           },
           {
            "fillcolor": "rgba(0, 0, 164, 0.5)",
            "line": {
             "color": "rgba(0, 0, 164, 0.5)"
            },
            "type": "circle",
            "x0": 36.145926194973484,
            "x1": 36.54592619497349,
            "xref": "x",
            "y0": 12.829259626443935,
            "y1": 13.229259626443934,
            "yref": "y"
           },
           {
            "fillcolor": "rgba(244, 248, 2, 0.5)",
            "line": {
             "color": "rgba(244, 248, 2, 0.5)"
            },
            "type": "circle",
            "x0": 36.89327835877232,
            "x1": 37.293278358772326,
            "xref": "x",
            "y0": 8.494651192321484,
            "y1": 8.894651192321483,
            "yref": "y"
           },
           {
            "fillcolor": "rgba(209, 255, 38, 0.5)",
            "line": {
             "color": "rgba(209, 255, 38, 0.5)"
            },
            "type": "circle",
            "x0": 36.858321479324985,
            "x1": 37.25832147932499,
            "xref": "x",
            "y0": 9.32834222066561,
            "y1": 9.728342220665608,
            "yref": "y"
           },
           {
            "fillcolor": "rgba(0, 228, 248, 0.5)",
            "line": {
             "color": "rgba(0, 228, 248, 0.5)"
            },
            "type": "circle",
            "x0": 35.82256988570956,
            "x1": 36.22256988570957,
            "xref": "x",
            "y0": 11.753513681724105,
            "y1": 12.153513681724103,
            "yref": "y"
           },
           {
            "fillcolor": "rgba(0, 160, 255, 0.5)",
            "line": {
             "color": "rgba(0, 160, 255, 0.5)"
            },
            "type": "circle",
            "x0": 35.853946568535086,
            "x1": 36.25394656853509,
            "xref": "x",
            "y0": 9.209245052725436,
            "y1": 9.609245052725434,
            "yref": "y"
           },
           {
            "fillcolor": "rgba(0, 0, 128, 0.5)",
            "line": {
             "color": "rgba(0, 0, 128, 0.5)"
            },
            "type": "circle",
            "x0": 36.43828196795256,
            "x1": 36.83828196795257,
            "xref": "x",
            "y0": 14.66549979048334,
            "y1": 15.065499790483338,
            "yref": "y"
           },
           {
            "fillcolor": "rgba(255, 167, 0, 0.5)",
            "line": {
             "color": "rgba(255, 167, 0, 0.5)"
            },
            "type": "circle",
            "x0": 37.02256595500771,
            "x1": 37.42256595500771,
            "xref": "x",
            "y0": 7.810706802899152,
            "y1": 8.210706802899152,
            "yref": "y"
           },
           {
            "fillcolor": "rgba(255, 167, 0, 0.5)",
            "line": {
             "color": "rgba(255, 167, 0, 0.5)"
            },
            "type": "circle",
            "x0": 35.7374475679911,
            "x1": 36.1374475679911,
            "xref": "x",
            "y0": 6.965888998555674,
            "y1": 7.365888998555675,
            "yref": "y"
           },
           {
            "fillcolor": "rgba(135, 255, 112, 0.5)",
            "line": {
             "color": "rgba(135, 255, 112, 0.5)"
            },
            "type": "circle",
            "x0": 36.09637897538177,
            "x1": 36.496378975381774,
            "xref": "x",
            "y0": 8.430586674609211,
            "y1": 8.83058667460921,
            "yref": "y"
           },
           {
            "fillcolor": "rgba(128, 255, 119, 0.5)",
            "line": {
             "color": "rgba(128, 255, 119, 0.5)"
            },
            "type": "circle",
            "x0": 36.71248096815636,
            "x1": 37.11248096815637,
            "xref": "x",
            "y0": 10.1525718744657,
            "y1": 10.552571874465698,
            "yref": "y"
           },
           {
            "fillcolor": "rgba(64, 255, 183, 0.5)",
            "line": {
             "color": "rgba(64, 255, 183, 0.5)"
            },
            "type": "circle",
            "x0": 36.95815239516262,
            "x1": 37.35815239516263,
            "xref": "x",
            "y0": 12.737696182908028,
            "y1": 13.137696182908027,
            "yref": "y"
           },
           {
            "fillcolor": "rgba(90, 255, 157, 0.5)",
            "line": {
             "color": "rgba(90, 255, 157, 0.5)"
            },
            "type": "circle",
            "x0": 36.38912567464697,
            "x1": 36.789125674646975,
            "xref": "x",
            "y0": 11.075408096300457,
            "y1": 11.475408096300455,
            "yref": "y"
           },
           {
            "fillcolor": "rgba(0, 0, 155, 0.5)",
            "line": {
             "color": "rgba(0, 0, 155, 0.5)"
            },
            "type": "circle",
            "x0": 37.00866914797275,
            "x1": 37.40866914797276,
            "xref": "x",
            "y0": 5.62835725746466,
            "y1": 6.02835725746466,
            "yref": "y"
           },
           {
            "fillcolor": "rgba(0, 132, 255, 0.5)",
            "line": {
             "color": "rgba(0, 132, 255, 0.5)"
            },
            "type": "circle",
            "x0": 36.097667724668526,
            "x1": 36.49766772466853,
            "xref": "x",
            "y0": 5.383317444460078,
            "y1": 5.783317444460079,
            "yref": "y"
           },
           {
            "fillcolor": "rgba(0, 0, 137, 0.5)",
            "line": {
             "color": "rgba(0, 0, 137, 0.5)"
            },
            "type": "circle",
            "x0": 35.578734469612215,
            "x1": 35.97873446961222,
            "xref": "x",
            "y0": 8.501617938190686,
            "y1": 8.901617938190684,
            "yref": "y"
           },
           {
            "line": {
             "color": "black",
             "width": 3
            },
            "type": "line",
            "x0": 36.035538120430445,
            "x1": 36.035538120430445,
            "y0": 7.830932985673279,
            "y1": 7.830932985673279
           },
           {
            "line": {
             "color": "black",
             "width": 3
            },
            "type": "line",
            "x0": 36.26969652945636,
            "x1": 36.26969652945636,
            "y0": 12.449044876850131,
            "y1": 12.449044876850131
           },
           {
            "line": {
             "color": "black",
             "width": 3
            },
            "type": "line",
            "x0": 36.01535553971827,
            "x1": 36.01535553971827,
            "y0": 10.713503051672575,
            "y1": 10.713503051672575
           },
           {
            "line": {
             "color": "white",
             "width": 3
            },
            "type": "line",
            "x0": 35.87226066490741,
            "x1": 35.87226066490741,
            "y0": 12.785802143347485,
            "y1": 12.785802143347485
           },
           {
            "line": {
             "color": "black",
             "width": 3
            },
            "type": "line",
            "x0": 36.84319195031687,
            "x1": 36.84319195031687,
            "y0": 14.163389203794384,
            "y1": 14.163389203794384
           },
           {
            "line": {
             "color": "white",
             "width": 3
            },
            "type": "line",
            "x0": 36.34592619497349,
            "x1": 36.34592619497349,
            "y0": 13.029259626443935,
            "y1": 13.029259626443935
           },
           {
            "line": {
             "color": "black",
             "width": 3
            },
            "type": "line",
            "x0": 37.093278358772324,
            "x1": 37.093278358772324,
            "y0": 8.694651192321484,
            "y1": 8.694651192321484
           },
           {
            "line": {
             "color": "black",
             "width": 3
            },
            "type": "line",
            "x0": 37.05832147932499,
            "x1": 37.05832147932499,
            "y0": 9.528342220665609,
            "y1": 9.528342220665609
           },
           {
            "line": {
             "color": "black",
             "width": 3
            },
            "type": "line",
            "x0": 36.022569885709565,
            "x1": 36.022569885709565,
            "y0": 11.953513681724104,
            "y1": 11.953513681724104
           },
           {
            "line": {
             "color": "white",
             "width": 3
            },
            "type": "line",
            "x0": 36.05394656853509,
            "x1": 36.05394656853509,
            "y0": 9.409245052725435,
            "y1": 9.409245052725435
           },
           {
            "line": {
             "color": "white",
             "width": 3
            },
            "type": "line",
            "x0": 36.638281967952565,
            "x1": 36.638281967952565,
            "y0": 14.865499790483339,
            "y1": 14.865499790483339
           },
           {
            "line": {
             "color": "black",
             "width": 3
            },
            "type": "line",
            "x0": 37.22256595500771,
            "x1": 37.22256595500771,
            "y0": 8.010706802899152,
            "y1": 8.010706802899152
           },
           {
            "line": {
             "color": "black",
             "width": 3
            },
            "type": "line",
            "x0": 35.9374475679911,
            "x1": 35.9374475679911,
            "y0": 7.165888998555674,
            "y1": 7.165888998555674
           },
           {
            "line": {
             "color": "black",
             "width": 3
            },
            "type": "line",
            "x0": 36.29637897538177,
            "x1": 36.29637897538177,
            "y0": 8.63058667460921,
            "y1": 8.63058667460921
           },
           {
            "line": {
             "color": "black",
             "width": 3
            },
            "type": "line",
            "x0": 36.912480968156366,
            "x1": 36.912480968156366,
            "y0": 10.3525718744657,
            "y1": 10.3525718744657
           },
           {
            "line": {
             "color": "black",
             "width": 3
            },
            "type": "line",
            "x0": 37.158152395162624,
            "x1": 37.158152395162624,
            "y0": 12.937696182908027,
            "y1": 12.937696182908027
           },
           {
            "line": {
             "color": "black",
             "width": 3
            },
            "type": "line",
            "x0": 36.58912567464697,
            "x1": 36.58912567464697,
            "y0": 11.275408096300456,
            "y1": 11.275408096300456
           },
           {
            "line": {
             "color": "white",
             "width": 3
            },
            "type": "line",
            "x0": 37.208669147972756,
            "x1": 37.208669147972756,
            "y0": 5.82835725746466,
            "y1": 5.82835725746466
           },
           {
            "line": {
             "color": "white",
             "width": 3
            },
            "type": "line",
            "x0": 36.29766772466853,
            "x1": 36.29766772466853,
            "y0": 5.583317444460079,
            "y1": 5.583317444460079
           },
           {
            "line": {
             "color": "white",
             "width": 3
            },
            "type": "line",
            "x0": 35.77873446961222,
            "x1": 35.77873446961222,
            "y0": 8.701617938190685,
            "y1": 8.701617938190685
           }
          ],
          "title": {
           "text": "<b>Percentage: 0%  |  Number of Agents: 20</b>",
           "x": 0.5
          }
         },
         "name": "0"
        },
        {
         "data": [
          {
           "hoverinfo": "name",
           "line": {
            "color": "grey"
           },
           "mode": "lines",
           "name": "Exterior",
           "showlegend": false,
           "type": "scatter",
           "x": {
            "bdata": "AAAAAAAAAAAAAAAAAAAAAAAAAAAAAERAAAAAAAAAREAAAAAAAAAAAA==",
            "dtype": "f8"
           },
           "y": {
            "bdata": "AAAAAAAANEAAAAAAAAAAAAAAAAAAAAAAAAAAAAAANEAAAAAAAAA0QA==",
            "dtype": "f8"
           }
          },
          {
           "hoverinfo": "name",
           "line": {
            "color": "grey"
           },
           "mode": "lines",
           "name": "Obstacle",
           "showlegend": false,
           "type": "scatter",
           "x": {
            "bdata": "AAAAAAAAFEAAAAAAAAAcQAAAAAAAABxAAAAAAAAAFEAAAAAAAAAUQA==",
            "dtype": "f8"
           },
           "y": {
            "bdata": "AAAAAAAAMEAAAAAAAAAwQAAAAAAAABBAAAAAAAAAEEAAAAAAAAAwQA==",
            "dtype": "f8"
           }
          },
          {
           "hoverinfo": "name",
           "line": {
            "color": "grey"
           },
           "mode": "lines",
           "name": "Obstacle",
           "showlegend": false,
           "type": "scatter",
           "x": {
            "bdata": "AAAAAAAAKkAAAAAAAAAuQAAAAAAAAC5AAAAAAAAAKkAAAAAAAAAqQA==",
            "dtype": "f8"
           },
           "y": {
            "bdata": "AAAAAAAAMEAAAAAAAAAwQAAAAAAAABBAAAAAAAAAEEAAAAAAAAAwQA==",
            "dtype": "f8"
           }
          },
          {
           "hoverinfo": "name",
           "line": {
            "color": "grey"
           },
           "mode": "lines",
           "name": "Obstacle",
           "showlegend": false,
           "type": "scatter",
           "x": {
            "bdata": "AAAAAAAAOUAAAAAAAAA7QAAAAAAAADtAAAAAAAAAOUAAAAAAAAA5QA==",
            "dtype": "f8"
           },
           "y": {
            "bdata": "AAAAAAAAMEAAAAAAAAAwQAAAAAAAABBAAAAAAAAAEEAAAAAAAAAwQA==",
            "dtype": "f8"
           }
          },
          {
           "hoverinfo": "name",
           "line": {
            "color": "grey"
           },
           "mode": "lines",
           "name": "Obstacle",
           "showlegend": false,
           "type": "scatter",
           "x": {
            "bdata": "AAAAAACAQEAAAAAAAIBBQAAAAAAAgEFAAAAAAACAQEAAAAAAAIBAQA==",
            "dtype": "f8"
           },
           "y": {
            "bdata": "AAAAAAAAMEAAAAAAAAAwQAAAAAAAABBAAAAAAAAAEEAAAAAAAAAwQA==",
            "dtype": "f8"
           }
          },
          {
           "hoverinfo": "text",
           "marker": {
            "opacity": 1,
            "size": 1
           },
           "mode": "markers",
           "showlegend": false,
           "text": [
            "ID: 22, Pos(35.35,13.82)"
           ],
           "type": "scatter",
           "x": [
            35.34596365344187
           ],
           "y": [
            13.822933682270843
           ]
          },
          {
           "hoverinfo": "text",
           "marker": {
            "opacity": 1,
            "size": 1
           },
           "mode": "markers",
           "showlegend": false,
           "text": [
            "ID: 23, Pos(31.00,17.41)"
           ],
           "type": "scatter",
           "x": [
            31.001665393246217
           ],
           "y": [
            17.408918829649345
           ]
          },
          {
           "hoverinfo": "text",
           "marker": {
            "opacity": 1,
            "size": 1
           },
           "mode": "markers",
           "showlegend": false,
           "text": [
            "ID: 24, Pos(35.29,15.83)"
           ],
           "type": "scatter",
           "x": [
            35.28835855209495
           ],
           "y": [
            15.828493212562604
           ]
          },
          {
           "hoverinfo": "text",
           "marker": {
            "opacity": 1,
            "size": 1
           },
           "mode": "markers",
           "showlegend": false,
           "text": [
            "ID: 25, Pos(28.50,16.97)"
           ],
           "type": "scatter",
           "x": [
            28.50204475568988
           ],
           "y": [
            16.96608831493701
           ]
          },
          {
           "hoverinfo": "text",
           "marker": {
            "opacity": 1,
            "size": 1
           },
           "mode": "markers",
           "showlegend": false,
           "text": [
            "ID: 26, Pos(26.91,17.12)"
           ],
           "type": "scatter",
           "x": [
            26.910923649335626
           ],
           "y": [
            17.11763090444121
           ]
          },
          {
           "hoverinfo": "text",
           "marker": {
            "opacity": 1,
            "size": 1
           },
           "mode": "markers",
           "showlegend": false,
           "text": [
            "ID: 27, Pos(31.60,16.64)"
           ],
           "type": "scatter",
           "x": [
            31.604420766387275
           ],
           "y": [
            16.638782302433906
           ]
          },
          {
           "hoverinfo": "text",
           "marker": {
            "opacity": 1,
            "size": 1
           },
           "mode": "markers",
           "showlegend": false,
           "text": [
            "ID: 28, Pos(35.94,14.08)"
           ],
           "type": "scatter",
           "x": [
            35.939611051104606
           ],
           "y": [
            14.084694571290003
           ]
          },
          {
           "hoverinfo": "text",
           "marker": {
            "opacity": 1,
            "size": 1
           },
           "mode": "markers",
           "showlegend": false,
           "text": [
            "ID: 29, Pos(35.87,14.86)"
           ],
           "type": "scatter",
           "x": [
            35.87060807157453
           ],
           "y": [
            14.860608270069156
           ]
          },
          {
           "hoverinfo": "text",
           "marker": {
            "opacity": 1,
            "size": 1
           },
           "mode": "markers",
           "showlegend": false,
           "text": [
            "ID: 30, Pos(34.31,16.50)"
           ],
           "type": "scatter",
           "x": [
            34.30841699181389
           ],
           "y": [
            16.502540852332483
           ]
          },
          {
           "hoverinfo": "text",
           "marker": {
            "opacity": 1,
            "size": 1
           },
           "mode": "markers",
           "showlegend": false,
           "text": [
            "ID: 31, Pos(35.80,15.80)"
           ],
           "type": "scatter",
           "x": [
            35.80414520104222
           ],
           "y": [
            15.797169622950552
           ]
          },
          {
           "hoverinfo": "text",
           "marker": {
            "opacity": 1,
            "size": 1
           },
           "mode": "markers",
           "showlegend": false,
           "text": [
            "ID: 32, Pos(25.31,17.22)"
           ],
           "type": "scatter",
           "x": [
            25.314246921058132
           ],
           "y": [
            17.21924201657035
           ]
          },
          {
           "hoverinfo": "text",
           "marker": {
            "opacity": 1,
            "size": 1
           },
           "mode": "markers",
           "showlegend": false,
           "text": [
            "ID: 33, Pos(36.02,13.28)"
           ],
           "type": "scatter",
           "x": [
            36.016798830643125
           ],
           "y": [
            13.282703362587007
           ]
          },
          {
           "hoverinfo": "text",
           "marker": {
            "opacity": 1,
            "size": 1
           },
           "mode": "markers",
           "showlegend": false,
           "text": [
            "ID: 34, Pos(35.37,13.04)"
           ],
           "type": "scatter",
           "x": [
            35.37170740116641
           ],
           "y": [
            13.03689860849595
           ]
          },
          {
           "hoverinfo": "text",
           "marker": {
            "opacity": 1,
            "size": 1
           },
           "mode": "markers",
           "showlegend": false,
           "text": [
            "ID: 35, Pos(35.33,14.55)"
           ],
           "type": "scatter",
           "x": [
            35.326995337250565
           ],
           "y": [
            14.545621312704412
           ]
          },
          {
           "hoverinfo": "text",
           "marker": {
            "opacity": 1,
            "size": 1
           },
           "mode": "markers",
           "showlegend": false,
           "text": [
            "ID: 36, Pos(35.28,16.42)"
           ],
           "type": "scatter",
           "x": [
            35.27914095753087
           ],
           "y": [
            16.415655971053468
           ]
          },
          {
           "hoverinfo": "text",
           "marker": {
            "opacity": 1,
            "size": 1
           },
           "mode": "markers",
           "showlegend": false,
           "text": [
            "ID: 37, Pos(30.09,16.98)"
           ],
           "type": "scatter",
           "x": [
            30.090269670210095
           ],
           "y": [
            16.977275788766253
           ]
          },
          {
           "hoverinfo": "text",
           "marker": {
            "opacity": 1,
            "size": 1
           },
           "mode": "markers",
           "showlegend": false,
           "text": [
            "ID: 38, Pos(33.06,16.75)"
           ],
           "type": "scatter",
           "x": [
            33.06315721790023
           ],
           "y": [
            16.745504465223135
           ]
          },
          {
           "hoverinfo": "text",
           "marker": {
            "opacity": 1,
            "size": 1
           },
           "mode": "markers",
           "showlegend": false,
           "text": [
            "ID: 39, Pos(36.10,12.41)"
           ],
           "type": "scatter",
           "x": [
            36.096250584678394
           ],
           "y": [
            12.40937267753254
           ]
          },
          {
           "hoverinfo": "text",
           "marker": {
            "opacity": 1,
            "size": 1
           },
           "mode": "markers",
           "showlegend": false,
           "text": [
            "ID: 40, Pos(35.41,12.17)"
           ],
           "type": "scatter",
           "x": [
            35.411154371491556
           ],
           "y": [
            12.170896369391825
           ]
          },
          {
           "hoverinfo": "text",
           "marker": {
            "opacity": 1,
            "size": 1
           },
           "mode": "markers",
           "showlegend": false,
           "text": [
            "ID: 41, Pos(35.32,15.22)"
           ],
           "type": "scatter",
           "x": [
            35.315850508754345
           ],
           "y": [
            15.215254602929312
           ]
          }
         ],
         "layout": {
          "shapes": [
           {
            "fillcolor": "rgba(255, 148, 0, 0.5)",
            "line": {
             "color": "rgba(255, 148, 0, 0.5)"
            },
            "type": "circle",
            "x0": 35.14596365344187,
            "x1": 35.54596365344187,
            "xref": "x",
            "y0": 13.622933682270844,
            "y1": 14.022933682270843,
            "yref": "y"
           },
           {
            "fillcolor": "rgba(0, 0, 128, 0.5)",
            "line": {
             "color": "rgba(0, 0, 128, 0.5)"
            },
            "type": "circle",
            "x0": 30.801665393246218,
            "x1": 31.201665393246216,
            "xref": "x",
            "y0": 17.208918829649345,
            "y1": 17.608918829649344,
            "yref": "y"
           },
           {
            "fillcolor": "rgba(250, 15, 0, 0.5)",
            "line": {
             "color": "rgba(250, 15, 0, 0.5)"
            },
            "type": "circle",
            "x0": 35.088358552094945,
            "x1": 35.48835855209495,
            "xref": "x",
            "y0": 15.628493212562605,
            "y1": 16.028493212562605,
            "yref": "y"
           },
           {
            "fillcolor": "rgba(0, 0, 128, 0.5)",
            "line": {
             "color": "rgba(0, 0, 128, 0.5)"
            },
            "type": "circle",
            "x0": 28.30204475568988,
            "x1": 28.70204475568988,
            "xref": "x",
            "y0": 16.76608831493701,
            "y1": 17.16608831493701,
            "yref": "y"
           },
           {
            "fillcolor": "rgba(0, 0, 128, 0.5)",
            "line": {
             "color": "rgba(0, 0, 128, 0.5)"
            },
            "type": "circle",
            "x0": 26.710923649335626,
            "x1": 27.110923649335625,
            "xref": "x",
            "y0": 16.91763090444121,
            "y1": 17.31763090444121,
            "yref": "y"
           },
           {
            "fillcolor": "rgba(0, 0, 178, 0.5)",
            "line": {
             "color": "rgba(0, 0, 178, 0.5)"
            },
            "type": "circle",
            "x0": 31.404420766387275,
            "x1": 31.804420766387274,
            "xref": "x",
            "y0": 16.438782302433907,
            "y1": 16.838782302433906,
            "yref": "y"
           },
           {
            "fillcolor": "rgba(255, 230, 0, 0.5)",
            "line": {
             "color": "rgba(255, 230, 0, 0.5)"
            },
            "type": "circle",
            "x0": 35.7396110511046,
            "x1": 36.13961105110461,
            "xref": "x",
            "y0": 13.884694571290003,
            "y1": 14.284694571290002,
            "yref": "y"
           },
           {
            "fillcolor": "rgba(186, 255, 60, 0.5)",
            "line": {
             "color": "rgba(186, 255, 60, 0.5)"
            },
            "type": "circle",
            "x0": 35.67060807157453,
            "x1": 36.07060807157453,
            "xref": "x",
            "y0": 14.660608270069156,
            "y1": 15.060608270069155,
            "yref": "y"
           },
           {
            "fillcolor": "rgba(0, 184, 255, 0.5)",
            "line": {
             "color": "rgba(0, 184, 255, 0.5)"
            },
            "type": "circle",
            "x0": 34.10841699181389,
            "x1": 34.508416991813895,
            "xref": "x",
            "y0": 16.302540852332484,
            "y1": 16.702540852332483,
            "yref": "y"
           },
           {
            "fillcolor": "rgba(60, 255, 186, 0.5)",
            "line": {
             "color": "rgba(60, 255, 186, 0.5)"
            },
            "type": "circle",
            "x0": 35.604145201042215,
            "x1": 36.00414520104222,
            "xref": "x",
            "y0": 15.597169622950553,
            "y1": 15.997169622950551,
            "yref": "y"
           },
           {
            "fillcolor": "rgba(0, 0, 128, 0.5)",
            "line": {
             "color": "rgba(0, 0, 128, 0.5)"
            },
            "type": "circle",
            "x0": 25.114246921058133,
            "x1": 25.51424692105813,
            "xref": "x",
            "y0": 17.019242016570352,
            "y1": 17.41924201657035,
            "yref": "y"
           },
           {
            "fillcolor": "rgba(255, 234, 0, 0.5)",
            "line": {
             "color": "rgba(255, 234, 0, 0.5)"
            },
            "type": "circle",
            "x0": 35.81679883064312,
            "x1": 36.21679883064313,
            "xref": "x",
            "y0": 13.082703362587008,
            "y1": 13.482703362587007,
            "yref": "y"
           },
           {
            "fillcolor": "rgba(255, 200, 0, 0.5)",
            "line": {
             "color": "rgba(255, 200, 0, 0.5)"
            },
            "type": "circle",
            "x0": 35.17170740116641,
            "x1": 35.571707401166414,
            "xref": "x",
            "y0": 12.83689860849595,
            "y1": 13.236898608495949,
            "yref": "y"
           },
           {
            "fillcolor": "rgba(255, 104, 0, 0.5)",
            "line": {
             "color": "rgba(255, 104, 0, 0.5)"
            },
            "type": "circle",
            "x0": 35.12699533725056,
            "x1": 35.52699533725057,
            "xref": "x",
            "y0": 14.345621312704413,
            "y1": 14.745621312704412,
            "yref": "y"
           },
           {
            "fillcolor": "rgba(106, 255, 141, 0.5)",
            "line": {
             "color": "rgba(106, 255, 141, 0.5)"
            },
            "type": "circle",
            "x0": 35.07914095753087,
            "x1": 35.47914095753087,
            "xref": "x",
            "y0": 16.21565597105347,
            "y1": 16.615655971053467,
            "yref": "y"
           },
           {
            "fillcolor": "rgba(0, 0, 137, 0.5)",
            "line": {
             "color": "rgba(0, 0, 137, 0.5)"
            },
            "type": "circle",
            "x0": 29.890269670210095,
            "x1": 30.290269670210094,
            "xref": "x",
            "y0": 16.777275788766254,
            "y1": 17.177275788766252,
            "yref": "y"
           },
           {
            "fillcolor": "rgba(0, 0, 255, 0.5)",
            "line": {
             "color": "rgba(0, 0, 255, 0.5)"
            },
            "type": "circle",
            "x0": 32.86315721790023,
            "x1": 33.263157217900236,
            "xref": "x",
            "y0": 16.545504465223136,
            "y1": 16.945504465223134,
            "yref": "y"
           },
           {
            "fillcolor": "rgba(215, 255, 31, 0.5)",
            "line": {
             "color": "rgba(215, 255, 31, 0.5)"
            },
            "type": "circle",
            "x0": 35.89625058467839,
            "x1": 36.2962505846784,
            "xref": "x",
            "y0": 12.20937267753254,
            "y1": 12.609372677532539,
            "yref": "y"
           },
           {
            "fillcolor": "rgba(228, 255, 19, 0.5)",
            "line": {
             "color": "rgba(228, 255, 19, 0.5)"
            },
            "type": "circle",
            "x0": 35.21115437149155,
            "x1": 35.61115437149156,
            "xref": "x",
            "y0": 11.970896369391825,
            "y1": 12.370896369391824,
            "yref": "y"
           },
           {
            "fillcolor": "rgba(255, 67, 0, 0.5)",
            "line": {
             "color": "rgba(255, 67, 0, 0.5)"
            },
            "type": "circle",
            "x0": 35.11585050875434,
            "x1": 35.51585050875435,
            "xref": "x",
            "y0": 15.015254602929312,
            "y1": 15.415254602929311,
            "yref": "y"
           },
           {
            "line": {
             "color": "black",
             "width": 3
            },
            "type": "line",
            "x0": 35.34596365344187,
            "x1": 35.33888288245524,
            "y0": 13.822933682270843,
            "y1": 14.022808299674441
           },
           {
            "line": {
             "color": "white",
             "width": 3
            },
            "type": "line",
            "x0": 31.001665393246217,
            "x1": 30.802097066514744,
            "y0": 17.408918829649345,
            "y1": 17.42205210668135
           },
           {
            "line": {
             "color": "white",
             "width": 3
            },
            "type": "line",
            "x0": 35.28835855209495,
            "x1": 35.25513514215129,
            "y0": 15.828493212562604,
            "y1": 16.025714420934612
           },
           {
            "line": {
             "color": "white",
             "width": 3
            },
            "type": "line",
            "x0": 28.50204475568988,
            "x1": 28.3026777917529,
            "y0": 16.96608831493701,
            "y1": 16.981988430991613
           },
           {
            "line": {
             "color": "white",
             "width": 3
            },
            "type": "line",
            "x0": 26.910923649335626,
            "x1": 26.71154054374642,
            "y0": 17.11763090444121,
            "y1": 17.133327311851925
           },
           {
            "line": {
             "color": "white",
             "width": 3
            },
            "type": "line",
            "x0": 31.604420766387275,
            "x1": 31.40500294281533,
            "y0": 16.638782302433906,
            "y1": 16.654031290657024
           },
           {
            "line": {
             "color": "black",
             "width": 3
            },
            "type": "line",
            "x0": 35.939611051104606,
            "x1": 35.91757541216261,
            "y0": 14.084694571290003,
            "y1": 14.283476941273907
           },
           {
            "line": {
             "color": "black",
             "width": 3
            },
            "type": "line",
            "x0": 35.87060807157453,
            "x1": 35.84914028036529,
            "y0": 14.860608270069156,
            "y1": 15.059452766952012
           },
           {
            "line": {
             "color": "black",
             "width": 3
            },
            "type": "line",
            "x0": 34.30841699181389,
            "x1": 34.10928196646786,
            "y0": 16.502540852332483,
            "y1": 16.52112153263316
           },
           {
            "line": {
             "color": "black",
             "width": 3
            },
            "type": "line",
            "x0": 35.80414520104222,
            "x1": 35.81264899059375,
            "y0": 15.797169622950552,
            "y1": 15.996988755075739
           },
           {
            "line": {
             "color": "white",
             "width": 3
            },
            "type": "line",
            "x0": 25.314246921058132,
            "x1": 25.114880753205483,
            "y0": 17.21924201657035,
            "y1": 17.235152111345364
           },
           {
            "line": {
             "color": "black",
             "width": 3
            },
            "type": "line",
            "x0": 36.016798830643125,
            "x1": 35.98910464776393,
            "y0": 13.282703362587007,
            "y1": 13.480776662742919
           },
           {
            "line": {
             "color": "black",
             "width": 3
            },
            "type": "line",
            "x0": 35.37170740116641,
            "x1": 35.36091506277349,
            "y0": 13.03689860849595,
            "y1": 13.236607209792972
           },
           {
            "line": {
             "color": "black",
             "width": 3
            },
            "type": "line",
            "x0": 35.326995337250565,
            "x1": 35.32638953788544,
            "y0": 14.545621312704412,
            "y1": 14.745620395220131
           },
           {
            "line": {
             "color": "black",
             "width": 3
            },
            "type": "line",
            "x0": 35.27914095753087,
            "x1": 35.104088433433056,
            "y0": 16.415655971053468,
            "y1": 16.512385562218654
           },
           {
            "line": {
             "color": "white",
             "width": 3
            },
            "type": "line",
            "x0": 30.090269670210095,
            "x1": 29.890782614072812,
            "y0": 16.977275788766253,
            "y1": 16.991590621412193
           },
           {
            "line": {
             "color": "white",
             "width": 3
            },
            "type": "line",
            "x0": 33.06315721790023,
            "x1": 32.863720962084514,
            "y0": 16.745504465223135,
            "y1": 16.760510459565584
           },
           {
            "line": {
             "color": "black",
             "width": 3
            },
            "type": "line",
            "x0": 36.096250584678394,
            "x1": 36.067445343792286,
            "y0": 12.40937267753254,
            "y1": 12.607287452366288
           },
           {
            "line": {
             "color": "black",
             "width": 3
            },
            "type": "line",
            "x0": 35.411154371491556,
            "x1": 35.392692516714334,
            "y0": 12.170896369391825,
            "y1": 12.370042446225352
           },
           {
            "line": {
             "color": "white",
             "width": 3
            },
            "type": "line",
            "x0": 35.315850508754345,
            "x1": 35.34578258394612,
            "y0": 15.215254602929312,
            "y1": 15.413002095643414
           }
          ],
          "title": {
           "text": "<b>Percentage: 0%  |  Number of Agents: 20</b>",
           "x": 0.5
          }
         },
         "name": "50"
        },
        {
         "data": [
          {
           "hoverinfo": "name",
           "line": {
            "color": "grey"
           },
           "mode": "lines",
           "name": "Exterior",
           "showlegend": false,
           "type": "scatter",
           "x": {
            "bdata": "AAAAAAAAAAAAAAAAAAAAAAAAAAAAAERAAAAAAAAAREAAAAAAAAAAAA==",
            "dtype": "f8"
           },
           "y": {
            "bdata": "AAAAAAAANEAAAAAAAAAAAAAAAAAAAAAAAAAAAAAANEAAAAAAAAA0QA==",
            "dtype": "f8"
           }
          },
          {
           "hoverinfo": "name",
           "line": {
            "color": "grey"
           },
           "mode": "lines",
           "name": "Obstacle",
           "showlegend": false,
           "type": "scatter",
           "x": {
            "bdata": "AAAAAAAAFEAAAAAAAAAcQAAAAAAAABxAAAAAAAAAFEAAAAAAAAAUQA==",
            "dtype": "f8"
           },
           "y": {
            "bdata": "AAAAAAAAMEAAAAAAAAAwQAAAAAAAABBAAAAAAAAAEEAAAAAAAAAwQA==",
            "dtype": "f8"
           }
          },
          {
           "hoverinfo": "name",
           "line": {
            "color": "grey"
           },
           "mode": "lines",
           "name": "Obstacle",
           "showlegend": false,
           "type": "scatter",
           "x": {
            "bdata": "AAAAAAAAKkAAAAAAAAAuQAAAAAAAAC5AAAAAAAAAKkAAAAAAAAAqQA==",
            "dtype": "f8"
           },
           "y": {
            "bdata": "AAAAAAAAMEAAAAAAAAAwQAAAAAAAABBAAAAAAAAAEEAAAAAAAAAwQA==",
            "dtype": "f8"
           }
          },
          {
           "hoverinfo": "name",
           "line": {
            "color": "grey"
           },
           "mode": "lines",
           "name": "Obstacle",
           "showlegend": false,
           "type": "scatter",
           "x": {
            "bdata": "AAAAAAAAOUAAAAAAAAA7QAAAAAAAADtAAAAAAAAAOUAAAAAAAAA5QA==",
            "dtype": "f8"
           },
           "y": {
            "bdata": "AAAAAAAAMEAAAAAAAAAwQAAAAAAAABBAAAAAAAAAEEAAAAAAAAAwQA==",
            "dtype": "f8"
           }
          },
          {
           "hoverinfo": "name",
           "line": {
            "color": "grey"
           },
           "mode": "lines",
           "name": "Obstacle",
           "showlegend": false,
           "type": "scatter",
           "x": {
            "bdata": "AAAAAACAQEAAAAAAAIBBQAAAAAAAgEFAAAAAAACAQEAAAAAAAIBAQA==",
            "dtype": "f8"
           },
           "y": {
            "bdata": "AAAAAAAAMEAAAAAAAAAwQAAAAAAAABBAAAAAAAAAEEAAAAAAAAAwQA==",
            "dtype": "f8"
           }
          },
          {
           "hoverinfo": "text",
           "marker": {
            "opacity": 1,
            "size": 1
           },
           "mode": "markers",
           "showlegend": false,
           "text": [
            "ID: 22, Pos(34.66,16.46)"
           ],
           "type": "scatter",
           "x": [
            34.66136758534274
           ],
           "y": [
            16.462862701804223
           ]
          },
          {
           "hoverinfo": "text",
           "marker": {
            "opacity": 1,
            "size": 1
           },
           "mode": "markers",
           "showlegend": false,
           "text": [
            "ID: 23, Pos(19.03,18.18)"
           ],
           "type": "scatter",
           "x": [
            19.02650987998152
           ],
           "y": [
            18.180695602795065
           ]
          },
          {
           "hoverinfo": "text",
           "marker": {
            "opacity": 1,
            "size": 1
           },
           "mode": "markers",
           "showlegend": false,
           "text": [
            "ID: 24, Pos(27.65,17.00)"
           ],
           "type": "scatter",
           "x": [
            27.654706838863394
           ],
           "y": [
            16.999869541063006
           ]
          },
          {
           "hoverinfo": "text",
           "marker": {
            "opacity": 1,
            "size": 1
           },
           "mode": "markers",
           "showlegend": false,
           "text": [
            "ID: 25, Pos(16.54,17.92)"
           ],
           "type": "scatter",
           "x": [
            16.54205610152632
           ],
           "y": [
            17.919946495600023
           ]
          },
          {
           "hoverinfo": "text",
           "marker": {
            "opacity": 1,
            "size": 1
           },
           "mode": "markers",
           "showlegend": false,
           "text": [
            "ID: 26, Pos(14.95,18.06)"
           ],
           "type": "scatter",
           "x": [
            14.94816718763099
           ],
           "y": [
            18.059392769929925
           ]
          },
          {
           "hoverinfo": "text",
           "marker": {
            "opacity": 1,
            "size": 1
           },
           "mode": "markers",
           "showlegend": false,
           "text": [
            "ID: 27, Pos(19.72,17.56)"
           ],
           "type": "scatter",
           "x": [
            19.715365660293568
           ],
           "y": [
            17.56381045503625
           ]
          },
          {
           "hoverinfo": "text",
           "marker": {
            "opacity": 1,
            "size": 1
           },
           "mode": "markers",
           "showlegend": false,
           "text": [
            "ID: 28, Pos(29.22,16.83)"
           ],
           "type": "scatter",
           "x": [
            29.216402516482308
           ],
           "y": [
            16.82879761490957
           ]
          },
          {
           "hoverinfo": "text",
           "marker": {
            "opacity": 1,
            "size": 1
           },
           "mode": "markers",
           "showlegend": false,
           "text": [
            "ID: 29, Pos(26.54,17.88)"
           ],
           "type": "scatter",
           "x": [
            26.5441549992457
           ],
           "y": [
            17.88058482015221
           ]
          },
          {
           "hoverinfo": "text",
           "marker": {
            "opacity": 1,
            "size": 1
           },
           "mode": "markers",
           "showlegend": false,
           "text": [
            "ID: 30, Pos(22.90,17.42)"
           ],
           "type": "scatter",
           "x": [
            22.89663958262295
           ],
           "y": [
            17.417418447155672
           ]
          },
          {
           "hoverinfo": "text",
           "marker": {
            "opacity": 1,
            "size": 1
           },
           "mode": "markers",
           "showlegend": false,
           "text": [
            "ID: 31, Pos(26.08,17.15)"
           ],
           "type": "scatter",
           "x": [
            26.075011734916153
           ],
           "y": [
            17.154093120069835
           ]
          },
          {
           "hoverinfo": "text",
           "marker": {
            "opacity": 1,
            "size": 1
           },
           "mode": "markers",
           "showlegend": false,
           "text": [
            "ID: 32, Pos(13.35,18.17)"
           ],
           "type": "scatter",
           "x": [
            13.352276969609331
           ],
           "y": [
            18.173849203131667
           ]
          },
          {
           "hoverinfo": "text",
           "marker": {
            "opacity": 1,
            "size": 1
           },
           "mode": "markers",
           "showlegend": false,
           "text": [
            "ID: 33, Pos(29.32,17.69)"
           ],
           "type": "scatter",
           "x": [
            29.31503811880407
           ],
           "y": [
            17.69239252936213
           ]
          },
          {
           "hoverinfo": "text",
           "marker": {
            "opacity": 1,
            "size": 1
           },
           "mode": "markers",
           "showlegend": false,
           "text": [
            "ID: 34, Pos(35.30,16.12)"
           ],
           "type": "scatter",
           "x": [
            35.303535205317566
           ],
           "y": [
            16.122502241985988
           ]
          },
          {
           "hoverinfo": "text",
           "marker": {
            "opacity": 1,
            "size": 1
           },
           "mode": "markers",
           "showlegend": false,
           "text": [
            "ID: 35, Pos(33.55,16.58)"
           ],
           "type": "scatter",
           "x": [
            33.54818194465506
           ],
           "y": [
            16.576130541585524
           ]
          },
          {
           "hoverinfo": "text",
           "marker": {
            "opacity": 1,
            "size": 1
           },
           "mode": "markers",
           "showlegend": false,
           "text": [
            "ID: 36, Pos(24.49,17.36)"
           ],
           "type": "scatter",
           "x": [
            24.492195770675643
           ],
           "y": [
            17.35504549183969
           ]
          },
          {
           "hoverinfo": "text",
           "marker": {
            "opacity": 1,
            "size": 1
           },
           "mode": "markers",
           "showlegend": false,
           "text": [
            "ID: 37, Pos(18.14,17.84)"
           ],
           "type": "scatter",
           "x": [
            18.13952053888032
           ],
           "y": [
            17.835019577290055
           ]
          },
          {
           "hoverinfo": "text",
           "marker": {
            "opacity": 1,
            "size": 1
           },
           "mode": "markers",
           "showlegend": false,
           "text": [
            "ID: 38, Pos(21.31,17.63)"
           ],
           "type": "scatter",
           "x": [
            21.31260105858864
           ],
           "y": [
            17.62678642618429
           ]
          },
          {
           "hoverinfo": "text",
           "marker": {
            "opacity": 1,
            "size": 1
           },
           "mode": "markers",
           "showlegend": false,
           "text": [
            "ID: 39, Pos(32.22,16.80)"
           ],
           "type": "scatter",
           "x": [
            32.219773225746685
           ],
           "y": [
            16.798566521636555
           ]
          },
          {
           "hoverinfo": "text",
           "marker": {
            "opacity": 1,
            "size": 1
           },
           "mode": "markers",
           "showlegend": false,
           "text": [
            "ID: 40, Pos(35.37,15.09)"
           ],
           "type": "scatter",
           "x": [
            35.37059815298269
           ],
           "y": [
            15.087847640788913
           ]
          },
          {
           "hoverinfo": "text",
           "marker": {
            "opacity": 1,
            "size": 1
           },
           "mode": "markers",
           "showlegend": false,
           "text": [
            "ID: 41, Pos(30.75,16.78)"
           ],
           "type": "scatter",
           "x": [
            30.75136854532632
           ],
           "y": [
            16.777120958885234
           ]
          }
         ],
         "layout": {
          "shapes": [
           {
            "fillcolor": "rgba(77, 255, 170, 0.5)",
            "line": {
             "color": "rgba(77, 255, 170, 0.5)"
            },
            "type": "circle",
            "x0": 34.461367585342735,
            "x1": 34.86136758534274,
            "xref": "x",
            "y0": 16.262862701804224,
            "y1": 16.662862701804222,
            "yref": "y"
           },
           {
            "fillcolor": "rgba(0, 0, 173, 0.5)",
            "line": {
             "color": "rgba(0, 0, 173, 0.5)"
            },
            "type": "circle",
            "x0": 18.826509879981522,
            "x1": 19.22650987998152,
            "xref": "x",
            "y0": 17.980695602795066,
            "y1": 18.380695602795065,
            "yref": "y"
           },
           {
            "fillcolor": "rgba(0, 0, 141, 0.5)",
            "line": {
             "color": "rgba(0, 0, 141, 0.5)"
            },
            "type": "circle",
            "x0": 27.454706838863395,
            "x1": 27.854706838863393,
            "xref": "x",
            "y0": 16.799869541063007,
            "y1": 17.199869541063006,
            "yref": "y"
           },
           {
            "fillcolor": "rgba(0, 0, 128, 0.5)",
            "line": {
             "color": "rgba(0, 0, 128, 0.5)"
            },
            "type": "circle",
            "x0": 16.34205610152632,
            "x1": 16.74205610152632,
            "xref": "x",
            "y0": 17.719946495600023,
            "y1": 18.119946495600022,
            "yref": "y"
           },
           {
            "fillcolor": "rgba(0, 0, 128, 0.5)",
            "line": {
             "color": "rgba(0, 0, 128, 0.5)"
            },
            "type": "circle",
            "x0": 14.74816718763099,
            "x1": 15.148167187630989,
            "xref": "x",
            "y0": 17.859392769929926,
            "y1": 18.259392769929924,
            "yref": "y"
           },
           {
            "fillcolor": "rgba(0, 0, 128, 0.5)",
            "line": {
             "color": "rgba(0, 0, 128, 0.5)"
            },
            "type": "circle",
            "x0": 19.51536566029357,
            "x1": 19.915365660293567,
            "xref": "x",
            "y0": 17.36381045503625,
            "y1": 17.76381045503625,
            "yref": "y"
           },
           {
            "fillcolor": "rgba(0, 0, 155, 0.5)",
            "line": {
             "color": "rgba(0, 0, 155, 0.5)"
            },
            "type": "circle",
            "x0": 29.01640251648231,
            "x1": 29.416402516482307,
            "xref": "x",
            "y0": 16.62879761490957,
            "y1": 17.028797614909568,
            "yref": "y"
           },
           {
            "fillcolor": "rgba(0, 0, 128, 0.5)",
            "line": {
             "color": "rgba(0, 0, 128, 0.5)"
            },
            "type": "circle",
            "x0": 26.3441549992457,
            "x1": 26.744154999245698,
            "xref": "x",
            "y0": 17.680584820152212,
            "y1": 18.08058482015221,
            "yref": "y"
           },
           {
            "fillcolor": "rgba(0, 0, 128, 0.5)",
            "line": {
             "color": "rgba(0, 0, 128, 0.5)"
            },
            "type": "circle",
            "x0": 22.69663958262295,
            "x1": 23.09663958262295,
            "xref": "x",
            "y0": 17.217418447155673,
            "y1": 17.61741844715567,
            "yref": "y"
           },
           {
            "fillcolor": "rgba(0, 0, 132, 0.5)",
            "line": {
             "color": "rgba(0, 0, 132, 0.5)"
            },
            "type": "circle",
            "x0": 25.875011734916153,
            "x1": 26.275011734916152,
            "xref": "x",
            "y0": 16.954093120069835,
            "y1": 17.354093120069834,
            "yref": "y"
           },
           {
            "fillcolor": "rgba(0, 0, 128, 0.5)",
            "line": {
             "color": "rgba(0, 0, 128, 0.5)"
            },
            "type": "circle",
            "x0": 13.152276969609332,
            "x1": 13.55227696960933,
            "xref": "x",
            "y0": 17.973849203131667,
            "y1": 18.373849203131666,
            "yref": "y"
           },
           {
            "fillcolor": "rgba(0, 0, 128, 0.5)",
            "line": {
             "color": "rgba(0, 0, 128, 0.5)"
            },
            "type": "circle",
            "x0": 29.11503811880407,
            "x1": 29.515038118804068,
            "xref": "x",
            "y0": 17.49239252936213,
            "y1": 17.89239252936213,
            "yref": "y"
           },
           {
            "fillcolor": "rgba(164, 255, 83, 0.5)",
            "line": {
             "color": "rgba(164, 255, 83, 0.5)"
            },
            "type": "circle",
            "x0": 35.10353520531756,
            "x1": 35.50353520531757,
            "xref": "x",
            "y0": 15.922502241985988,
            "y1": 16.322502241985987,
            "yref": "y"
           },
           {
            "fillcolor": "rgba(0, 104, 255, 0.5)",
            "line": {
             "color": "rgba(0, 104, 255, 0.5)"
            },
            "type": "circle",
            "x0": 33.34818194465506,
            "x1": 33.748181944655066,
            "xref": "x",
            "y0": 16.376130541585525,
            "y1": 16.776130541585523,
            "yref": "y"
           },
           {
            "fillcolor": "rgba(0, 0, 128, 0.5)",
            "line": {
             "color": "rgba(0, 0, 128, 0.5)"
            },
            "type": "circle",
            "x0": 24.292195770675644,
            "x1": 24.692195770675642,
            "xref": "x",
            "y0": 17.15504549183969,
            "y1": 17.55504549183969,
            "yref": "y"
           },
           {
            "fillcolor": "rgba(0, 0, 128, 0.5)",
            "line": {
             "color": "rgba(0, 0, 128, 0.5)"
            },
            "type": "circle",
            "x0": 17.93952053888032,
            "x1": 18.33952053888032,
            "xref": "x",
            "y0": 17.635019577290056,
            "y1": 18.035019577290054,
            "yref": "y"
           },
           {
            "fillcolor": "rgba(0, 0, 128, 0.5)",
            "line": {
             "color": "rgba(0, 0, 128, 0.5)"
            },
            "type": "circle",
            "x0": 21.11260105858864,
            "x1": 21.51260105858864,
            "xref": "x",
            "y0": 17.42678642618429,
            "y1": 17.826786426184288,
            "yref": "y"
           },
           {
            "fillcolor": "rgba(0, 0, 255, 0.5)",
            "line": {
             "color": "rgba(0, 0, 255, 0.5)"
            },
            "type": "circle",
            "x0": 32.01977322574668,
            "x1": 32.41977322574669,
            "xref": "x",
            "y0": 16.598566521636556,
            "y1": 16.998566521636555,
            "yref": "y"
           },
           {
            "fillcolor": "rgba(209, 255, 38, 0.5)",
            "line": {
             "color": "rgba(209, 255, 38, 0.5)"
            },
            "type": "circle",
            "x0": 35.170598152982684,
            "x1": 35.57059815298269,
            "xref": "x",
            "y0": 14.887847640788914,
            "y1": 15.287847640788913,
            "yref": "y"
           },
           {
            "fillcolor": "rgba(0, 0, 196, 0.5)",
            "line": {
             "color": "rgba(0, 0, 196, 0.5)"
            },
            "type": "circle",
            "x0": 30.55136854532632,
            "x1": 30.951368545326318,
            "xref": "x",
            "y0": 16.577120958885235,
            "y1": 16.977120958885234,
            "yref": "y"
           },
           {
            "line": {
             "color": "black",
             "width": 3
            },
            "type": "line",
            "x0": 34.66136758534274,
            "x1": 34.46351705530852,
            "y0": 16.462862701804223,
            "y1": 16.492105953421973
           },
           {
            "line": {
             "color": "white",
             "width": 3
            },
            "type": "line",
            "x0": 19.02650987998152,
            "x1": 18.826918628601167,
            "y0": 18.180695602795065,
            "y1": 18.193475758209768
           },
           {
            "line": {
             "color": "white",
             "width": 3
            },
            "type": "line",
            "x0": 27.654706838863394,
            "x1": 27.455360838293558,
            "y0": 16.999869541063006,
            "y1": 17.01603035963172
           },
           {
            "line": {
             "color": "white",
             "width": 3
            },
            "type": "line",
            "x0": 16.54205610152632,
            "x1": 16.342689168124135,
            "y0": 17.919946495600023,
            "y1": 17.93584699451698
           },
           {
            "line": {
             "color": "white",
             "width": 3
            },
            "type": "line",
            "x0": 14.94816718763099,
            "x1": 14.748784072198541,
            "y0": 18.059392769929925,
            "y1": 18.075089052306677
           },
           {
            "line": {
             "color": "white",
             "width": 3
            },
            "type": "line",
            "x0": 19.715365660293568,
            "x1": 19.51596432807691,
            "y0": 17.56381045503625,
            "y1": 17.579273595410164
           },
           {
            "line": {
             "color": "white",
             "width": 3
            },
            "type": "line",
            "x0": 29.216402516482308,
            "x1": 29.016745564950096,
            "y0": 16.82879761490957,
            "y1": 16.84050665863073
           },
           {
            "line": {
             "color": "white",
             "width": 3
            },
            "type": "line",
            "x0": 26.5441549992457,
            "x1": 26.344638340968505,
            "y0": 17.88058482015221,
            "y1": 17.894480973213447
           },
           {
            "line": {
             "color": "white",
             "width": 3
            },
            "type": "line",
            "x0": 22.89663958262295,
            "x1": 22.69726923565871,
            "y0": 17.417418447155672,
            "y1": 17.43327608731296
           },
           {
            "line": {
             "color": "white",
             "width": 3
            },
            "type": "line",
            "x0": 26.075011734916153,
            "x1": 25.87534798806346,
            "y0": 17.154093120069835,
            "y1": 17.165685712219272
           },
           {
            "line": {
             "color": "white",
             "width": 3
            },
            "type": "line",
            "x0": 13.352276969609331,
            "x1": 13.152910805901529,
            "y0": 18.173849203131667,
            "y1": 18.18975934984482
           },
           {
            "line": {
             "color": "white",
             "width": 3
            },
            "type": "line",
            "x0": 29.31503811880407,
            "x1": 29.11558136698681,
            "y0": 17.69239252936213,
            "y1": 17.707123590237305
           },
           {
            "line": {
             "color": "black",
             "width": 3
            },
            "type": "line",
            "x0": 35.303535205317566,
            "x1": 35.23321657548461,
            "y0": 16.122502241985988,
            "y1": 16.30973282255021
           },
           {
            "line": {
             "color": "white",
             "width": 3
            },
            "type": "line",
            "x0": 33.54818194465506,
            "x1": 33.34885624421603,
            "y0": 16.576130541585524,
            "y1": 16.592539842133935
           },
           {
            "line": {
             "color": "white",
             "width": 3
            },
            "type": "line",
            "x0": 24.492195770675643,
            "x1": 24.29277902685012,
            "y0": 17.35504549183969,
            "y1": 17.370308593818816
           },
           {
            "line": {
             "color": "white",
             "width": 3
            },
            "type": "line",
            "x0": 18.13952053888032,
            "x1": 17.94004323628618,
            "y0": 17.835019577290055,
            "y1": 17.84946968973829
           },
           {
            "line": {
             "color": "white",
             "width": 3
            },
            "type": "line",
            "x0": 21.31260105858864,
            "x1": 21.113161050233465,
            "y0": 17.62678642618429,
            "y1": 17.641742464004764
           },
           {
            "line": {
             "color": "white",
             "width": 3
            },
            "type": "line",
            "x0": 32.219773225746685,
            "x1": 32.02033881952073,
            "y0": 16.798566521636555,
            "y1": 16.81359707762429
           },
           {
            "line": {
             "color": "black",
             "width": 3
            },
            "type": "line",
            "x0": 35.37059815298269,
            "x1": 35.363112578479324,
            "y0": 15.087847640788913,
            "y1": 15.287707507131195
           },
           {
            "line": {
             "color": "white",
             "width": 3
            },
            "type": "line",
            "x0": 30.75136854532632,
            "x1": 30.552006957419913,
            "y0": 16.777120958885234,
            "y1": 16.793088340243358
           }
          ],
          "title": {
           "text": "<b>Percentage: 0%  |  Number of Agents: 20</b>",
           "x": 0.5
          }
         },
         "name": "100"
        },
        {
         "data": [
          {
           "hoverinfo": "name",
           "line": {
            "color": "grey"
           },
           "mode": "lines",
           "name": "Exterior",
           "showlegend": false,
           "type": "scatter",
           "x": {
            "bdata": "AAAAAAAAAAAAAAAAAAAAAAAAAAAAAERAAAAAAAAAREAAAAAAAAAAAA==",
            "dtype": "f8"
           },
           "y": {
            "bdata": "AAAAAAAANEAAAAAAAAAAAAAAAAAAAAAAAAAAAAAANEAAAAAAAAA0QA==",
            "dtype": "f8"
           }
          },
          {
           "hoverinfo": "name",
           "line": {
            "color": "grey"
           },
           "mode": "lines",
           "name": "Obstacle",
           "showlegend": false,
           "type": "scatter",
           "x": {
            "bdata": "AAAAAAAAFEAAAAAAAAAcQAAAAAAAABxAAAAAAAAAFEAAAAAAAAAUQA==",
            "dtype": "f8"
           },
           "y": {
            "bdata": "AAAAAAAAMEAAAAAAAAAwQAAAAAAAABBAAAAAAAAAEEAAAAAAAAAwQA==",
            "dtype": "f8"
           }
          },
          {
           "hoverinfo": "name",
           "line": {
            "color": "grey"
           },
           "mode": "lines",
           "name": "Obstacle",
           "showlegend": false,
           "type": "scatter",
           "x": {
            "bdata": "AAAAAAAAKkAAAAAAAAAuQAAAAAAAAC5AAAAAAAAAKkAAAAAAAAAqQA==",
            "dtype": "f8"
           },
           "y": {
            "bdata": "AAAAAAAAMEAAAAAAAAAwQAAAAAAAABBAAAAAAAAAEEAAAAAAAAAwQA==",
            "dtype": "f8"
           }
          },
          {
           "hoverinfo": "name",
           "line": {
            "color": "grey"
           },
           "mode": "lines",
           "name": "Obstacle",
           "showlegend": false,
           "type": "scatter",
           "x": {
            "bdata": "AAAAAAAAOUAAAAAAAAA7QAAAAAAAADtAAAAAAAAAOUAAAAAAAAA5QA==",
            "dtype": "f8"
           },
           "y": {
            "bdata": "AAAAAAAAMEAAAAAAAAAwQAAAAAAAABBAAAAAAAAAEEAAAAAAAAAwQA==",
            "dtype": "f8"
           }
          },
          {
           "hoverinfo": "name",
           "line": {
            "color": "grey"
           },
           "mode": "lines",
           "name": "Obstacle",
           "showlegend": false,
           "type": "scatter",
           "x": {
            "bdata": "AAAAAACAQEAAAAAAAIBBQAAAAAAAgEFAAAAAAACAQEAAAAAAAIBAQA==",
            "dtype": "f8"
           },
           "y": {
            "bdata": "AAAAAAAAMEAAAAAAAAAwQAAAAAAAABBAAAAAAAAAEEAAAAAAAAAwQA==",
            "dtype": "f8"
           }
          },
          {
           "hoverinfo": "text",
           "marker": {
            "opacity": 1,
            "size": 1
           },
           "mode": "markers",
           "showlegend": false,
           "text": [
            "ID: 22, Pos(23.67,17.36)"
           ],
           "type": "scatter",
           "x": [
            23.668401957649003
           ],
           "y": [
            17.357098041603408
           ]
          },
          {
           "hoverinfo": "text",
           "marker": {
            "opacity": 1,
            "size": 1
           },
           "mode": "markers",
           "showlegend": false,
           "text": [
            "ID: 23, Pos(8.25,18.93)"
           ],
           "type": "scatter",
           "x": [
            8.25032390119446
           ],
           "y": [
            18.934367013763186
           ]
          },
          {
           "hoverinfo": "text",
           "marker": {
            "opacity": 1,
            "size": 1
           },
           "mode": "markers",
           "showlegend": false,
           "text": [
            "ID: 24, Pos(15.71,17.97)"
           ],
           "type": "scatter",
           "x": [
            15.714336311150365
           ],
           "y": [
            17.96788909463264
           ]
          },
          {
           "hoverinfo": "text",
           "marker": {
            "opacity": 1,
            "size": 1
           },
           "mode": "markers",
           "showlegend": false,
           "text": [
            "ID: 25, Pos(6.36,19.01)"
           ],
           "type": "scatter",
           "x": [
            6.364449020708461
           ],
           "y": [
            19.006883037016582
           ]
          },
          {
           "hoverinfo": "text",
           "marker": {
            "opacity": 1,
            "size": 1
           },
           "mode": "markers",
           "showlegend": false,
           "text": [
            "ID: 26, Pos(6.72,18.33)"
           ],
           "type": "scatter",
           "x": [
            6.7200153187074685
           ],
           "y": [
            18.330513258742375
           ]
          },
          {
           "hoverinfo": "text",
           "marker": {
            "opacity": 1,
            "size": 1
           },
           "mode": "markers",
           "showlegend": false,
           "text": [
            "ID: 27, Pos(8.26,18.21)"
           ],
           "type": "scatter",
           "x": [
            8.25607448409465
           ],
           "y": [
            18.20688028528651
           ]
          },
          {
           "hoverinfo": "text",
           "marker": {
            "opacity": 1,
            "size": 1
           },
           "mode": "markers",
           "showlegend": false,
           "text": [
            "ID: 28, Pos(17.29,17.62)"
           ],
           "type": "scatter",
           "x": [
            17.28505950894739
           ],
           "y": [
            17.624411037844723
           ]
          },
          {
           "hoverinfo": "text",
           "marker": {
            "opacity": 1,
            "size": 1
           },
           "mode": "markers",
           "showlegend": false,
           "text": [
            "ID: 29, Pos(14.57,18.63)"
           ],
           "type": "scatter",
           "x": [
            14.567844358918553
           ],
           "y": [
            18.633635603910438
           ]
          },
          {
           "hoverinfo": "text",
           "marker": {
            "opacity": 1,
            "size": 1
           },
           "mode": "markers",
           "showlegend": false,
           "text": [
            "ID: 30, Pos(11.09,18.36)"
           ],
           "type": "scatter",
           "x": [
            11.086645641680455
           ],
           "y": [
            18.35677865127887
           ]
          },
          {
           "hoverinfo": "text",
           "marker": {
            "opacity": 1,
            "size": 1
           },
           "mode": "markers",
           "showlegend": false,
           "text": [
            "ID: 31, Pos(14.12,17.93)"
           ],
           "type": "scatter",
           "x": [
            14.123946316821726
           ],
           "y": [
            17.92851387063424
           ]
          },
          {
           "hoverinfo": "text",
           "marker": {
            "opacity": 1,
            "size": 1
           },
           "mode": "markers",
           "showlegend": false,
           "text": [
            "ID: 32, Pos(9.50,19.53)"
           ],
           "type": "scatter",
           "x": [
            9.500161625437771
           ],
           "y": [
            19.529223838164764
           ]
          },
          {
           "hoverinfo": "text",
           "marker": {
            "opacity": 1,
            "size": 1
           },
           "mode": "markers",
           "showlegend": false,
           "text": [
            "ID: 33, Pos(17.34,18.48)"
           ],
           "type": "scatter",
           "x": [
            17.34095136486764
           ],
           "y": [
            18.479990787000045
           ]
          },
          {
           "hoverinfo": "text",
           "marker": {
            "opacity": 1,
            "size": 1
           },
           "mode": "markers",
           "showlegend": false,
           "text": [
            "ID: 34, Pos(25.26,17.23)"
           ],
           "type": "scatter",
           "x": [
            25.258745946755344
           ],
           "y": [
            17.227998637646554
           ]
          },
          {
           "hoverinfo": "text",
           "marker": {
            "opacity": 1,
            "size": 1
           },
           "mode": "markers",
           "showlegend": false,
           "text": [
            "ID: 35, Pos(22.08,17.49)"
           ],
           "type": "scatter",
           "x": [
            22.07554282011202
           ],
           "y": [
            17.487532998386133
           ]
          },
          {
           "hoverinfo": "text",
           "marker": {
            "opacity": 1,
            "size": 1
           },
           "mode": "markers",
           "showlegend": false,
           "text": [
            "ID: 36, Pos(12.60,18.27)"
           ],
           "type": "scatter",
           "x": [
            12.597918901829786
           ],
           "y": [
            18.26541760593839
           ]
          },
          {
           "hoverinfo": "text",
           "marker": {
            "opacity": 1,
            "size": 1
           },
           "mode": "markers",
           "showlegend": false,
           "text": [
            "ID: 37, Pos(7.46,18.63)"
           ],
           "type": "scatter",
           "x": [
            7.456592488727046
           ],
           "y": [
            18.62945739901776
           ]
          },
          {
           "hoverinfo": "text",
           "marker": {
            "opacity": 1,
            "size": 1
           },
           "mode": "markers",
           "showlegend": false,
           "text": [
            "ID: 38, Pos(9.64,18.50)"
           ],
           "type": "scatter",
           "x": [
            9.637660860634579
           ],
           "y": [
            18.50186882136765
           ]
          },
          {
           "hoverinfo": "text",
           "marker": {
            "opacity": 1,
            "size": 1
           },
           "mode": "markers",
           "showlegend": false,
           "text": [
            "ID: 39, Pos(20.49,17.68)"
           ],
           "type": "scatter",
           "x": [
            20.488300780668517
           ],
           "y": [
            17.682453989501862
           ]
          },
          {
           "hoverinfo": "text",
           "marker": {
            "opacity": 1,
            "size": 1
           },
           "mode": "markers",
           "showlegend": false,
           "text": [
            "ID: 40, Pos(26.84,17.10)"
           ],
           "type": "scatter",
           "x": [
            26.842789468182637
           ],
           "y": [
            17.095101320584554
           ]
          },
          {
           "hoverinfo": "text",
           "marker": {
            "opacity": 1,
            "size": 1
           },
           "mode": "markers",
           "showlegend": false,
           "text": [
            "ID: 41, Pos(18.89,17.73)"
           ],
           "type": "scatter",
           "x": [
            18.88926563842527
           ],
           "y": [
            17.727261587764193
           ]
          }
         ],
         "layout": {
          "shapes": [
           {
            "fillcolor": "rgba(0, 0, 128, 0.5)",
            "line": {
             "color": "rgba(0, 0, 128, 0.5)"
            },
            "type": "circle",
            "x0": 23.468401957649004,
            "x1": 23.868401957649002,
            "xref": "x",
            "y0": 17.15709804160341,
            "y1": 17.557098041603407,
            "yref": "y"
           },
           {
            "fillcolor": "rgba(106, 255, 141, 0.5)",
            "line": {
             "color": "rgba(106, 255, 141, 0.5)"
            },
            "type": "circle",
            "x0": 8.05032390119446,
            "x1": 8.450323901194459,
            "xref": "x",
            "y0": 18.734367013763187,
            "y1": 19.134367013763185,
            "yref": "y"
           },
           {
            "fillcolor": "rgba(0, 0, 137, 0.5)",
            "line": {
             "color": "rgba(0, 0, 137, 0.5)"
            },
            "type": "circle",
            "x0": 15.514336311150366,
            "x1": 15.914336311150365,
            "xref": "x",
            "y0": 17.76788909463264,
            "y1": 18.16788909463264,
            "yref": "y"
           },
           {
            "fillcolor": "rgba(255, 196, 0, 0.5)",
            "line": {
             "color": "rgba(255, 196, 0, 0.5)"
            },
            "type": "circle",
            "x0": 6.164449020708461,
            "x1": 6.564449020708461,
            "xref": "x",
            "y0": 18.806883037016583,
            "y1": 19.20688303701658,
            "yref": "y"
           },
           {
            "fillcolor": "rgba(225, 255, 22, 0.5)",
            "line": {
             "color": "rgba(225, 255, 22, 0.5)"
            },
            "type": "circle",
            "x0": 6.520015318707468,
            "x1": 6.920015318707469,
            "xref": "x",
            "y0": 18.130513258742376,
            "y1": 18.530513258742374,
            "yref": "y"
           },
           {
            "fillcolor": "rgba(51, 255, 196, 0.5)",
            "line": {
             "color": "rgba(51, 255, 196, 0.5)"
            },
            "type": "circle",
            "x0": 8.056074484094651,
            "x1": 8.45607448409465,
            "xref": "x",
            "y0": 18.00688028528651,
            "y1": 18.40688028528651,
            "yref": "y"
           },
           {
            "fillcolor": "rgba(0, 0, 128, 0.5)",
            "line": {
             "color": "rgba(0, 0, 128, 0.5)"
            },
            "type": "circle",
            "x0": 17.085059508947392,
            "x1": 17.48505950894739,
            "xref": "x",
            "y0": 17.424411037844724,
            "y1": 17.824411037844722,
            "yref": "y"
           },
           {
            "fillcolor": "rgba(0, 0, 128, 0.5)",
            "line": {
             "color": "rgba(0, 0, 128, 0.5)"
            },
            "type": "circle",
            "x0": 14.367844358918553,
            "x1": 14.767844358918552,
            "xref": "x",
            "y0": 18.43363560391044,
            "y1": 18.833635603910437,
            "yref": "y"
           },
           {
            "fillcolor": "rgba(0, 8, 255, 0.5)",
            "line": {
             "color": "rgba(0, 8, 255, 0.5)"
            },
            "type": "circle",
            "x0": 10.886645641680456,
            "x1": 11.286645641680455,
            "xref": "x",
            "y0": 18.15677865127887,
            "y1": 18.55677865127887,
            "yref": "y"
           },
           {
            "fillcolor": "rgba(0, 0, 164, 0.5)",
            "line": {
             "color": "rgba(0, 0, 164, 0.5)"
            },
            "type": "circle",
            "x0": 13.923946316821727,
            "x1": 14.323946316821726,
            "xref": "x",
            "y0": 17.72851387063424,
            "y1": 18.12851387063424,
            "yref": "y"
           },
           {
            "fillcolor": "rgba(0, 0, 146, 0.5)",
            "line": {
             "color": "rgba(0, 0, 146, 0.5)"
            },
            "type": "circle",
            "x0": 9.300161625437772,
            "x1": 9.70016162543777,
            "xref": "x",
            "y0": 19.329223838164765,
            "y1": 19.729223838164764,
            "yref": "y"
           },
           {
            "fillcolor": "rgba(0, 0, 128, 0.5)",
            "line": {
             "color": "rgba(0, 0, 128, 0.5)"
            },
            "type": "circle",
            "x0": 17.14095136486764,
            "x1": 17.540951364867638,
            "xref": "x",
            "y0": 18.279990787000045,
            "y1": 18.679990787000044,
            "yref": "y"
           },
           {
            "fillcolor": "rgba(0, 0, 132, 0.5)",
            "line": {
             "color": "rgba(0, 0, 132, 0.5)"
            },
            "type": "circle",
            "x0": 25.058745946755344,
            "x1": 25.458745946755343,
            "xref": "x",
            "y0": 17.027998637646554,
            "y1": 17.427998637646553,
            "yref": "y"
           },
           {
            "fillcolor": "rgba(0, 0, 128, 0.5)",
            "line": {
             "color": "rgba(0, 0, 128, 0.5)"
            },
            "type": "circle",
            "x0": 21.87554282011202,
            "x1": 22.27554282011202,
            "xref": "x",
            "y0": 17.287532998386133,
            "y1": 17.687532998386132,
            "yref": "y"
           },
           {
            "fillcolor": "rgba(0, 0, 209, 0.5)",
            "line": {
             "color": "rgba(0, 0, 209, 0.5)"
            },
            "type": "circle",
            "x0": 12.397918901829787,
            "x1": 12.797918901829785,
            "xref": "x",
            "y0": 18.06541760593839,
            "y1": 18.465417605938388,
            "yref": "y"
           },
           {
            "fillcolor": "rgba(164, 255, 83, 0.5)",
            "line": {
             "color": "rgba(164, 255, 83, 0.5)"
            },
            "type": "circle",
            "x0": 7.256592488727046,
            "x1": 7.656592488727046,
            "xref": "x",
            "y0": 18.42945739901776,
            "y1": 18.82945739901776,
            "yref": "y"
           },
           {
            "fillcolor": "rgba(0, 104, 255, 0.5)",
            "line": {
             "color": "rgba(0, 104, 255, 0.5)"
            },
            "type": "circle",
            "x0": 9.43766086063458,
            "x1": 9.837660860634578,
            "xref": "x",
            "y0": 18.301868821367652,
            "y1": 18.70186882136765,
            "yref": "y"
           },
           {
            "fillcolor": "rgba(0, 0, 128, 0.5)",
            "line": {
             "color": "rgba(0, 0, 128, 0.5)"
            },
            "type": "circle",
            "x0": 20.288300780668518,
            "x1": 20.688300780668516,
            "xref": "x",
            "y0": 17.482453989501863,
            "y1": 17.88245398950186,
            "yref": "y"
           },
           {
            "fillcolor": "rgba(0, 0, 137, 0.5)",
            "line": {
             "color": "rgba(0, 0, 137, 0.5)"
            },
            "type": "circle",
            "x0": 26.642789468182638,
            "x1": 27.042789468182637,
            "xref": "x",
            "y0": 16.895101320584555,
            "y1": 17.295101320584553,
            "yref": "y"
           },
           {
            "fillcolor": "rgba(0, 0, 128, 0.5)",
            "line": {
             "color": "rgba(0, 0, 128, 0.5)"
            },
            "type": "circle",
            "x0": 18.689265638425272,
            "x1": 19.08926563842527,
            "xref": "x",
            "y0": 17.527261587764194,
            "y1": 17.927261587764193,
            "yref": "y"
           },
           {
            "line": {
             "color": "white",
             "width": 3
            },
            "type": "line",
            "x0": 23.668401957649003,
            "x1": 23.46903082242296,
            "y0": 17.357098041603408,
            "y1": 17.37294576821253
           },
           {
            "line": {
             "color": "black",
             "width": 3
            },
            "type": "line",
            "x0": 8.25032390119446,
            "x1": 8.051943163611389,
            "y0": 18.934367013763186,
            "y1": 18.959765497103678
           },
           {
            "line": {
             "color": "white",
             "width": 3
            },
            "type": "line",
            "x0": 15.714336311150365,
            "x1": 15.514990333561467,
            "y0": 17.96788909463264,
            "y1": 17.984050196671994
           },
           {
            "line": {
             "color": "black",
             "width": 3
            },
            "type": "line",
            "x0": 6.364449020708461,
            "x1": 6.165260996482526,
            "y0": 19.006883037016582,
            "y1": 19.0248866756757
           },
           {
            "line": {
             "color": "black",
             "width": 3
            },
            "type": "line",
            "x0": 6.7200153187074685,
            "x1": 6.919993412466929,
            "y0": 18.330513258742375,
            "y1": 18.32755318841678
           },
           {
            "line": {
             "color": "black",
             "width": 3
            },
            "type": "line",
            "x0": 8.25607448409465,
            "x1": 8.056214382436279,
            "y0": 18.20688028528651,
            "y1": 18.214359574364043
           },
           {
            "line": {
             "color": "white",
             "width": 3
            },
            "type": "line",
            "x0": 17.28505950894739,
            "x1": 17.085537573830166,
            "y0": 17.624411037844723,
            "y1": 17.63823121899685
           },
           {
            "line": {
             "color": "white",
             "width": 3
            },
            "type": "line",
            "x0": 14.567844358918553,
            "x1": 14.368223184778662,
            "y0": 18.633635603910438,
            "y1": 18.645939539663328
           },
           {
            "line": {
             "color": "white",
             "width": 3
            },
            "type": "line",
            "x0": 11.086645641680455,
            "x1": 10.887275300907064,
            "y0": 18.35677865127887,
            "y1": 18.372636369270484
           },
           {
            "line": {
             "color": "white",
             "width": 3
            },
            "type": "line",
            "x0": 14.123946316821726,
            "x1": 13.92438385985675,
            "y0": 17.92851387063424,
            "y1": 17.941736040278506
           },
           {
            "line": {
             "color": "white",
             "width": 3
            },
            "type": "line",
            "x0": 9.500161625437771,
            "x1": 9.700111756612214,
            "y0": 19.529223838164764,
            "y1": 19.524757850779732
           },
           {
            "line": {
             "color": "white",
             "width": 3
            },
            "type": "line",
            "x0": 17.34095136486764,
            "x1": 17.14134924269411,
            "y0": 18.479990787000045,
            "y1": 18.49260002265585
           },
           {
            "line": {
             "color": "white",
             "width": 3
            },
            "type": "line",
            "x0": 25.258745946755344,
            "x1": 25.05937671386512,
            "y0": 17.227998637646554,
            "y1": 17.243870278291553
           },
           {
            "line": {
             "color": "white",
             "width": 3
            },
            "type": "line",
            "x0": 22.07554282011202,
            "x1": 21.876168524208197,
            "y0": 17.487532998386133,
            "y1": 17.503340912000994
           },
           {
            "line": {
             "color": "white",
             "width": 3
            },
            "type": "line",
            "x0": 12.597918901829786,
            "x1": 12.398502167158664,
            "y0": 18.26541760593839,
            "y1": 18.28068082752191
           },
           {
            "line": {
             "color": "black",
             "width": 3
            },
            "type": "line",
            "x0": 7.456592488727046,
            "x1": 7.2574918706151985,
            "y0": 18.62945739901776,
            "y1": 18.648403213000805
           },
           {
            "line": {
             "color": "white",
             "width": 3
            },
            "type": "line",
            "x0": 9.637660860634579,
            "x1": 9.438173094827501,
            "y0": 18.50186882136765,
            "y1": 18.51617376083976
           },
           {
            "line": {
             "color": "white",
             "width": 3
            },
            "type": "line",
            "x0": 20.488300780668517,
            "x1": 20.288865990836396,
            "y0": 17.682453989501862,
            "y1": 17.69747945470658
           },
           {
            "line": {
             "color": "white",
             "width": 3
            },
            "type": "line",
            "x0": 26.842789468182637,
            "x1": 26.643424737284974,
            "y0": 17.095101320584554,
            "y1": 17.111029411308234
           },
           {
            "line": {
             "color": "white",
             "width": 3
            },
            "type": "line",
            "x0": 18.88926563842527,
            "x1": 18.689904169746445,
            "y0": 17.727261587764193,
            "y1": 17.743230457674766
           }
          ],
          "title": {
           "text": "<b>Percentage: 0%  |  Number of Agents: 20</b>",
           "x": 0.5
          }
         },
         "name": "150"
        },
        {
         "data": [
          {
           "hoverinfo": "name",
           "line": {
            "color": "grey"
           },
           "mode": "lines",
           "name": "Exterior",
           "showlegend": false,
           "type": "scatter",
           "x": {
            "bdata": "AAAAAAAAAAAAAAAAAAAAAAAAAAAAAERAAAAAAAAAREAAAAAAAAAAAA==",
            "dtype": "f8"
           },
           "y": {
            "bdata": "AAAAAAAANEAAAAAAAAAAAAAAAAAAAAAAAAAAAAAANEAAAAAAAAA0QA==",
            "dtype": "f8"
           }
          },
          {
           "hoverinfo": "name",
           "line": {
            "color": "grey"
           },
           "mode": "lines",
           "name": "Obstacle",
           "showlegend": false,
           "type": "scatter",
           "x": {
            "bdata": "AAAAAAAAFEAAAAAAAAAcQAAAAAAAABxAAAAAAAAAFEAAAAAAAAAUQA==",
            "dtype": "f8"
           },
           "y": {
            "bdata": "AAAAAAAAMEAAAAAAAAAwQAAAAAAAABBAAAAAAAAAEEAAAAAAAAAwQA==",
            "dtype": "f8"
           }
          },
          {
           "hoverinfo": "name",
           "line": {
            "color": "grey"
           },
           "mode": "lines",
           "name": "Obstacle",
           "showlegend": false,
           "type": "scatter",
           "x": {
            "bdata": "AAAAAAAAKkAAAAAAAAAuQAAAAAAAAC5AAAAAAAAAKkAAAAAAAAAqQA==",
            "dtype": "f8"
           },
           "y": {
            "bdata": "AAAAAAAAMEAAAAAAAAAwQAAAAAAAABBAAAAAAAAAEEAAAAAAAAAwQA==",
            "dtype": "f8"
           }
          },
          {
           "hoverinfo": "name",
           "line": {
            "color": "grey"
           },
           "mode": "lines",
           "name": "Obstacle",
           "showlegend": false,
           "type": "scatter",
           "x": {
            "bdata": "AAAAAAAAOUAAAAAAAAA7QAAAAAAAADtAAAAAAAAAOUAAAAAAAAA5QA==",
            "dtype": "f8"
           },
           "y": {
            "bdata": "AAAAAAAAMEAAAAAAAAAwQAAAAAAAABBAAAAAAAAAEEAAAAAAAAAwQA==",
            "dtype": "f8"
           }
          },
          {
           "hoverinfo": "name",
           "line": {
            "color": "grey"
           },
           "mode": "lines",
           "name": "Obstacle",
           "showlegend": false,
           "type": "scatter",
           "x": {
            "bdata": "AAAAAACAQEAAAAAAAIBBQAAAAAAAgEFAAAAAAACAQEAAAAAAAIBAQA==",
            "dtype": "f8"
           },
           "y": {
            "bdata": "AAAAAAAAMEAAAAAAAAAwQAAAAAAAABBAAAAAAAAAEEAAAAAAAAAwQA==",
            "dtype": "f8"
           }
          },
          {
           "hoverinfo": "text",
           "marker": {
            "opacity": 1,
            "size": 1
           },
           "mode": "markers",
           "showlegend": false,
           "text": [
            "ID: 22.0, Pos(12.98,18.50)"
           ],
           "type": "scatter",
           "x": [
            12.976957895204942
           ],
           "y": [
            18.49759934989559
           ]
          },
          {
           "hoverinfo": "text",
           "marker": {
            "opacity": 1,
            "size": 1
           },
           "mode": "markers",
           "showlegend": false,
           "text": [
            "ID: 23.0, Pos(13.19,19.50)"
           ],
           "type": "scatter",
           "x": [
            13.185649947134447
           ],
           "y": [
            19.502500812877837
           ]
          },
          {
           "hoverinfo": "text",
           "marker": {
            "opacity": 1,
            "size": 1
           },
           "mode": "markers",
           "showlegend": false,
           "text": [
            "ID: 24.0, Pos(7.90,18.58)"
           ],
           "type": "scatter",
           "x": [
            7.899797334500955
           ],
           "y": [
            18.580180507813388
           ]
          },
          {
           "hoverinfo": "text",
           "marker": {
            "opacity": 1,
            "size": 1
           },
           "mode": "markers",
           "showlegend": false,
           "text": [
            "ID: 25.0, Pos(16.40,19.48)"
           ],
           "type": "scatter",
           "x": [
            16.395842807340447
           ],
           "y": [
            19.482570127487488
           ]
          },
          {
           "hoverinfo": "text",
           "marker": {
            "opacity": 1,
            "size": 1
           },
           "mode": "markers",
           "showlegend": false,
           "text": [
            "ID: 26.0, Pos(14.63,17.70)"
           ],
           "type": "scatter",
           "x": [
            14.633235163394204
           ],
           "y": [
            17.701971174448897
           ]
          },
          {
           "hoverinfo": "text",
           "marker": {
            "opacity": 1,
            "size": 1
           },
           "mode": "markers",
           "showlegend": false,
           "text": [
            "ID: 27.0, Pos(13.24,17.86)"
           ],
           "type": "scatter",
           "x": [
            13.242227925323116
           ],
           "y": [
            17.857007577048442
           ]
          },
          {
           "hoverinfo": "text",
           "marker": {
            "opacity": 1,
            "size": 1
           },
           "mode": "markers",
           "showlegend": false,
           "text": [
            "ID: 28.0, Pos(8.88,18.58)"
           ],
           "type": "scatter",
           "x": [
            8.875861600403805
           ],
           "y": [
            18.58219933142538
           ]
          },
          {
           "hoverinfo": "text",
           "marker": {
            "opacity": 1,
            "size": 1
           },
           "mode": "markers",
           "showlegend": false,
           "text": [
            "ID: 29.0, Pos(6.39,19.50)"
           ],
           "type": "scatter",
           "x": [
            6.394655017627946
           ],
           "y": [
            19.50431588714987
           ]
          },
          {
           "hoverinfo": "text",
           "marker": {
            "opacity": 1,
            "size": 1
           },
           "mode": "markers",
           "showlegend": false,
           "text": [
            "ID: 30.0, Pos(6.66,18.91)"
           ],
           "type": "scatter",
           "x": [
            6.657367970019182
           ],
           "y": [
            18.905432139637806
           ]
          },
          {
           "hoverinfo": "text",
           "marker": {
            "opacity": 1,
            "size": 1
           },
           "mode": "markers",
           "showlegend": false,
           "text": [
            "ID: 31.0, Pos(6.93,18.45)"
           ],
           "type": "scatter",
           "x": [
            6.93008108715558
           ],
           "y": [
            18.448349500070346
           ]
          },
          {
           "hoverinfo": "text",
           "marker": {
            "opacity": 1,
            "size": 1
           },
           "mode": "markers",
           "showlegend": false,
           "text": [
            "ID: 33.0, Pos(7.46,19.14)"
           ],
           "type": "scatter",
           "x": [
            7.459342314129028
           ],
           "y": [
            19.14209500938759
           ]
          },
          {
           "hoverinfo": "text",
           "marker": {
            "opacity": 1,
            "size": 1
           },
           "mode": "markers",
           "showlegend": false,
           "text": [
            "ID: 34.0, Pos(14.17,18.33)"
           ],
           "type": "scatter",
           "x": [
            14.170087324272085
           ],
           "y": [
            18.330404770105716
           ]
          },
          {
           "hoverinfo": "text",
           "marker": {
            "opacity": 1,
            "size": 1
           },
           "mode": "markers",
           "showlegend": false,
           "text": [
            "ID: 35.0, Pos(11.91,18.55)"
           ],
           "type": "scatter",
           "x": [
            11.910368603127015
           ],
           "y": [
            18.553805195617645
           ]
          },
          {
           "hoverinfo": "text",
           "marker": {
            "opacity": 1,
            "size": 1
           },
           "mode": "markers",
           "showlegend": false,
           "text": [
            "ID: 36.0, Pos(6.15,18.38)"
           ],
           "type": "scatter",
           "x": [
            6.149249869104039
           ],
           "y": [
            18.37944482544028
           ]
          },
          {
           "hoverinfo": "text",
           "marker": {
            "opacity": 1,
            "size": 1
           },
           "mode": "markers",
           "showlegend": false,
           "text": [
            "ID: 37.0, Pos(11.82,17.94)"
           ],
           "type": "scatter",
           "x": [
            11.824144272685862
           ],
           "y": [
            17.93547942674541
           ]
          },
          {
           "hoverinfo": "text",
           "marker": {
            "opacity": 1,
            "size": 1
           },
           "mode": "markers",
           "showlegend": false,
           "text": [
            "ID: 38.0, Pos(8.80,19.58)"
           ],
           "type": "scatter",
           "x": [
            8.800369066640009
           ],
           "y": [
            19.580347293318887
           ]
          },
          {
           "hoverinfo": "text",
           "marker": {
            "opacity": 1,
            "size": 1
           },
           "mode": "markers",
           "showlegend": false,
           "text": [
            "ID: 39.0, Pos(10.87,18.59)"
           ],
           "type": "scatter",
           "x": [
            10.872942288496146
           ],
           "y": [
            18.592918364932235
           ]
          },
          {
           "hoverinfo": "text",
           "marker": {
            "opacity": 1,
            "size": 1
           },
           "mode": "markers",
           "showlegend": false,
           "text": [
            "ID: 40.0, Pos(15.50,18.00)"
           ],
           "type": "scatter",
           "x": [
            15.504398080840241
           ],
           "y": [
            18.001142724878097
           ]
          },
          {
           "hoverinfo": "text",
           "marker": {
            "opacity": 1,
            "size": 1
           },
           "mode": "markers",
           "showlegend": false,
           "text": [
            "ID: 41.0, Pos(9.86,18.58)"
           ],
           "type": "scatter",
           "x": [
            9.863296885506546
           ],
           "y": [
            18.583820562562998
           ]
          },
          {
           "hoverinfo": "none",
           "marker": {
            "opacity": 0,
            "size": 1
           },
           "mode": "markers",
           "showlegend": false,
           "type": "scatter",
           "x": [
            0
           ],
           "y": [
            0
           ]
          }
         ],
         "layout": {
          "shapes": [
           {
            "fillcolor": "rgba(57, 255, 190, 0.5)",
            "line": {
             "color": "rgba(57, 255, 190, 0.5)"
            },
            "type": "circle",
            "x0": 12.776957895204943,
            "x1": 13.176957895204941,
            "xref": "x",
            "y0": 18.29759934989559,
            "y1": 18.69759934989559,
            "yref": "y"
           },
           {
            "fillcolor": "rgba(0, 0, 128, 0.5)",
            "line": {
             "color": "rgba(0, 0, 128, 0.5)"
            },
            "type": "circle",
            "x0": 12.985649947134448,
            "x1": 13.385649947134446,
            "xref": "x",
            "y0": 19.302500812877838,
            "y1": 19.702500812877837,
            "yref": "y"
           },
           {
            "fillcolor": "rgba(199, 255, 48, 0.5)",
            "line": {
             "color": "rgba(199, 255, 48, 0.5)"
            },
            "type": "circle",
            "x0": 7.699797334500955,
            "x1": 8.099797334500956,
            "xref": "x",
            "y0": 18.38018050781339,
            "y1": 18.780180507813387,
            "yref": "y"
           },
           {
            "fillcolor": "rgba(0, 0, 128, 0.5)",
            "line": {
             "color": "rgba(0, 0, 128, 0.5)"
            },
            "type": "circle",
            "x0": 16.195842807340448,
            "x1": 16.595842807340446,
            "xref": "x",
            "y0": 19.28257012748749,
            "y1": 19.682570127487487,
            "yref": "y"
           },
           {
            "fillcolor": "rgba(106, 255, 141, 0.5)",
            "line": {
             "color": "rgba(106, 255, 141, 0.5)"
            },
            "type": "circle",
            "x0": 14.433235163394205,
            "x1": 14.833235163394203,
            "xref": "x",
            "y0": 17.501971174448897,
            "y1": 17.901971174448896,
            "yref": "y"
           },
           {
            "fillcolor": "rgba(0, 220, 254, 0.5)",
            "line": {
             "color": "rgba(0, 220, 254, 0.5)"
            },
            "type": "circle",
            "x0": 13.042227925323116,
            "x1": 13.442227925323115,
            "xref": "x",
            "y0": 17.657007577048443,
            "y1": 18.05700757704844,
            "yref": "y"
           },
           {
            "fillcolor": "rgba(160, 255, 86, 0.5)",
            "line": {
             "color": "rgba(160, 255, 86, 0.5)"
            },
            "type": "circle",
            "x0": 8.675861600403806,
            "x1": 9.075861600403805,
            "xref": "x",
            "y0": 18.38219933142538,
            "y1": 18.782199331425378,
            "yref": "y"
           },
           {
            "fillcolor": "rgba(255, 222, 0, 0.5)",
            "line": {
             "color": "rgba(255, 222, 0, 0.5)"
            },
            "type": "circle",
            "x0": 6.194655017627946,
            "x1": 6.594655017627947,
            "xref": "x",
            "y0": 19.30431588714987,
            "y1": 19.704315887149868,
            "yref": "y"
           },
           {
            "fillcolor": "rgba(255, 96, 0, 0.5)",
            "line": {
             "color": "rgba(255, 96, 0, 0.5)"
            },
            "type": "circle",
            "x0": 6.457367970019182,
            "x1": 6.857367970019182,
            "xref": "x",
            "y0": 18.705432139637807,
            "y1": 19.105432139637806,
            "yref": "y"
           },
           {
            "fillcolor": "rgba(222, 255, 25, 0.5)",
            "line": {
             "color": "rgba(222, 255, 25, 0.5)"
            },
            "type": "circle",
            "x0": 6.73008108715558,
            "x1": 7.13008108715558,
            "xref": "x",
            "y0": 18.248349500070347,
            "y1": 18.648349500070346,
            "yref": "y"
           },
           {
            "fillcolor": "rgba(235, 255, 12, 0.5)",
            "line": {
             "color": "rgba(235, 255, 12, 0.5)"
            },
            "type": "circle",
            "x0": 7.259342314129028,
            "x1": 7.659342314129028,
            "xref": "x",
            "y0": 18.94209500938759,
            "y1": 19.342095009387588,
            "yref": "y"
           },
           {
            "fillcolor": "rgba(0, 188, 255, 0.5)",
            "line": {
             "color": "rgba(0, 188, 255, 0.5)"
            },
            "type": "circle",
            "x0": 13.970087324272086,
            "x1": 14.370087324272085,
            "xref": "x",
            "y0": 18.130404770105716,
            "y1": 18.530404770105715,
            "yref": "y"
           },
           {
            "fillcolor": "rgba(102, 255, 144, 0.5)",
            "line": {
             "color": "rgba(102, 255, 144, 0.5)"
            },
            "type": "circle",
            "x0": 11.710368603127016,
            "x1": 12.110368603127014,
            "xref": "x",
            "y0": 18.353805195617646,
            "y1": 18.753805195617645,
            "yref": "y"
           },
           {
            "fillcolor": "rgba(246, 11, 0, 0.5)",
            "line": {
             "color": "rgba(246, 11, 0, 0.5)"
            },
            "type": "circle",
            "x0": 5.9492498691040385,
            "x1": 6.349249869104039,
            "xref": "x",
            "y0": 18.17944482544028,
            "y1": 18.57944482544028,
            "yref": "y"
           },
           {
            "fillcolor": "rgba(0, 56, 255, 0.5)",
            "line": {
             "color": "rgba(0, 56, 255, 0.5)"
            },
            "type": "circle",
            "x0": 11.624144272685863,
            "x1": 12.024144272685861,
            "xref": "x",
            "y0": 17.73547942674541,
            "y1": 18.13547942674541,
            "yref": "y"
           },
           {
            "fillcolor": "rgba(0, 0, 128, 0.5)",
            "line": {
             "color": "rgba(0, 0, 128, 0.5)"
            },
            "type": "circle",
            "x0": 8.60036906664001,
            "x1": 9.000369066640008,
            "xref": "x",
            "y0": 19.380347293318888,
            "y1": 19.780347293318886,
            "yref": "y"
           },
           {
            "fillcolor": "rgba(131, 255, 115, 0.5)",
            "line": {
             "color": "rgba(131, 255, 115, 0.5)"
            },
            "type": "circle",
            "x0": 10.672942288496147,
            "x1": 11.072942288496145,
            "xref": "x",
            "y0": 18.392918364932235,
            "y1": 18.792918364932234,
            "yref": "y"
           },
           {
            "fillcolor": "rgba(0, 200, 255, 0.5)",
            "line": {
             "color": "rgba(0, 200, 255, 0.5)"
            },
            "type": "circle",
            "x0": 15.304398080840242,
            "x1": 15.70439808084024,
            "xref": "x",
            "y0": 17.801142724878098,
            "y1": 18.201142724878096,
            "yref": "y"
           },
           {
            "fillcolor": "rgba(144, 255, 102, 0.5)",
            "line": {
             "color": "rgba(144, 255, 102, 0.5)"
            },
            "type": "circle",
            "x0": 9.663296885506547,
            "x1": 10.063296885506546,
            "xref": "x",
            "y0": 18.383820562563,
            "y1": 18.783820562562997,
            "yref": "y"
           },
           {
            "fillcolor": "rgba(255,255,255,0)",
            "line": {
             "width": 0
            },
            "type": "circle",
            "x0": 0,
            "x1": 0,
            "xref": "x",
            "y0": 0,
            "y1": 0,
            "yref": "y"
           },
           {
            "line": {
             "color": "black",
             "width": 3
            },
            "type": "line",
            "x0": 12.976957895204942,
            "x1": 12.781157002408888,
            "y0": 18.49759934989559,
            "y1": 18.538367111426833
           },
           {
            "line": {
             "color": "white",
             "width": 3
            },
            "type": "line",
            "x0": 13.185649947134447,
            "x1": 13.385643094073217,
            "y0": 19.502500812877837,
            "y1": 19.500845162695114
           },
           {
            "line": {
             "color": "black",
             "width": 3
            },
            "type": "line",
            "x0": 7.899797334500955,
            "x1": 7.699797834003746,
            "y0": 18.580180507813388,
            "y1": 18.57973351691077
           },
           {
            "line": {
             "color": "white",
             "width": 3
            },
            "type": "line",
            "x0": 16.395842807340447,
            "x1": 16.595841698554402,
            "y0": 19.482570127487488,
            "y1": 19.48190415962848
           },
           {
            "line": {
             "color": "black",
             "width": 3
            },
            "type": "line",
            "x0": 14.633235163394204,
            "x1": 14.825802813933329,
            "y0": 17.701971174448897,
            "y1": 17.75598691257994
           },
           {
            "line": {
             "color": "black",
             "width": 3
            },
            "type": "line",
            "x0": 13.242227925323116,
            "x1": 13.44163169236978,
            "y0": 17.857007577048442,
            "y1": 17.872439287504506
           },
           {
            "line": {
             "color": "black",
             "width": 3
            },
            "type": "line",
            "x0": 8.875861600403805,
            "x1": 8.676293399237524,
            "y0": 18.58219933142538,
            "y1": 18.595334516359543
           },
           {
            "line": {
             "color": "black",
             "width": 3
            },
            "type": "line",
            "x0": 6.394655017627946,
            "x1": 6.195326420239449,
            "y0": 19.50431588714987,
            "y1": 19.520689960043754
           },
           {
            "line": {
             "color": "black",
             "width": 3
            },
            "type": "line",
            "x0": 6.657367970019182,
            "x1": 6.8240381276295405,
            "y0": 18.905432139637806,
            "y1": 19.0159810363403
           },
           {
            "line": {
             "color": "black",
             "width": 3
            },
            "type": "line",
            "x0": 6.93008108715558,
            "x1": 6.779205191873951,
            "y0": 18.448349500070346,
            "y1": 18.31706178463982
           },
           {
            "line": {
             "color": "black",
             "width": 3
            },
            "type": "line",
            "x0": 7.459342314129028,
            "x1": 7.260112126922635,
            "y0": 19.14209500938759,
            "y1": 19.159625910839186
           },
           {
            "line": {
             "color": "black",
             "width": 3
            },
            "type": "line",
            "x0": 14.170087324272085,
            "x1": 13.971660169636992,
            "y0": 18.330404770105716,
            "y1": 18.355438034044344
           },
           {
            "line": {
             "color": "black",
             "width": 3
            },
            "type": "line",
            "x0": 11.910368603127015,
            "x1": 11.720567109862685,
            "y0": 18.553805195617645,
            "y1": 18.61685591452418
           },
           {
            "line": {
             "color": "white",
             "width": 3
            },
            "type": "line",
            "x0": 6.149249869104039,
            "x1": 6.349244403274418,
            "y0": 18.37944482544028,
            "y1": 18.380923440323514
           },
           {
            "line": {
             "color": "white",
             "width": 3
            },
            "type": "line",
            "x0": 11.824144272685862,
            "x1": 12.023705645494099,
            "y0": 17.93547942674541,
            "y1": 17.922240904059993
           },
           {
            "line": {
             "color": "white",
             "width": 3
            },
            "type": "line",
            "x0": 8.800369066640009,
            "x1": 8.999889910630893,
            "y0": 19.580347293318887,
            "y1": 19.566511368587772
           },
           {
            "line": {
             "color": "black",
             "width": 3
            },
            "type": "line",
            "x0": 10.872942288496146,
            "x1": 10.67322849938112,
            "y0": 18.592918364932235,
            "y1": 18.603614272435525
           },
           {
            "line": {
             "color": "black",
             "width": 3
            },
            "type": "line",
            "x0": 15.504398080840241,
            "x1": 15.305084353487388,
            "y0": 18.001142724878097,
            "y1": 18.017696820706984
           },
           {
            "line": {
             "color": "black",
             "width": 3
            },
            "type": "line",
            "x0": 9.863296885506546,
            "x1": 9.663663938511709,
            "y0": 18.583820562562998,
            "y1": 18.595931981726594
           },
           {
            "line": {
             "color": "rgba(255,255,255,0)",
             "width": 3
            },
            "type": "line",
            "x0": 0,
            "x1": null,
            "y0": 0,
            "y1": null
           }
          ],
          "title": {
           "text": "<b>Percentage: 0%  |  Number of Agents: 19</b>",
           "x": 0.5
          }
         },
         "name": "200"
        },
        {
         "data": [
          {
           "hoverinfo": "name",
           "line": {
            "color": "grey"
           },
           "mode": "lines",
           "name": "Exterior",
           "showlegend": false,
           "type": "scatter",
           "x": {
            "bdata": "AAAAAAAAAAAAAAAAAAAAAAAAAAAAAERAAAAAAAAAREAAAAAAAAAAAA==",
            "dtype": "f8"
           },
           "y": {
            "bdata": "AAAAAAAANEAAAAAAAAAAAAAAAAAAAAAAAAAAAAAANEAAAAAAAAA0QA==",
            "dtype": "f8"
           }
          },
          {
           "hoverinfo": "name",
           "line": {
            "color": "grey"
           },
           "mode": "lines",
           "name": "Obstacle",
           "showlegend": false,
           "type": "scatter",
           "x": {
            "bdata": "AAAAAAAAFEAAAAAAAAAcQAAAAAAAABxAAAAAAAAAFEAAAAAAAAAUQA==",
            "dtype": "f8"
           },
           "y": {
            "bdata": "AAAAAAAAMEAAAAAAAAAwQAAAAAAAABBAAAAAAAAAEEAAAAAAAAAwQA==",
            "dtype": "f8"
           }
          },
          {
           "hoverinfo": "name",
           "line": {
            "color": "grey"
           },
           "mode": "lines",
           "name": "Obstacle",
           "showlegend": false,
           "type": "scatter",
           "x": {
            "bdata": "AAAAAAAAKkAAAAAAAAAuQAAAAAAAAC5AAAAAAAAAKkAAAAAAAAAqQA==",
            "dtype": "f8"
           },
           "y": {
            "bdata": "AAAAAAAAMEAAAAAAAAAwQAAAAAAAABBAAAAAAAAAEEAAAAAAAAAwQA==",
            "dtype": "f8"
           }
          },
          {
           "hoverinfo": "name",
           "line": {
            "color": "grey"
           },
           "mode": "lines",
           "name": "Obstacle",
           "showlegend": false,
           "type": "scatter",
           "x": {
            "bdata": "AAAAAAAAOUAAAAAAAAA7QAAAAAAAADtAAAAAAAAAOUAAAAAAAAA5QA==",
            "dtype": "f8"
           },
           "y": {
            "bdata": "AAAAAAAAMEAAAAAAAAAwQAAAAAAAABBAAAAAAAAAEEAAAAAAAAAwQA==",
            "dtype": "f8"
           }
          },
          {
           "hoverinfo": "name",
           "line": {
            "color": "grey"
           },
           "mode": "lines",
           "name": "Obstacle",
           "showlegend": false,
           "type": "scatter",
           "x": {
            "bdata": "AAAAAACAQEAAAAAAAIBBQAAAAAAAgEFAAAAAAACAQEAAAAAAAIBAQA==",
            "dtype": "f8"
           },
           "y": {
            "bdata": "AAAAAAAAMEAAAAAAAAAwQAAAAAAAABBAAAAAAAAAEEAAAAAAAAAwQA==",
            "dtype": "f8"
           }
          },
          {
           "hoverinfo": "text",
           "marker": {
            "opacity": 1,
            "size": 1
           },
           "mode": "markers",
           "showlegend": false,
           "text": [
            "ID: 22.0, Pos(7.58,18.67)"
           ],
           "type": "scatter",
           "x": [
            7.579950924954575
           ],
           "y": [
            18.671820362507223
           ]
          },
          {
           "hoverinfo": "text",
           "marker": {
            "opacity": 1,
            "size": 1
           },
           "mode": "markers",
           "showlegend": false,
           "text": [
            "ID: 24.0, Pos(10.61,19.45)"
           ],
           "type": "scatter",
           "x": [
            10.605209121603082
           ],
           "y": [
            19.44697779223786
           ]
          },
          {
           "hoverinfo": "text",
           "marker": {
            "opacity": 1,
            "size": 1
           },
           "mode": "markers",
           "showlegend": false,
           "text": [
            "ID: 28.0, Pos(10.34,18.07)"
           ],
           "type": "scatter",
           "x": [
            10.335461481971661
           ],
           "y": [
            18.071697924090454
           ]
          },
          {
           "hoverinfo": "text",
           "marker": {
            "opacity": 1,
            "size": 1
           },
           "mode": "markers",
           "showlegend": false,
           "text": [
            "ID: 29.0, Pos(15.13,19.49)"
           ],
           "type": "scatter",
           "x": [
            15.130131523849956
           ],
           "y": [
            19.48703281083962
           ]
          },
          {
           "hoverinfo": "text",
           "marker": {
            "opacity": 1,
            "size": 1
           },
           "mode": "markers",
           "showlegend": false,
           "text": [
            "ID: 30.0, Pos(17.44,19.48)"
           ],
           "type": "scatter",
           "x": [
            17.43689302635899
           ],
           "y": [
            19.478951232558945
           ]
          },
          {
           "hoverinfo": "text",
           "marker": {
            "opacity": 1,
            "size": 1
           },
           "mode": "markers",
           "showlegend": false,
           "text": [
            "ID: 31.0, Pos(14.54,18.64)"
           ],
           "type": "scatter",
           "x": [
            14.542356213644961
           ],
           "y": [
            18.64436807722431
           ]
          },
          {
           "hoverinfo": "text",
           "marker": {
            "opacity": 1,
            "size": 1
           },
           "mode": "markers",
           "showlegend": false,
           "text": [
            "ID: 33.0, Pos(13.53,19.50)"
           ],
           "type": "scatter",
           "x": [
            13.530753022845433
           ],
           "y": [
            19.502687247956274
           ]
          },
          {
           "hoverinfo": "text",
           "marker": {
            "opacity": 1,
            "size": 1
           },
           "mode": "markers",
           "showlegend": false,
           "text": [
            "ID: 34.0, Pos(8.48,18.68)"
           ],
           "type": "scatter",
           "x": [
            8.47568433586313
           ],
           "y": [
            18.676686847357622
           ]
          },
          {
           "hoverinfo": "text",
           "marker": {
            "opacity": 1,
            "size": 1
           },
           "mode": "markers",
           "showlegend": false,
           "text": [
            "ID: 35.0, Pos(6.76,18.72)"
           ],
           "type": "scatter",
           "x": [
            6.758856791927007
           ],
           "y": [
            18.71800630413342
           ]
          },
          {
           "hoverinfo": "text",
           "marker": {
            "opacity": 1,
            "size": 1
           },
           "mode": "markers",
           "showlegend": false,
           "text": [
            "ID: 36.0, Pos(12.00,19.42)"
           ],
           "type": "scatter",
           "x": [
            11.997679721901529
           ],
           "y": [
            19.419806384493338
           ]
          },
          {
           "hoverinfo": "text",
           "marker": {
            "opacity": 1,
            "size": 1
           },
           "mode": "markers",
           "showlegend": false,
           "text": [
            "ID: 39.0, Pos(6.30,18.57)"
           ],
           "type": "scatter",
           "x": [
            6.300436710428551
           ],
           "y": [
            18.57466709155672
           ]
          },
          {
           "hoverinfo": "text",
           "marker": {
            "opacity": 1,
            "size": 1
           },
           "mode": "markers",
           "showlegend": false,
           "text": [
            "ID: 40.0, Pos(9.38,18.73)"
           ],
           "type": "scatter",
           "x": [
            9.376724071924981
           ],
           "y": [
            18.731846633619554
           ]
          },
          {
           "hoverinfo": "text",
           "marker": {
            "opacity": 1,
            "size": 1
           },
           "mode": "markers",
           "showlegend": false,
           "text": [
            "ID: 41.0, Pos(8.36,19.42)"
           ],
           "type": "scatter",
           "x": [
            8.363805293106333
           ],
           "y": [
            19.41584235235876
           ]
          },
          {
           "hoverinfo": "none",
           "marker": {
            "opacity": 0,
            "size": 1
           },
           "mode": "markers",
           "showlegend": false,
           "type": "scatter",
           "x": [
            0
           ],
           "y": [
            0
           ]
          },
          {
           "hoverinfo": "none",
           "marker": {
            "opacity": 0,
            "size": 1
           },
           "mode": "markers",
           "showlegend": false,
           "type": "scatter",
           "x": [
            0
           ],
           "y": [
            0
           ]
          },
          {
           "hoverinfo": "none",
           "marker": {
            "opacity": 0,
            "size": 1
           },
           "mode": "markers",
           "showlegend": false,
           "type": "scatter",
           "x": [
            0
           ],
           "y": [
            0
           ]
          },
          {
           "hoverinfo": "none",
           "marker": {
            "opacity": 0,
            "size": 1
           },
           "mode": "markers",
           "showlegend": false,
           "type": "scatter",
           "x": [
            0
           ],
           "y": [
            0
           ]
          },
          {
           "hoverinfo": "none",
           "marker": {
            "opacity": 0,
            "size": 1
           },
           "mode": "markers",
           "showlegend": false,
           "type": "scatter",
           "x": [
            0
           ],
           "y": [
            0
           ]
          },
          {
           "hoverinfo": "none",
           "marker": {
            "opacity": 0,
            "size": 1
           },
           "mode": "markers",
           "showlegend": false,
           "type": "scatter",
           "x": [
            0
           ],
           "y": [
            0
           ]
          },
          {
           "hoverinfo": "none",
           "marker": {
            "opacity": 0,
            "size": 1
           },
           "mode": "markers",
           "showlegend": false,
           "type": "scatter",
           "x": [
            0
           ],
           "y": [
            0
           ]
          }
         ],
         "layout": {
          "shapes": [
           {
            "fillcolor": "rgba(160, 255, 86, 0.5)",
            "line": {
             "color": "rgba(160, 255, 86, 0.5)"
            },
            "type": "circle",
            "x0": 7.379950924954575,
            "x1": 7.7799509249545755,
            "xref": "x",
            "y0": 18.471820362507223,
            "y1": 18.871820362507222,
            "yref": "y"
           },
           {
            "fillcolor": "rgba(0, 69, 255, 0.5)",
            "line": {
             "color": "rgba(0, 69, 255, 0.5)"
            },
            "type": "circle",
            "x0": 10.405209121603082,
            "x1": 10.805209121603081,
            "xref": "x",
            "y0": 19.24697779223786,
            "y1": 19.64697779223786,
            "yref": "y"
           },
           {
            "fillcolor": "rgba(0, 0, 128, 0.5)",
            "line": {
             "color": "rgba(0, 0, 128, 0.5)"
            },
            "type": "circle",
            "x0": 10.135461481971662,
            "x1": 10.53546148197166,
            "xref": "x",
            "y0": 17.871697924090455,
            "y1": 18.271697924090454,
            "yref": "y"
           },
           {
            "fillcolor": "rgba(0, 0, 128, 0.5)",
            "line": {
             "color": "rgba(0, 0, 128, 0.5)"
            },
            "type": "circle",
            "x0": 14.930131523849957,
            "x1": 15.330131523849955,
            "xref": "x",
            "y0": 19.28703281083962,
            "y1": 19.687032810839618,
            "yref": "y"
           },
           {
            "fillcolor": "rgba(0, 0, 128, 0.5)",
            "line": {
             "color": "rgba(0, 0, 128, 0.5)"
            },
            "type": "circle",
            "x0": 17.23689302635899,
            "x1": 17.63689302635899,
            "xref": "x",
            "y0": 19.278951232558946,
            "y1": 19.678951232558944,
            "yref": "y"
           },
           {
            "fillcolor": "rgba(0, 0, 128, 0.5)",
            "line": {
             "color": "rgba(0, 0, 128, 0.5)"
            },
            "type": "circle",
            "x0": 14.342356213644962,
            "x1": 14.74235621364496,
            "xref": "x",
            "y0": 18.44436807722431,
            "y1": 18.84436807722431,
            "yref": "y"
           },
           {
            "fillcolor": "rgba(0, 0, 128, 0.5)",
            "line": {
             "color": "rgba(0, 0, 128, 0.5)"
            },
            "type": "circle",
            "x0": 13.330753022845434,
            "x1": 13.730753022845432,
            "xref": "x",
            "y0": 19.302687247956275,
            "y1": 19.702687247956273,
            "yref": "y"
           },
           {
            "fillcolor": "rgba(196, 255, 51, 0.5)",
            "line": {
             "color": "rgba(196, 255, 51, 0.5)"
            },
            "type": "circle",
            "x0": 8.275684335863131,
            "x1": 8.67568433586313,
            "xref": "x",
            "y0": 18.476686847357623,
            "y1": 18.87668684735762,
            "yref": "y"
           },
           {
            "fillcolor": "rgba(167, 255, 80, 0.5)",
            "line": {
             "color": "rgba(167, 255, 80, 0.5)"
            },
            "type": "circle",
            "x0": 6.558856791927007,
            "x1": 6.9588567919270075,
            "xref": "x",
            "y0": 18.518006304133422,
            "y1": 18.91800630413342,
            "yref": "y"
           },
           {
            "fillcolor": "rgba(0, 0, 205, 0.5)",
            "line": {
             "color": "rgba(0, 0, 205, 0.5)"
            },
            "type": "circle",
            "x0": 11.79767972190153,
            "x1": 12.197679721901528,
            "xref": "x",
            "y0": 19.21980638449334,
            "y1": 19.619806384493337,
            "yref": "y"
           },
           {
            "fillcolor": "rgba(131, 255, 115, 0.5)",
            "line": {
             "color": "rgba(131, 255, 115, 0.5)"
            },
            "type": "circle",
            "x0": 6.100436710428551,
            "x1": 6.500436710428551,
            "xref": "x",
            "y0": 18.37466709155672,
            "y1": 18.77466709155672,
            "yref": "y"
           },
           {
            "fillcolor": "rgba(209, 255, 38, 0.5)",
            "line": {
             "color": "rgba(209, 255, 38, 0.5)"
            },
            "type": "circle",
            "x0": 9.176724071924982,
            "x1": 9.57672407192498,
            "xref": "x",
            "y0": 18.531846633619555,
            "y1": 18.931846633619553,
            "yref": "y"
           },
           {
            "fillcolor": "rgba(0, 0, 128, 0.5)",
            "line": {
             "color": "rgba(0, 0, 128, 0.5)"
            },
            "type": "circle",
            "x0": 8.163805293106334,
            "x1": 8.563805293106332,
            "xref": "x",
            "y0": 19.21584235235876,
            "y1": 19.615842352358758,
            "yref": "y"
           },
           {
            "fillcolor": "rgba(255,255,255,0)",
            "line": {
             "width": 0
            },
            "type": "circle",
            "x0": 0,
            "x1": 0,
            "xref": "x",
            "y0": 0,
            "y1": 0,
            "yref": "y"
           },
           {
            "fillcolor": "rgba(255,255,255,0)",
            "line": {
             "width": 0
            },
            "type": "circle",
            "x0": 0,
            "x1": 0,
            "xref": "x",
            "y0": 0,
            "y1": 0,
            "yref": "y"
           },
           {
            "fillcolor": "rgba(255,255,255,0)",
            "line": {
             "width": 0
            },
            "type": "circle",
            "x0": 0,
            "x1": 0,
            "xref": "x",
            "y0": 0,
            "y1": 0,
            "yref": "y"
           },
           {
            "fillcolor": "rgba(255,255,255,0)",
            "line": {
             "width": 0
            },
            "type": "circle",
            "x0": 0,
            "x1": 0,
            "xref": "x",
            "y0": 0,
            "y1": 0,
            "yref": "y"
           },
           {
            "fillcolor": "rgba(255,255,255,0)",
            "line": {
             "width": 0
            },
            "type": "circle",
            "x0": 0,
            "x1": 0,
            "xref": "x",
            "y0": 0,
            "y1": 0,
            "yref": "y"
           },
           {
            "fillcolor": "rgba(255,255,255,0)",
            "line": {
             "width": 0
            },
            "type": "circle",
            "x0": 0,
            "x1": 0,
            "xref": "x",
            "y0": 0,
            "y1": 0,
            "yref": "y"
           },
           {
            "fillcolor": "rgba(255,255,255,0)",
            "line": {
             "width": 0
            },
            "type": "circle",
            "x0": 0,
            "x1": 0,
            "xref": "x",
            "y0": 0,
            "y1": 0,
            "yref": "y"
           },
           {
            "line": {
             "color": "black",
             "width": 3
            },
            "type": "line",
            "x0": 7.579950924954575,
            "x1": 7.3804307750036715,
            "y0": 18.671820362507223,
            "y1": 18.685666292001805
           },
           {
            "line": {
             "color": "white",
             "width": 3
            },
            "type": "line",
            "x0": 10.605209121603082,
            "x1": 10.805208778006506,
            "y0": 19.44697779223786,
            "y1": 19.447348519242844
           },
           {
            "line": {
             "color": "white",
             "width": 3
            },
            "type": "line",
            "x0": 10.335461481971661,
            "x1": 10.533131409966227,
            "y0": 18.071697924090454,
            "y1": 18.102138022096593
           },
           {
            "line": {
             "color": "white",
             "width": 3
            },
            "type": "line",
            "x0": 15.130131523849956,
            "x1": 15.330130640554136,
            "y0": 19.48703281083962,
            "y1": 19.486438405634768
           },
           {
            "line": {
             "color": "white",
             "width": 3
            },
            "type": "line",
            "x0": 17.43689302635899,
            "x1": 17.636892684605403,
            "y0": 19.478951232558945,
            "y1": 19.479320963972153
           },
           {
            "line": {
             "color": "white",
             "width": 3
            },
            "type": "line",
            "x0": 14.542356213644961,
            "x1": 14.739559184304335,
            "y0": 18.64436807722431,
            "y1": 18.67769956928689
           },
           {
            "line": {
             "color": "white",
             "width": 3
            },
            "type": "line",
            "x0": 13.530753022845433,
            "x1": 13.730734175787974,
            "y0": 19.502687247956274,
            "y1": 19.499941620929246
           },
           {
            "line": {
             "color": "black",
             "width": 3
            },
            "type": "line",
            "x0": 8.47568433586313,
            "x1": 8.27569664963277,
            "y0": 18.676686847357622,
            "y1": 18.674467532997905
           },
           {
            "line": {
             "color": "black",
             "width": 3
            },
            "type": "line",
            "x0": 6.758856791927007,
            "x1": 6.617516196079094,
            "y0": 18.71800630413342,
            "y1": 18.859508374667236
           },
           {
            "line": {
             "color": "white",
             "width": 3
            },
            "type": "line",
            "x0": 11.997679721901529,
            "x1": 12.197673005573519,
            "y0": 19.419806384493338,
            "y1": 19.421445434857198
           },
           {
            "line": {
             "color": "black",
             "width": 3
            },
            "type": "line",
            "x0": 6.300436710428551,
            "x1": 6.483046629997386,
            "y0": 18.57466709155672,
            "y1": 18.49309738348403
           },
           {
            "line": {
             "color": "black",
             "width": 3
            },
            "type": "line",
            "x0": 9.376724071924981,
            "x1": 9.176925579022974,
            "y0": 18.731846633619554,
            "y1": 18.740822280342023
           },
           {
            "line": {
             "color": "white",
             "width": 3
            },
            "type": "line",
            "x0": 8.363805293106333,
            "x1": 8.563174724567354,
            "y0": 19.41584235235876,
            "y1": 19.431711498489204
           },
           {
            "line": {
             "color": "rgba(255,255,255,0)",
             "width": 3
            },
            "type": "line",
            "x0": 0,
            "x1": null,
            "y0": 0,
            "y1": null
           },
           {
            "line": {
             "color": "rgba(255,255,255,0)",
             "width": 3
            },
            "type": "line",
            "x0": 0,
            "x1": null,
            "y0": 0,
            "y1": null
           },
           {
            "line": {
             "color": "rgba(255,255,255,0)",
             "width": 3
            },
            "type": "line",
            "x0": 0,
            "x1": null,
            "y0": 0,
            "y1": null
           },
           {
            "line": {
             "color": "rgba(255,255,255,0)",
             "width": 3
            },
            "type": "line",
            "x0": 0,
            "x1": null,
            "y0": 0,
            "y1": null
           },
           {
            "line": {
             "color": "rgba(255,255,255,0)",
             "width": 3
            },
            "type": "line",
            "x0": 0,
            "x1": null,
            "y0": 0,
            "y1": null
           },
           {
            "line": {
             "color": "rgba(255,255,255,0)",
             "width": 3
            },
            "type": "line",
            "x0": 0,
            "x1": null,
            "y0": 0,
            "y1": null
           },
           {
            "line": {
             "color": "rgba(255,255,255,0)",
             "width": 3
            },
            "type": "line",
            "x0": 0,
            "x1": null,
            "y0": 0,
            "y1": null
           }
          ],
          "title": {
           "text": "<b>Percentage: 0%  |  Number of Agents: 13</b>",
           "x": 0.5
          }
         },
         "name": "250"
        },
        {
         "data": [
          {
           "hoverinfo": "name",
           "line": {
            "color": "grey"
           },
           "mode": "lines",
           "name": "Exterior",
           "showlegend": false,
           "type": "scatter",
           "x": {
            "bdata": "AAAAAAAAAAAAAAAAAAAAAAAAAAAAAERAAAAAAAAAREAAAAAAAAAAAA==",
            "dtype": "f8"
           },
           "y": {
            "bdata": "AAAAAAAANEAAAAAAAAAAAAAAAAAAAAAAAAAAAAAANEAAAAAAAAA0QA==",
            "dtype": "f8"
           }
          },
          {
           "hoverinfo": "name",
           "line": {
            "color": "grey"
           },
           "mode": "lines",
           "name": "Obstacle",
           "showlegend": false,
           "type": "scatter",
           "x": {
            "bdata": "AAAAAAAAFEAAAAAAAAAcQAAAAAAAABxAAAAAAAAAFEAAAAAAAAAUQA==",
            "dtype": "f8"
           },
           "y": {
            "bdata": "AAAAAAAAMEAAAAAAAAAwQAAAAAAAABBAAAAAAAAAEEAAAAAAAAAwQA==",
            "dtype": "f8"
           }
          },
          {
           "hoverinfo": "name",
           "line": {
            "color": "grey"
           },
           "mode": "lines",
           "name": "Obstacle",
           "showlegend": false,
           "type": "scatter",
           "x": {
            "bdata": "AAAAAAAAKkAAAAAAAAAuQAAAAAAAAC5AAAAAAAAAKkAAAAAAAAAqQA==",
            "dtype": "f8"
           },
           "y": {
            "bdata": "AAAAAAAAMEAAAAAAAAAwQAAAAAAAABBAAAAAAAAAEEAAAAAAAAAwQA==",
            "dtype": "f8"
           }
          },
          {
           "hoverinfo": "name",
           "line": {
            "color": "grey"
           },
           "mode": "lines",
           "name": "Obstacle",
           "showlegend": false,
           "type": "scatter",
           "x": {
            "bdata": "AAAAAAAAOUAAAAAAAAA7QAAAAAAAADtAAAAAAAAAOUAAAAAAAAA5QA==",
            "dtype": "f8"
           },
           "y": {
            "bdata": "AAAAAAAAMEAAAAAAAAAwQAAAAAAAABBAAAAAAAAAEEAAAAAAAAAwQA==",
            "dtype": "f8"
           }
          },
          {
           "hoverinfo": "name",
           "line": {
            "color": "grey"
           },
           "mode": "lines",
           "name": "Obstacle",
           "showlegend": false,
           "type": "scatter",
           "x": {
            "bdata": "AAAAAACAQEAAAAAAAIBBQAAAAAAAgEFAAAAAAACAQEAAAAAAAIBAQA==",
            "dtype": "f8"
           },
           "y": {
            "bdata": "AAAAAAAAMEAAAAAAAAAwQAAAAAAAABBAAAAAAAAAEEAAAAAAAAAwQA==",
            "dtype": "f8"
           }
          },
          {
           "hoverinfo": "text",
           "marker": {
            "opacity": 1,
            "size": 1
           },
           "mode": "markers",
           "showlegend": false,
           "text": [
            "ID: 22.0, Pos(13.67,18.92)"
           ],
           "type": "scatter",
           "x": [
            13.6728228789665
           ],
           "y": [
            18.922640435203558
           ]
          },
          {
           "hoverinfo": "text",
           "marker": {
            "opacity": 1,
            "size": 1
           },
           "mode": "markers",
           "showlegend": false,
           "text": [
            "ID: 34.0, Pos(12.01,19.44)"
           ],
           "type": "scatter",
           "x": [
            12.007703969790628
           ],
           "y": [
            19.440201507081884
           ]
          },
          {
           "hoverinfo": "text",
           "marker": {
            "opacity": 1,
            "size": 1
           },
           "mode": "markers",
           "showlegend": false,
           "text": [
            "ID: 35.0, Pos(16.17,19.47)"
           ],
           "type": "scatter",
           "x": [
            16.17104204325651
           ],
           "y": [
            19.47058931403825
           ]
          },
          {
           "hoverinfo": "text",
           "marker": {
            "opacity": 1,
            "size": 1
           },
           "mode": "markers",
           "showlegend": false,
           "text": [
            "ID: 39.0, Pos(17.83,19.28)"
           ],
           "type": "scatter",
           "x": [
            17.825427290378624
           ],
           "y": [
            19.284927887994822
           ]
          },
          {
           "hoverinfo": "text",
           "marker": {
            "opacity": 1,
            "size": 1
           },
           "mode": "markers",
           "showlegend": false,
           "text": [
            "ID: 40.0, Pos(10.64,19.01)"
           ],
           "type": "scatter",
           "x": [
            10.639586714771188
           ],
           "y": [
            19.01410324224471
           ]
          },
          {
           "hoverinfo": "none",
           "marker": {
            "opacity": 0,
            "size": 1
           },
           "mode": "markers",
           "showlegend": false,
           "type": "scatter",
           "x": [
            0
           ],
           "y": [
            0
           ]
          },
          {
           "hoverinfo": "none",
           "marker": {
            "opacity": 0,
            "size": 1
           },
           "mode": "markers",
           "showlegend": false,
           "type": "scatter",
           "x": [
            0
           ],
           "y": [
            0
           ]
          },
          {
           "hoverinfo": "none",
           "marker": {
            "opacity": 0,
            "size": 1
           },
           "mode": "markers",
           "showlegend": false,
           "type": "scatter",
           "x": [
            0
           ],
           "y": [
            0
           ]
          },
          {
           "hoverinfo": "none",
           "marker": {
            "opacity": 0,
            "size": 1
           },
           "mode": "markers",
           "showlegend": false,
           "type": "scatter",
           "x": [
            0
           ],
           "y": [
            0
           ]
          },
          {
           "hoverinfo": "none",
           "marker": {
            "opacity": 0,
            "size": 1
           },
           "mode": "markers",
           "showlegend": false,
           "type": "scatter",
           "x": [
            0
           ],
           "y": [
            0
           ]
          },
          {
           "hoverinfo": "none",
           "marker": {
            "opacity": 0,
            "size": 1
           },
           "mode": "markers",
           "showlegend": false,
           "type": "scatter",
           "x": [
            0
           ],
           "y": [
            0
           ]
          },
          {
           "hoverinfo": "none",
           "marker": {
            "opacity": 0,
            "size": 1
           },
           "mode": "markers",
           "showlegend": false,
           "type": "scatter",
           "x": [
            0
           ],
           "y": [
            0
           ]
          },
          {
           "hoverinfo": "none",
           "marker": {
            "opacity": 0,
            "size": 1
           },
           "mode": "markers",
           "showlegend": false,
           "type": "scatter",
           "x": [
            0
           ],
           "y": [
            0
           ]
          },
          {
           "hoverinfo": "none",
           "marker": {
            "opacity": 0,
            "size": 1
           },
           "mode": "markers",
           "showlegend": false,
           "type": "scatter",
           "x": [
            0
           ],
           "y": [
            0
           ]
          },
          {
           "hoverinfo": "none",
           "marker": {
            "opacity": 0,
            "size": 1
           },
           "mode": "markers",
           "showlegend": false,
           "type": "scatter",
           "x": [
            0
           ],
           "y": [
            0
           ]
          },
          {
           "hoverinfo": "none",
           "marker": {
            "opacity": 0,
            "size": 1
           },
           "mode": "markers",
           "showlegend": false,
           "type": "scatter",
           "x": [
            0
           ],
           "y": [
            0
           ]
          },
          {
           "hoverinfo": "none",
           "marker": {
            "opacity": 0,
            "size": 1
           },
           "mode": "markers",
           "showlegend": false,
           "type": "scatter",
           "x": [
            0
           ],
           "y": [
            0
           ]
          },
          {
           "hoverinfo": "none",
           "marker": {
            "opacity": 0,
            "size": 1
           },
           "mode": "markers",
           "showlegend": false,
           "type": "scatter",
           "x": [
            0
           ],
           "y": [
            0
           ]
          },
          {
           "hoverinfo": "none",
           "marker": {
            "opacity": 0,
            "size": 1
           },
           "mode": "markers",
           "showlegend": false,
           "type": "scatter",
           "x": [
            0
           ],
           "y": [
            0
           ]
          },
          {
           "hoverinfo": "none",
           "marker": {
            "opacity": 0,
            "size": 1
           },
           "mode": "markers",
           "showlegend": false,
           "type": "scatter",
           "x": [
            0
           ],
           "y": [
            0
           ]
          }
         ],
         "layout": {
          "shapes": [
           {
            "fillcolor": "rgba(0, 0, 128, 0.5)",
            "line": {
             "color": "rgba(0, 0, 128, 0.5)"
            },
            "type": "circle",
            "x0": 13.4728228789665,
            "x1": 13.872822878966499,
            "xref": "x",
            "y0": 18.72264043520356,
            "y1": 19.122640435203557,
            "yref": "y"
           },
           {
            "fillcolor": "rgba(0, 0, 128, 0.5)",
            "line": {
             "color": "rgba(0, 0, 128, 0.5)"
            },
            "type": "circle",
            "x0": 11.807703969790628,
            "x1": 12.207703969790627,
            "xref": "x",
            "y0": 19.240201507081885,
            "y1": 19.640201507081883,
            "yref": "y"
           },
           {
            "fillcolor": "rgba(0, 0, 128, 0.5)",
            "line": {
             "color": "rgba(0, 0, 128, 0.5)"
            },
            "type": "circle",
            "x0": 15.97104204325651,
            "x1": 16.37104204325651,
            "xref": "x",
            "y0": 19.27058931403825,
            "y1": 19.67058931403825,
            "yref": "y"
           },
           {
            "fillcolor": "rgba(0, 0, 128, 0.5)",
            "line": {
             "color": "rgba(0, 0, 128, 0.5)"
            },
            "type": "circle",
            "x0": 17.625427290378624,
            "x1": 18.025427290378623,
            "xref": "x",
            "y0": 19.084927887994823,
            "y1": 19.48492788799482,
            "yref": "y"
           },
           {
            "fillcolor": "rgba(0, 8, 255, 0.5)",
            "line": {
             "color": "rgba(0, 8, 255, 0.5)"
            },
            "type": "circle",
            "x0": 10.439586714771188,
            "x1": 10.839586714771187,
            "xref": "x",
            "y0": 18.81410324224471,
            "y1": 19.214103242244708,
            "yref": "y"
           },
           {
            "fillcolor": "rgba(255,255,255,0)",
            "line": {
             "width": 0
            },
            "type": "circle",
            "x0": 0,
            "x1": 0,
            "xref": "x",
            "y0": 0,
            "y1": 0,
            "yref": "y"
           },
           {
            "fillcolor": "rgba(255,255,255,0)",
            "line": {
             "width": 0
            },
            "type": "circle",
            "x0": 0,
            "x1": 0,
            "xref": "x",
            "y0": 0,
            "y1": 0,
            "yref": "y"
           },
           {
            "fillcolor": "rgba(255,255,255,0)",
            "line": {
             "width": 0
            },
            "type": "circle",
            "x0": 0,
            "x1": 0,
            "xref": "x",
            "y0": 0,
            "y1": 0,
            "yref": "y"
           },
           {
            "fillcolor": "rgba(255,255,255,0)",
            "line": {
             "width": 0
            },
            "type": "circle",
            "x0": 0,
            "x1": 0,
            "xref": "x",
            "y0": 0,
            "y1": 0,
            "yref": "y"
           },
           {
            "fillcolor": "rgba(255,255,255,0)",
            "line": {
             "width": 0
            },
            "type": "circle",
            "x0": 0,
            "x1": 0,
            "xref": "x",
            "y0": 0,
            "y1": 0,
            "yref": "y"
           },
           {
            "fillcolor": "rgba(255,255,255,0)",
            "line": {
             "width": 0
            },
            "type": "circle",
            "x0": 0,
            "x1": 0,
            "xref": "x",
            "y0": 0,
            "y1": 0,
            "yref": "y"
           },
           {
            "fillcolor": "rgba(255,255,255,0)",
            "line": {
             "width": 0
            },
            "type": "circle",
            "x0": 0,
            "x1": 0,
            "xref": "x",
            "y0": 0,
            "y1": 0,
            "yref": "y"
           },
           {
            "fillcolor": "rgba(255,255,255,0)",
            "line": {
             "width": 0
            },
            "type": "circle",
            "x0": 0,
            "x1": 0,
            "xref": "x",
            "y0": 0,
            "y1": 0,
            "yref": "y"
           },
           {
            "fillcolor": "rgba(255,255,255,0)",
            "line": {
             "width": 0
            },
            "type": "circle",
            "x0": 0,
            "x1": 0,
            "xref": "x",
            "y0": 0,
            "y1": 0,
            "yref": "y"
           },
           {
            "fillcolor": "rgba(255,255,255,0)",
            "line": {
             "width": 0
            },
            "type": "circle",
            "x0": 0,
            "x1": 0,
            "xref": "x",
            "y0": 0,
            "y1": 0,
            "yref": "y"
           },
           {
            "fillcolor": "rgba(255,255,255,0)",
            "line": {
             "width": 0
            },
            "type": "circle",
            "x0": 0,
            "x1": 0,
            "xref": "x",
            "y0": 0,
            "y1": 0,
            "yref": "y"
           },
           {
            "fillcolor": "rgba(255,255,255,0)",
            "line": {
             "width": 0
            },
            "type": "circle",
            "x0": 0,
            "x1": 0,
            "xref": "x",
            "y0": 0,
            "y1": 0,
            "yref": "y"
           },
           {
            "fillcolor": "rgba(255,255,255,0)",
            "line": {
             "width": 0
            },
            "type": "circle",
            "x0": 0,
            "x1": 0,
            "xref": "x",
            "y0": 0,
            "y1": 0,
            "yref": "y"
           },
           {
            "fillcolor": "rgba(255,255,255,0)",
            "line": {
             "width": 0
            },
            "type": "circle",
            "x0": 0,
            "x1": 0,
            "xref": "x",
            "y0": 0,
            "y1": 0,
            "yref": "y"
           },
           {
            "fillcolor": "rgba(255,255,255,0)",
            "line": {
             "width": 0
            },
            "type": "circle",
            "x0": 0,
            "x1": 0,
            "xref": "x",
            "y0": 0,
            "y1": 0,
            "yref": "y"
           },
           {
            "line": {
             "color": "white",
             "width": 3
            },
            "type": "line",
            "x0": 13.6728228789665,
            "x1": 13.871848385122068,
            "y0": 18.922640435203558,
            "y1": 18.94235966184965
           },
           {
            "line": {
             "color": "white",
             "width": 3
            },
            "type": "line",
            "x0": 12.007703969790628,
            "x1": 12.207702162739675,
            "y0": 19.440201507081884,
            "y1": 19.441051693599928
           },
           {
            "line": {
             "color": "white",
             "width": 3
            },
            "type": "line",
            "x0": 16.17104204325651,
            "x1": 16.371041703044078,
            "y0": 19.47058931403825,
            "y1": 19.470958210848725
           },
           {
            "line": {
             "color": "white",
             "width": 3
            },
            "type": "line",
            "x0": 17.825427290378624,
            "x1": 18.02380171345824,
            "y0": 19.284927887994822,
            "y1": 19.310375643648893
           },
           {
            "line": {
             "color": "white",
             "width": 3
            },
            "type": "line",
            "x0": 10.639586714771188,
            "x1": 10.839286917285406,
            "y0": 19.01410324224471,
            "y1": 19.025049890854216
           },
           {
            "line": {
             "color": "rgba(255,255,255,0)",
             "width": 3
            },
            "type": "line",
            "x0": 0,
            "x1": null,
            "y0": 0,
            "y1": null
           },
           {
            "line": {
             "color": "rgba(255,255,255,0)",
             "width": 3
            },
            "type": "line",
            "x0": 0,
            "x1": null,
            "y0": 0,
            "y1": null
           },
           {
            "line": {
             "color": "rgba(255,255,255,0)",
             "width": 3
            },
            "type": "line",
            "x0": 0,
            "x1": null,
            "y0": 0,
            "y1": null
           },
           {
            "line": {
             "color": "rgba(255,255,255,0)",
             "width": 3
            },
            "type": "line",
            "x0": 0,
            "x1": null,
            "y0": 0,
            "y1": null
           },
           {
            "line": {
             "color": "rgba(255,255,255,0)",
             "width": 3
            },
            "type": "line",
            "x0": 0,
            "x1": null,
            "y0": 0,
            "y1": null
           },
           {
            "line": {
             "color": "rgba(255,255,255,0)",
             "width": 3
            },
            "type": "line",
            "x0": 0,
            "x1": null,
            "y0": 0,
            "y1": null
           },
           {
            "line": {
             "color": "rgba(255,255,255,0)",
             "width": 3
            },
            "type": "line",
            "x0": 0,
            "x1": null,
            "y0": 0,
            "y1": null
           },
           {
            "line": {
             "color": "rgba(255,255,255,0)",
             "width": 3
            },
            "type": "line",
            "x0": 0,
            "x1": null,
            "y0": 0,
            "y1": null
           },
           {
            "line": {
             "color": "rgba(255,255,255,0)",
             "width": 3
            },
            "type": "line",
            "x0": 0,
            "x1": null,
            "y0": 0,
            "y1": null
           },
           {
            "line": {
             "color": "rgba(255,255,255,0)",
             "width": 3
            },
            "type": "line",
            "x0": 0,
            "x1": null,
            "y0": 0,
            "y1": null
           },
           {
            "line": {
             "color": "rgba(255,255,255,0)",
             "width": 3
            },
            "type": "line",
            "x0": 0,
            "x1": null,
            "y0": 0,
            "y1": null
           },
           {
            "line": {
             "color": "rgba(255,255,255,0)",
             "width": 3
            },
            "type": "line",
            "x0": 0,
            "x1": null,
            "y0": 0,
            "y1": null
           },
           {
            "line": {
             "color": "rgba(255,255,255,0)",
             "width": 3
            },
            "type": "line",
            "x0": 0,
            "x1": null,
            "y0": 0,
            "y1": null
           },
           {
            "line": {
             "color": "rgba(255,255,255,0)",
             "width": 3
            },
            "type": "line",
            "x0": 0,
            "x1": null,
            "y0": 0,
            "y1": null
           },
           {
            "line": {
             "color": "rgba(255,255,255,0)",
             "width": 3
            },
            "type": "line",
            "x0": 0,
            "x1": null,
            "y0": 0,
            "y1": null
           }
          ],
          "title": {
           "text": "<b>Percentage: 0%  |  Number of Agents: 5</b>",
           "x": 0.5
          }
         },
         "name": "300"
        },
        {
         "data": [
          {
           "hoverinfo": "name",
           "line": {
            "color": "grey"
           },
           "mode": "lines",
           "name": "Exterior",
           "showlegend": false,
           "type": "scatter",
           "x": {
            "bdata": "AAAAAAAAAAAAAAAAAAAAAAAAAAAAAERAAAAAAAAAREAAAAAAAAAAAA==",
            "dtype": "f8"
           },
           "y": {
            "bdata": "AAAAAAAANEAAAAAAAAAAAAAAAAAAAAAAAAAAAAAANEAAAAAAAAA0QA==",
            "dtype": "f8"
           }
          },
          {
           "hoverinfo": "name",
           "line": {
            "color": "grey"
           },
           "mode": "lines",
           "name": "Obstacle",
           "showlegend": false,
           "type": "scatter",
           "x": {
            "bdata": "AAAAAAAAFEAAAAAAAAAcQAAAAAAAABxAAAAAAAAAFEAAAAAAAAAUQA==",
            "dtype": "f8"
           },
           "y": {
            "bdata": "AAAAAAAAMEAAAAAAAAAwQAAAAAAAABBAAAAAAAAAEEAAAAAAAAAwQA==",
            "dtype": "f8"
           }
          },
          {
           "hoverinfo": "name",
           "line": {
            "color": "grey"
           },
           "mode": "lines",
           "name": "Obstacle",
           "showlegend": false,
           "type": "scatter",
           "x": {
            "bdata": "AAAAAAAAKkAAAAAAAAAuQAAAAAAAAC5AAAAAAAAAKkAAAAAAAAAqQA==",
            "dtype": "f8"
           },
           "y": {
            "bdata": "AAAAAAAAMEAAAAAAAAAwQAAAAAAAABBAAAAAAAAAEEAAAAAAAAAwQA==",
            "dtype": "f8"
           }
          },
          {
           "hoverinfo": "name",
           "line": {
            "color": "grey"
           },
           "mode": "lines",
           "name": "Obstacle",
           "showlegend": false,
           "type": "scatter",
           "x": {
            "bdata": "AAAAAAAAOUAAAAAAAAA7QAAAAAAAADtAAAAAAAAAOUAAAAAAAAA5QA==",
            "dtype": "f8"
           },
           "y": {
            "bdata": "AAAAAAAAMEAAAAAAAAAwQAAAAAAAABBAAAAAAAAAEEAAAAAAAAAwQA==",
            "dtype": "f8"
           }
          },
          {
           "hoverinfo": "name",
           "line": {
            "color": "grey"
           },
           "mode": "lines",
           "name": "Obstacle",
           "showlegend": false,
           "type": "scatter",
           "x": {
            "bdata": "AAAAAACAQEAAAAAAAIBBQAAAAAAAgEFAAAAAAACAQEAAAAAAAIBAQA==",
            "dtype": "f8"
           },
           "y": {
            "bdata": "AAAAAAAAMEAAAAAAAAAwQAAAAAAAABBAAAAAAAAAEEAAAAAAAAAwQA==",
            "dtype": "f8"
           }
          },
          {
           "hoverinfo": "text",
           "marker": {
            "opacity": 1,
            "size": 1
           },
           "mode": "markers",
           "showlegend": false,
           "text": [
            "ID: 42, Pos(35.87,9.38)"
           ],
           "type": "scatter",
           "x": [
            35.87461433857303
           ],
           "y": [
            9.381001392617213
           ]
          },
          {
           "hoverinfo": "text",
           "marker": {
            "opacity": 1,
            "size": 1
           },
           "mode": "markers",
           "showlegend": false,
           "text": [
            "ID: 43, Pos(35.86,14.30)"
           ],
           "type": "scatter",
           "x": [
            35.855390877550086
           ],
           "y": [
            14.296156110764212
           ]
          },
          {
           "hoverinfo": "text",
           "marker": {
            "opacity": 1,
            "size": 1
           },
           "mode": "markers",
           "showlegend": false,
           "text": [
            "ID: 44, Pos(35.50,12.96)"
           ],
           "type": "scatter",
           "x": [
            35.49994975454847
           ],
           "y": [
            12.95743636988339
           ]
          },
          {
           "hoverinfo": "text",
           "marker": {
            "opacity": 1,
            "size": 1
           },
           "mode": "markers",
           "showlegend": false,
           "text": [
            "ID: 45, Pos(35.29,15.67)"
           ],
           "type": "scatter",
           "x": [
            35.29018471939096
           ],
           "y": [
            15.668209359844626
           ]
          },
          {
           "hoverinfo": "text",
           "marker": {
            "opacity": 1,
            "size": 1
           },
           "mode": "markers",
           "showlegend": false,
           "text": [
            "ID: 46, Pos(35.49,16.19)"
           ],
           "type": "scatter",
           "x": [
            35.48880351318633
           ],
           "y": [
            16.19154477989977
           ]
          },
          {
           "hoverinfo": "text",
           "marker": {
            "opacity": 1,
            "size": 1
           },
           "mode": "markers",
           "showlegend": false,
           "text": [
            "ID: 47, Pos(35.75,15.23)"
           ],
           "type": "scatter",
           "x": [
            35.74996998279503
           ],
           "y": [
            15.228453857725357
           ]
          },
          {
           "hoverinfo": "text",
           "marker": {
            "opacity": 1,
            "size": 1
           },
           "mode": "markers",
           "showlegend": false,
           "text": [
            "ID: 48, Pos(36.80,10.02)"
           ],
           "type": "scatter",
           "x": [
            36.80263621006546
           ],
           "y": [
            10.021378257676176
           ]
          },
          {
           "hoverinfo": "text",
           "marker": {
            "opacity": 1,
            "size": 1
           },
           "mode": "markers",
           "showlegend": false,
           "text": [
            "ID: 49, Pos(36.66,11.01)"
           ],
           "type": "scatter",
           "x": [
            36.65641773684814
           ],
           "y": [
            11.013199529726311
           ]
          },
          {
           "hoverinfo": "text",
           "marker": {
            "opacity": 1,
            "size": 1
           },
           "mode": "markers",
           "showlegend": false,
           "text": [
            "ID: 50, Pos(35.30,14.34)"
           ],
           "type": "scatter",
           "x": [
            35.30383388399503
           ],
           "y": [
            14.336718308676513
           ]
          },
          {
           "hoverinfo": "text",
           "marker": {
            "opacity": 1,
            "size": 1
           },
           "mode": "markers",
           "showlegend": false,
           "text": [
            "ID: 51, Pos(35.95,11.72)"
           ],
           "type": "scatter",
           "x": [
            35.95283066469603
           ],
           "y": [
            11.716290319983472
           ]
          },
          {
           "hoverinfo": "text",
           "marker": {
            "opacity": 1,
            "size": 1
           },
           "mode": "markers",
           "showlegend": false,
           "text": [
            "ID: 52, Pos(34.05,16.52)"
           ],
           "type": "scatter",
           "x": [
            34.04602490819908
           ],
           "y": [
            16.516793692629097
           ]
          },
          {
           "hoverinfo": "text",
           "marker": {
            "opacity": 1,
            "size": 1
           },
           "mode": "markers",
           "showlegend": false,
           "text": [
            "ID: 53, Pos(36.94,9.11)"
           ],
           "type": "scatter",
           "x": [
            36.94292803672249
           ],
           "y": [
            9.106239934668443
           ]
          },
          {
           "hoverinfo": "text",
           "marker": {
            "opacity": 1,
            "size": 1
           },
           "mode": "markers",
           "showlegend": false,
           "text": [
            "ID: 54, Pos(35.82,8.38)"
           ],
           "type": "scatter",
           "x": [
            35.818017053957576
           ],
           "y": [
            8.377601251526926
           ]
          },
          {
           "hoverinfo": "text",
           "marker": {
            "opacity": 1,
            "size": 1
           },
           "mode": "markers",
           "showlegend": false,
           "text": [
            "ID: 55, Pos(36.00,10.49)"
           ],
           "type": "scatter",
           "x": [
            36.00112175821561
           ],
           "y": [
            10.48600304004753
           ]
          },
          {
           "hoverinfo": "text",
           "marker": {
            "opacity": 1,
            "size": 1
           },
           "mode": "markers",
           "showlegend": false,
           "text": [
            "ID: 56, Pos(36.48,12.08)"
           ],
           "type": "scatter",
           "x": [
            36.47731867679539
           ],
           "y": [
            12.082185191781502
           ]
          },
          {
           "hoverinfo": "text",
           "marker": {
            "opacity": 1,
            "size": 1
           },
           "mode": "markers",
           "showlegend": false,
           "text": [
            "ID: 57, Pos(36.35,14.62)"
           ],
           "type": "scatter",
           "x": [
            36.34831403124167
           ],
           "y": [
            14.620592978132203
           ]
          },
          {
           "hoverinfo": "text",
           "marker": {
            "opacity": 1,
            "size": 1
           },
           "mode": "markers",
           "showlegend": false,
           "text": [
            "ID: 58, Pos(36.17,13.19)"
           ],
           "type": "scatter",
           "x": [
            36.16571241660609
           ],
           "y": [
            13.194088168089412
           ]
          },
          {
           "hoverinfo": "text",
           "marker": {
            "opacity": 1,
            "size": 1
           },
           "mode": "markers",
           "showlegend": false,
           "text": [
            "ID: 59, Pos(36.77,8.16)"
           ],
           "type": "scatter",
           "x": [
            36.76830775512922
           ],
           "y": [
            8.156801831987181
           ]
          },
          {
           "hoverinfo": "text",
           "marker": {
            "opacity": 1,
            "size": 1
           },
           "mode": "markers",
           "showlegend": false,
           "text": [
            "ID: 60, Pos(36.08,7.45)"
           ],
           "type": "scatter",
           "x": [
            36.0802429464138
           ],
           "y": [
            7.454774736254581
           ]
          },
          {
           "hoverinfo": "text",
           "marker": {
            "opacity": 1,
            "size": 1
           },
           "mode": "markers",
           "showlegend": false,
           "text": [
            "ID: 61, Pos(35.34,11.64)"
           ],
           "type": "scatter",
           "x": [
            35.3397216288048
           ],
           "y": [
            11.638998308246371
           ]
          }
         ],
         "layout": {
          "shapes": [
           {
            "fillcolor": "rgba(57, 255, 190, 0.5)",
            "line": {
             "color": "rgba(57, 255, 190, 0.5)"
            },
            "type": "circle",
            "x0": 35.67461433857303,
            "x1": 36.074614338573035,
            "xref": "x",
            "y0": 9.181001392617214,
            "y1": 9.581001392617212,
            "yref": "y"
           },
           {
            "fillcolor": "rgba(148, 255, 99, 0.5)",
            "line": {
             "color": "rgba(148, 255, 99, 0.5)"
            },
            "type": "circle",
            "x0": 35.65539087755008,
            "x1": 36.05539087755009,
            "xref": "x",
            "y0": 14.096156110764213,
            "y1": 14.496156110764211,
            "yref": "y"
           },
           {
            "fillcolor": "rgba(0, 125, 255, 0.5)",
            "line": {
             "color": "rgba(0, 125, 255, 0.5)"
            },
            "type": "circle",
            "x0": 35.299949754548464,
            "x1": 35.69994975454847,
            "xref": "x",
            "y0": 12.75743636988339,
            "y1": 13.157436369883388,
            "yref": "y"
           },
           {
            "fillcolor": "rgba(9, 240, 238, 0.5)",
            "line": {
             "color": "rgba(9, 240, 238, 0.5)"
            },
            "type": "circle",
            "x0": 35.090184719390955,
            "x1": 35.49018471939096,
            "xref": "x",
            "y0": 15.468209359844627,
            "y1": 15.868209359844625,
            "yref": "y"
           },
           {
            "fillcolor": "rgba(0, 0, 255, 0.5)",
            "line": {
             "color": "rgba(0, 0, 255, 0.5)"
            },
            "type": "circle",
            "x0": 35.28880351318633,
            "x1": 35.688803513186336,
            "xref": "x",
            "y0": 15.991544779899769,
            "y1": 16.391544779899768,
            "yref": "y"
           },
           {
            "fillcolor": "rgba(255, 130, 0, 0.5)",
            "line": {
             "color": "rgba(255, 130, 0, 0.5)"
            },
            "type": "circle",
            "x0": 35.54996998279503,
            "x1": 35.94996998279503,
            "xref": "x",
            "y0": 15.028453857725358,
            "y1": 15.428453857725357,
            "yref": "y"
           },
           {
            "fillcolor": "rgba(138, 255, 109, 0.5)",
            "line": {
             "color": "rgba(138, 255, 109, 0.5)"
            },
            "type": "circle",
            "x0": 36.602636210065455,
            "x1": 37.00263621006546,
            "xref": "x",
            "y0": 9.821378257676177,
            "y1": 10.221378257676175,
            "yref": "y"
           },
           {
            "fillcolor": "rgba(83, 255, 164, 0.5)",
            "line": {
             "color": "rgba(83, 255, 164, 0.5)"
            },
            "type": "circle",
            "x0": 36.45641773684814,
            "x1": 36.856417736848144,
            "xref": "x",
            "y0": 10.813199529726312,
            "y1": 11.21319952972631,
            "yref": "y"
           },
           {
            "fillcolor": "rgba(0, 212, 255, 0.5)",
            "line": {
             "color": "rgba(0, 212, 255, 0.5)"
            },
            "type": "circle",
            "x0": 35.10383388399503,
            "x1": 35.503833883995036,
            "xref": "x",
            "y0": 14.136718308676514,
            "y1": 14.536718308676512,
            "yref": "y"
           },
           {
            "fillcolor": "rgba(0, 144, 255, 0.5)",
            "line": {
             "color": "rgba(0, 144, 255, 0.5)"
            },
            "type": "circle",
            "x0": 35.75283066469603,
            "x1": 36.15283066469603,
            "xref": "x",
            "y0": 11.516290319983472,
            "y1": 11.91629031998347,
            "yref": "y"
           },
           {
            "fillcolor": "rgba(0, 0, 137, 0.5)",
            "line": {
             "color": "rgba(0, 0, 137, 0.5)"
            },
            "type": "circle",
            "x0": 33.84602490819908,
            "x1": 34.24602490819908,
            "xref": "x",
            "y0": 16.316793692629098,
            "y1": 16.716793692629096,
            "yref": "y"
           },
           {
            "fillcolor": "rgba(190, 255, 57, 0.5)",
            "line": {
             "color": "rgba(190, 255, 57, 0.5)"
            },
            "type": "circle",
            "x0": 36.74292803672249,
            "x1": 37.142928036722495,
            "xref": "x",
            "y0": 8.906239934668443,
            "y1": 9.306239934668442,
            "yref": "y"
           },
           {
            "fillcolor": "rgba(135, 255, 112, 0.5)",
            "line": {
             "color": "rgba(135, 255, 112, 0.5)"
            },
            "type": "circle",
            "x0": 35.61801705395757,
            "x1": 36.01801705395758,
            "xref": "x",
            "y0": 8.177601251526927,
            "y1": 8.577601251526925,
            "yref": "y"
           },
           {
            "fillcolor": "rgba(0, 200, 255, 0.5)",
            "line": {
             "color": "rgba(0, 200, 255, 0.5)"
            },
            "type": "circle",
            "x0": 35.80112175821561,
            "x1": 36.20112175821561,
            "xref": "x",
            "y0": 10.28600304004753,
            "y1": 10.68600304004753,
            "yref": "y"
           },
           {
            "fillcolor": "rgba(48, 255, 199, 0.5)",
            "line": {
             "color": "rgba(48, 255, 199, 0.5)"
            },
            "type": "circle",
            "x0": 36.27731867679539,
            "x1": 36.677318676795394,
            "xref": "x",
            "y0": 11.882185191781502,
            "y1": 12.282185191781501,
            "yref": "y"
           },
           {
            "fillcolor": "rgba(0, 196, 255, 0.5)",
            "line": {
             "color": "rgba(0, 196, 255, 0.5)"
            },
            "type": "circle",
            "x0": 36.14831403124167,
            "x1": 36.548314031241674,
            "xref": "x",
            "y0": 14.420592978132204,
            "y1": 14.820592978132202,
            "yref": "y"
           },
           {
            "fillcolor": "rgba(54, 255, 193, 0.5)",
            "line": {
             "color": "rgba(54, 255, 193, 0.5)"
            },
            "type": "circle",
            "x0": 35.96571241660609,
            "x1": 36.365712416606094,
            "xref": "x",
            "y0": 12.994088168089412,
            "y1": 13.39408816808941,
            "yref": "y"
           },
           {
            "fillcolor": "rgba(144, 255, 102, 0.5)",
            "line": {
             "color": "rgba(144, 255, 102, 0.5)"
            },
            "type": "circle",
            "x0": 36.56830775512922,
            "x1": 36.968307755129224,
            "xref": "x",
            "y0": 7.956801831987181,
            "y1": 8.35680183198718,
            "yref": "y"
           },
           {
            "fillcolor": "rgba(157, 255, 90, 0.5)",
            "line": {
             "color": "rgba(157, 255, 90, 0.5)"
            },
            "type": "circle",
            "x0": 35.880242946413794,
            "x1": 36.2802429464138,
            "xref": "x",
            "y0": 7.254774736254581,
            "y1": 7.6547747362545815,
            "yref": "y"
           },
           {
            "fillcolor": "rgba(0, 101, 255, 0.5)",
            "line": {
             "color": "rgba(0, 101, 255, 0.5)"
            },
            "type": "circle",
            "x0": 35.1397216288048,
            "x1": 35.539721628804806,
            "xref": "x",
            "y0": 11.438998308246372,
            "y1": 11.83899830824637,
            "yref": "y"
           },
           {
            "line": {
             "color": "black",
             "width": 3
            },
            "type": "line",
            "x0": 35.87461433857303,
            "x1": 35.85281236769474,
            "y0": 9.381001392617213,
            "y1": 9.579809526419183
           },
           {
            "line": {
             "color": "black",
             "width": 3
            },
            "type": "line",
            "x0": 35.855390877550086,
            "x1": 35.824251586681484,
            "y0": 14.296156110764212,
            "y1": 14.493717100243918
           },
           {
            "line": {
             "color": "white",
             "width": 3
            },
            "type": "line",
            "x0": 35.49994975454847,
            "x1": 35.45650472568384,
            "y0": 12.95743636988339,
            "y1": 13.152660675406427
           },
           {
            "line": {
             "color": "black",
             "width": 3
            },
            "type": "line",
            "x0": 35.29018471939096,
            "x1": 35.354018846120326,
            "y0": 15.668209359844626,
            "y1": 15.857748812900445
           },
           {
            "line": {
             "color": "white",
             "width": 3
            },
            "type": "line",
            "x0": 35.48880351318633,
            "x1": 35.335797637046475,
            "y0": 16.19154477989977,
            "y1": 16.320343855465836
           },
           {
            "line": {
             "color": "black",
             "width": 3
            },
            "type": "line",
            "x0": 35.74996998279503,
            "x1": 35.65049814382123,
            "y0": 15.228453857725357,
            "y1": 15.40196280058183
           },
           {
            "line": {
             "color": "black",
             "width": 3
            },
            "type": "line",
            "x0": 36.80263621006546,
            "x1": 36.75299248353607,
            "y0": 10.021378257676176,
            "y1": 10.215119064983968
           },
           {
            "line": {
             "color": "black",
             "width": 3
            },
            "type": "line",
            "x0": 36.65641773684814,
            "x1": 36.60618976580424,
            "y0": 11.013199529726311,
            "y1": 11.20678969198879
           },
           {
            "line": {
             "color": "black",
             "width": 3
            },
            "type": "line",
            "x0": 35.30383388399503,
            "x1": 35.29908053670584,
            "y0": 14.336718308676513,
            "y1": 14.536661814921523
           },
           {
            "line": {
             "color": "white",
             "width": 3
            },
            "type": "line",
            "x0": 35.95283066469603,
            "x1": 35.9343087411966,
            "y0": 11.716290319983472,
            "y1": 11.915430819003337
           },
           {
            "line": {
             "color": "white",
             "width": 3
            },
            "type": "line",
            "x0": 34.04602490819908,
            "x1": 33.84682836957473,
            "y0": 16.516793692629097,
            "y1": 16.53470288021752
           },
           {
            "line": {
             "color": "black",
             "width": 3
            },
            "type": "line",
            "x0": 36.94292803672249,
            "x1": 36.89448182788839,
            "y0": 9.106239934668443,
            "y1": 9.300283653581483
           },
           {
            "line": {
             "color": "black",
             "width": 3
            },
            "type": "line",
            "x0": 35.818017053957576,
            "x1": 35.79887689835397,
            "y0": 8.377601251526926,
            "y1": 8.5766832809607
           },
           {
            "line": {
             "color": "black",
             "width": 3
            },
            "type": "line",
            "x0": 36.00112175821561,
            "x1": 35.964227648380046,
            "y0": 10.48600304004753,
            "y1": 10.682570648415341
           },
           {
            "line": {
             "color": "black",
             "width": 3
            },
            "type": "line",
            "x0": 36.47731867679539,
            "x1": 36.45456088804184,
            "y0": 12.082185191781502,
            "y1": 12.28088618083553
           },
           {
            "line": {
             "color": "black",
             "width": 3
            },
            "type": "line",
            "x0": 36.34831403124167,
            "x1": 36.29140719366222,
            "y0": 14.620592978132203,
            "y1": 14.812326156890355
           },
           {
            "line": {
             "color": "black",
             "width": 3
            },
            "type": "line",
            "x0": 36.16571241660609,
            "x1": 36.123709814891,
            "y0": 13.194088168089412,
            "y1": 13.389627886431143
           },
           {
            "line": {
             "color": "black",
             "width": 3
            },
            "type": "line",
            "x0": 36.76830775512922,
            "x1": 36.730689262719316,
            "y0": 8.156801831987181,
            "y1": 8.353232097040218
           },
           {
            "line": {
             "color": "black",
             "width": 3
            },
            "type": "line",
            "x0": 36.0802429464138,
            "x1": 36.05820999682019,
            "y0": 7.454774736254581,
            "y1": 7.653557404342635
           },
           {
            "line": {
             "color": "white",
             "width": 3
            },
            "type": "line",
            "x0": 35.3397216288048,
            "x1": 35.334220121492045,
            "y0": 11.638998308246371,
            "y1": 11.838922627470641
           }
          ],
          "title": {
           "text": "<b>Percentage: 0%  |  Number of Agents: 20</b>",
           "x": 0.5
          }
         },
         "name": "350"
        },
        {
         "data": [
          {
           "hoverinfo": "name",
           "line": {
            "color": "grey"
           },
           "mode": "lines",
           "name": "Exterior",
           "showlegend": false,
           "type": "scatter",
           "x": {
            "bdata": "AAAAAAAAAAAAAAAAAAAAAAAAAAAAAERAAAAAAAAAREAAAAAAAAAAAA==",
            "dtype": "f8"
           },
           "y": {
            "bdata": "AAAAAAAANEAAAAAAAAAAAAAAAAAAAAAAAAAAAAAANEAAAAAAAAA0QA==",
            "dtype": "f8"
           }
          },
          {
           "hoverinfo": "name",
           "line": {
            "color": "grey"
           },
           "mode": "lines",
           "name": "Obstacle",
           "showlegend": false,
           "type": "scatter",
           "x": {
            "bdata": "AAAAAAAAFEAAAAAAAAAcQAAAAAAAABxAAAAAAAAAFEAAAAAAAAAUQA==",
            "dtype": "f8"
           },
           "y": {
            "bdata": "AAAAAAAAMEAAAAAAAAAwQAAAAAAAABBAAAAAAAAAEEAAAAAAAAAwQA==",
            "dtype": "f8"
           }
          },
          {
           "hoverinfo": "name",
           "line": {
            "color": "grey"
           },
           "mode": "lines",
           "name": "Obstacle",
           "showlegend": false,
           "type": "scatter",
           "x": {
            "bdata": "AAAAAAAAKkAAAAAAAAAuQAAAAAAAAC5AAAAAAAAAKkAAAAAAAAAqQA==",
            "dtype": "f8"
           },
           "y": {
            "bdata": "AAAAAAAAMEAAAAAAAAAwQAAAAAAAABBAAAAAAAAAEEAAAAAAAAAwQA==",
            "dtype": "f8"
           }
          },
          {
           "hoverinfo": "name",
           "line": {
            "color": "grey"
           },
           "mode": "lines",
           "name": "Obstacle",
           "showlegend": false,
           "type": "scatter",
           "x": {
            "bdata": "AAAAAAAAOUAAAAAAAAA7QAAAAAAAADtAAAAAAAAAOUAAAAAAAAA5QA==",
            "dtype": "f8"
           },
           "y": {
            "bdata": "AAAAAAAAMEAAAAAAAAAwQAAAAAAAABBAAAAAAAAAEEAAAAAAAAAwQA==",
            "dtype": "f8"
           }
          },
          {
           "hoverinfo": "name",
           "line": {
            "color": "grey"
           },
           "mode": "lines",
           "name": "Obstacle",
           "showlegend": false,
           "type": "scatter",
           "x": {
            "bdata": "AAAAAACAQEAAAAAAAIBBQAAAAAAAgEFAAAAAAACAQEAAAAAAAIBAQA==",
            "dtype": "f8"
           },
           "y": {
            "bdata": "AAAAAAAAMEAAAAAAAAAwQAAAAAAAABBAAAAAAAAAEEAAAAAAAAAwQA==",
            "dtype": "f8"
           }
          },
          {
           "hoverinfo": "text",
           "marker": {
            "opacity": 1,
            "size": 1
           },
           "mode": "markers",
           "showlegend": false,
           "text": [
            "ID: 42, Pos(35.33,14.52)"
           ],
           "type": "scatter",
           "x": [
            35.32510497362798
           ],
           "y": [
            14.519684172174838
           ]
          },
          {
           "hoverinfo": "text",
           "marker": {
            "opacity": 1,
            "size": 1
           },
           "mode": "markers",
           "showlegend": false,
           "text": [
            "ID: 43, Pos(27.77,17.62)"
           ],
           "type": "scatter",
           "x": [
            27.768434482677115
           ],
           "y": [
            17.618242460604627
           ]
          },
          {
           "hoverinfo": "text",
           "marker": {
            "opacity": 1,
            "size": 1
           },
           "mode": "markers",
           "showlegend": false,
           "text": [
            "ID: 44, Pos(35.03,16.36)"
           ],
           "type": "scatter",
           "x": [
            35.031376111130335
           ],
           "y": [
            16.357358213370308
           ]
          },
          {
           "hoverinfo": "text",
           "marker": {
            "opacity": 1,
            "size": 1
           },
           "mode": "markers",
           "showlegend": false,
           "text": [
            "ID: 45, Pos(25.27,17.22)"
           ],
           "type": "scatter",
           "x": [
            25.273990774415353
           ],
           "y": [
            17.22353673716251
           ]
          },
          {
           "hoverinfo": "text",
           "marker": {
            "opacity": 1,
            "size": 1
           },
           "mode": "markers",
           "showlegend": false,
           "text": [
            "ID: 46, Pos(23.68,17.37)"
           ],
           "type": "scatter",
           "x": [
            23.68103772243059
           ],
           "y": [
            17.371902652535766
           ]
          },
          {
           "hoverinfo": "text",
           "marker": {
            "opacity": 1,
            "size": 1
           },
           "mode": "markers",
           "showlegend": false,
           "text": [
            "ID: 47, Pos(28.43,16.89)"
           ],
           "type": "scatter",
           "x": [
            28.432061283615695
           ],
           "y": [
            16.885365781010762
           ]
          },
          {
           "hoverinfo": "text",
           "marker": {
            "opacity": 1,
            "size": 1
           },
           "mode": "markers",
           "showlegend": false,
           "text": [
            "ID: 48, Pos(35.78,15.92)"
           ],
           "type": "scatter",
           "x": [
            35.779594237104384
           ],
           "y": [
            15.922738614692891
           ]
          },
          {
           "hoverinfo": "text",
           "marker": {
            "opacity": 1,
            "size": 1
           },
           "mode": "markers",
           "showlegend": false,
           "text": [
            "ID: 49, Pos(35.00,16.99)"
           ],
           "type": "scatter",
           "x": [
            35.003277592268894
           ],
           "y": [
            16.991047000542903
           ]
          },
          {
           "hoverinfo": "text",
           "marker": {
            "opacity": 1,
            "size": 1
           },
           "mode": "markers",
           "showlegend": false,
           "text": [
            "ID: 50, Pos(31.53,16.73)"
           ],
           "type": "scatter",
           "x": [
            31.52511368903102
           ],
           "y": [
            16.73113293854763
           ]
          },
          {
           "hoverinfo": "text",
           "marker": {
            "opacity": 1,
            "size": 1
           },
           "mode": "markers",
           "showlegend": false,
           "text": [
            "ID: 51, Pos(34.26,16.81)"
           ],
           "type": "scatter",
           "x": [
            34.261253396897466
           ],
           "y": [
            16.814629950377324
           ]
          },
          {
           "hoverinfo": "text",
           "marker": {
            "opacity": 1,
            "size": 1
           },
           "mode": "markers",
           "showlegend": false,
           "text": [
            "ID: 52, Pos(22.08,17.48)"
           ],
           "type": "scatter",
           "x": [
            22.08451500909653
           ],
           "y": [
            17.47698564278981
           ]
          },
          {
           "hoverinfo": "text",
           "marker": {
            "opacity": 1,
            "size": 1
           },
           "mode": "markers",
           "showlegend": false,
           "text": [
            "ID: 53, Pos(35.91,14.73)"
           ],
           "type": "scatter",
           "x": [
            35.90894095716024
           ],
           "y": [
            14.732501911914675
           ]
          },
          {
           "hoverinfo": "text",
           "marker": {
            "opacity": 1,
            "size": 1
           },
           "mode": "markers",
           "showlegend": false,
           "text": [
            "ID: 54, Pos(35.35,13.88)"
           ],
           "type": "scatter",
           "x": [
            35.351054755375316
           ],
           "y": [
            13.875753527489113
           ]
          },
          {
           "hoverinfo": "text",
           "marker": {
            "opacity": 1,
            "size": 1
           },
           "mode": "markers",
           "showlegend": false,
           "text": [
            "ID: 55, Pos(35.34,15.13)"
           ],
           "type": "scatter",
           "x": [
            35.33523838050909
           ],
           "y": [
            15.132517812280978
           ]
          },
          {
           "hoverinfo": "text",
           "marker": {
            "opacity": 1,
            "size": 1
           },
           "mode": "markers",
           "showlegend": false,
           "text": [
            "ID: 56, Pos(32.98,16.71)"
           ],
           "type": "scatter",
           "x": [
            32.97902830289919
           ],
           "y": [
            16.70543914054415
           ]
          },
          {
           "hoverinfo": "text",
           "marker": {
            "opacity": 1,
            "size": 1
           },
           "mode": "markers",
           "showlegend": false,
           "text": [
            "ID: 57, Pos(26.87,17.21)"
           ],
           "type": "scatter",
           "x": [
            26.872175401463334
           ],
           "y": [
            17.20756575756838
           ]
          },
          {
           "hoverinfo": "text",
           "marker": {
            "opacity": 1,
            "size": 1
           },
           "mode": "markers",
           "showlegend": false,
           "text": [
            "ID: 58, Pos(30.01,16.97)"
           ],
           "type": "scatter",
           "x": [
            30.006994677040883
           ],
           "y": [
            16.974781674134256
           ]
          },
          {
           "hoverinfo": "text",
           "marker": {
            "opacity": 1,
            "size": 1
           },
           "mode": "markers",
           "showlegend": false,
           "text": [
            "ID: 59, Pos(35.96,13.71)"
           ],
           "type": "scatter",
           "x": [
            35.95681891224589
           ],
           "y": [
            13.714130300847614
           ]
          },
          {
           "hoverinfo": "text",
           "marker": {
            "opacity": 1,
            "size": 1
           },
           "mode": "markers",
           "showlegend": false,
           "text": [
            "ID: 60, Pos(35.38,13.18)"
           ],
           "type": "scatter",
           "x": [
            35.3752144846809
           ],
           "y": [
            13.182789985041001
           ]
          },
          {
           "hoverinfo": "text",
           "marker": {
            "opacity": 1,
            "size": 1
           },
           "mode": "markers",
           "showlegend": false,
           "text": [
            "ID: 61, Pos(35.29,15.75)"
           ],
           "type": "scatter",
           "x": [
            35.288712815157254
           ],
           "y": [
            15.745014453421703
           ]
          }
         ],
         "layout": {
          "shapes": [
           {
            "fillcolor": "rgba(255, 59, 0, 0.5)",
            "line": {
             "color": "rgba(255, 59, 0, 0.5)"
            },
            "type": "circle",
            "x0": 35.12510497362798,
            "x1": 35.52510497362798,
            "xref": "x",
            "y0": 14.319684172174838,
            "y1": 14.719684172174837,
            "yref": "y"
           },
           {
            "fillcolor": "rgba(0, 0, 128, 0.5)",
            "line": {
             "color": "rgba(0, 0, 128, 0.5)"
            },
            "type": "circle",
            "x0": 27.568434482677116,
            "x1": 27.968434482677115,
            "xref": "x",
            "y0": 17.418242460604628,
            "y1": 17.818242460604626,
            "yref": "y"
           },
           {
            "fillcolor": "rgba(231, 255, 15, 0.5)",
            "line": {
             "color": "rgba(231, 255, 15, 0.5)"
            },
            "type": "circle",
            "x0": 34.83137611113033,
            "x1": 35.23137611113034,
            "xref": "x",
            "y0": 16.15735821337031,
            "y1": 16.557358213370307,
            "yref": "y"
           },
           {
            "fillcolor": "rgba(0, 0, 128, 0.5)",
            "line": {
             "color": "rgba(0, 0, 128, 0.5)"
            },
            "type": "circle",
            "x0": 25.073990774415353,
            "x1": 25.473990774415352,
            "xref": "x",
            "y0": 17.023536737162512,
            "y1": 17.42353673716251,
            "yref": "y"
           },
           {
            "fillcolor": "rgba(0, 0, 128, 0.5)",
            "line": {
             "color": "rgba(0, 0, 128, 0.5)"
            },
            "type": "circle",
            "x0": 23.481037722430592,
            "x1": 23.88103772243059,
            "xref": "x",
            "y0": 17.171902652535767,
            "y1": 17.571902652535766,
            "yref": "y"
           },
           {
            "fillcolor": "rgba(0, 0, 132, 0.5)",
            "line": {
             "color": "rgba(0, 0, 132, 0.5)"
            },
            "type": "circle",
            "x0": 28.232061283615696,
            "x1": 28.632061283615695,
            "xref": "x",
            "y0": 16.685365781010763,
            "y1": 17.08536578101076,
            "yref": "y"
           },
           {
            "fillcolor": "rgba(0, 212, 255, 0.5)",
            "line": {
             "color": "rgba(0, 212, 255, 0.5)"
            },
            "type": "circle",
            "x0": 35.57959423710438,
            "x1": 35.979594237104386,
            "xref": "x",
            "y0": 15.722738614692892,
            "y1": 16.122738614692892,
            "yref": "y"
           },
           {
            "fillcolor": "rgba(0, 64, 255, 0.5)",
            "line": {
             "color": "rgba(0, 64, 255, 0.5)"
            },
            "type": "circle",
            "x0": 34.80327759226889,
            "x1": 35.2032775922689,
            "xref": "x",
            "y0": 16.791047000542903,
            "y1": 17.191047000542902,
            "yref": "y"
           },
           {
            "fillcolor": "rgba(0, 0, 191, 0.5)",
            "line": {
             "color": "rgba(0, 0, 191, 0.5)"
            },
            "type": "circle",
            "x0": 31.32511368903102,
            "x1": 31.72511368903102,
            "xref": "x",
            "y0": 16.531132938547632,
            "y1": 16.93113293854763,
            "yref": "y"
           },
           {
            "fillcolor": "rgba(0, 164, 255, 0.5)",
            "line": {
             "color": "rgba(0, 164, 255, 0.5)"
            },
            "type": "circle",
            "x0": 34.06125339689746,
            "x1": 34.46125339689747,
            "xref": "x",
            "y0": 16.614629950377324,
            "y1": 17.014629950377323,
            "yref": "y"
           },
           {
            "fillcolor": "rgba(0, 0, 128, 0.5)",
            "line": {
             "color": "rgba(0, 0, 128, 0.5)"
            },
            "type": "circle",
            "x0": 21.884515009096532,
            "x1": 22.28451500909653,
            "xref": "x",
            "y0": 17.27698564278981,
            "y1": 17.67698564278981,
            "yref": "y"
           },
           {
            "fillcolor": "rgba(35, 255, 212, 0.5)",
            "line": {
             "color": "rgba(35, 255, 212, 0.5)"
            },
            "type": "circle",
            "x0": 35.70894095716024,
            "x1": 36.10894095716024,
            "xref": "x",
            "y0": 14.532501911914675,
            "y1": 14.932501911914674,
            "yref": "y"
           },
           {
            "fillcolor": "rgba(255, 85, 0, 0.5)",
            "line": {
             "color": "rgba(255, 85, 0, 0.5)"
            },
            "type": "circle",
            "x0": 35.15105475537531,
            "x1": 35.55105475537532,
            "xref": "x",
            "y0": 13.675753527489114,
            "y1": 14.075753527489113,
            "yref": "y"
           },
           {
            "fillcolor": "rgba(255, 45, 0, 0.5)",
            "line": {
             "color": "rgba(255, 45, 0, 0.5)"
            },
            "type": "circle",
            "x0": 35.13523838050909,
            "x1": 35.53523838050909,
            "xref": "x",
            "y0": 14.93251781228098,
            "y1": 15.332517812280978,
            "yref": "y"
           },
           {
            "fillcolor": "rgba(0, 8, 255, 0.5)",
            "line": {
             "color": "rgba(0, 8, 255, 0.5)"
            },
            "type": "circle",
            "x0": 32.779028302899185,
            "x1": 33.17902830289919,
            "xref": "x",
            "y0": 16.50543914054415,
            "y1": 16.90543914054415,
            "yref": "y"
           },
           {
            "fillcolor": "rgba(0, 0, 128, 0.5)",
            "line": {
             "color": "rgba(0, 0, 128, 0.5)"
            },
            "type": "circle",
            "x0": 26.672175401463335,
            "x1": 27.072175401463333,
            "xref": "x",
            "y0": 17.00756575756838,
            "y1": 17.407565757568378,
            "yref": "y"
           },
           {
            "fillcolor": "rgba(0, 0, 150, 0.5)",
            "line": {
             "color": "rgba(0, 0, 150, 0.5)"
            },
            "type": "circle",
            "x0": 29.806994677040883,
            "x1": 30.206994677040882,
            "xref": "x",
            "y0": 16.774781674134257,
            "y1": 17.174781674134255,
            "yref": "y"
           },
           {
            "fillcolor": "rgba(128, 255, 119, 0.5)",
            "line": {
             "color": "rgba(128, 255, 119, 0.5)"
            },
            "type": "circle",
            "x0": 35.75681891224589,
            "x1": 36.156818912245896,
            "xref": "x",
            "y0": 13.514130300847615,
            "y1": 13.914130300847614,
            "yref": "y"
           },
           {
            "fillcolor": "rgba(255, 126, 0, 0.5)",
            "line": {
             "color": "rgba(255, 126, 0, 0.5)"
            },
            "type": "circle",
            "x0": 35.1752144846809,
            "x1": 35.575214484680906,
            "xref": "x",
            "y0": 12.982789985041002,
            "y1": 13.382789985041,
            "yref": "y"
           },
           {
            "fillcolor": "rgba(255, 41, 0, 0.5)",
            "line": {
             "color": "rgba(255, 41, 0, 0.5)"
            },
            "type": "circle",
            "x0": 35.08871281515725,
            "x1": 35.48871281515726,
            "xref": "x",
            "y0": 15.545014453421704,
            "y1": 15.945014453421702,
            "yref": "y"
           },
           {
            "line": {
             "color": "white",
             "width": 3
            },
            "type": "line",
            "x0": 35.32510497362798,
            "x1": 35.32586809312473,
            "y0": 14.519684172174838,
            "y1": 14.719682716291123
           },
           {
            "line": {
             "color": "white",
             "width": 3
            },
            "type": "line",
            "x0": 27.768434482677115,
            "x1": 27.56884750634905,
            "y0": 17.618242460604627,
            "y1": 17.631089206504715
           },
           {
            "line": {
             "color": "black",
             "width": 3
            },
            "type": "line",
            "x0": 35.031376111130335,
            "x1": 34.8500274512809,
            "y0": 16.357358213370308,
            "y1": 16.441694822092828
           },
           {
            "line": {
             "color": "white",
             "width": 3
            },
            "type": "line",
            "x0": 25.273990774415353,
            "x1": 25.07462382131803,
            "y0": 17.22353673716251,
            "y1": 17.239436989131935
           },
           {
            "line": {
             "color": "white",
             "width": 3
            },
            "type": "line",
            "x0": 23.68103772243059,
            "x1": 23.481654612766484,
            "y0": 17.371902652535766,
            "y1": 17.38759900818511
           },
           {
            "line": {
             "color": "white",
             "width": 3
            },
            "type": "line",
            "x0": 28.432061283615695,
            "x1": 28.23266931058783,
            "y0": 16.885365781010762,
            "y1": 16.90094914047063
           },
           {
            "line": {
             "color": "black",
             "width": 3
            },
            "type": "line",
            "x0": 35.779594237104384,
            "x1": 35.72033692232228,
            "y0": 15.922738614692891,
            "y1": 16.113758432106724
           },
           {
            "line": {
             "color": "white",
             "width": 3
            },
            "type": "line",
            "x0": 35.003277592268894,
            "x1": 34.81658461999216,
            "y0": 16.991047000542903,
            "y1": 17.062780772941124
           },
           {
            "line": {
             "color": "white",
             "width": 3
            },
            "type": "line",
            "x0": 31.52511368903102,
            "x1": 31.325743243449143,
            "y0": 16.73113293854763,
            "y1": 16.746989338784882
           },
           {
            "line": {
             "color": "white",
             "width": 3
            },
            "type": "line",
            "x0": 34.261253396897466,
            "x1": 34.061649797577346,
            "y0": 16.814629950377324,
            "y1": 16.827215781237943
           },
           {
            "line": {
             "color": "white",
             "width": 3
            },
            "type": "line",
            "x0": 22.08451500909653,
            "x1": 21.88514884222997,
            "y0": 17.47698564278981,
            "y1": 17.492895749921257
           },
           {
            "line": {
             "color": "black",
             "width": 3
            },
            "type": "line",
            "x0": 35.90894095716024,
            "x1": 35.88898125392644,
            "y0": 14.732501911914675,
            "y1": 14.93150344519223
           },
           {
            "line": {
             "color": "white",
             "width": 3
            },
            "type": "line",
            "x0": 35.351054755375316,
            "x1": 35.3320458502264,
            "y0": 13.875753527489113,
            "y1": 14.074848131949002
           },
           {
            "line": {
             "color": "white",
             "width": 3
            },
            "type": "line",
            "x0": 35.33523838050909,
            "x1": 35.354257091112444,
            "y0": 15.132517812280978,
            "y1": 15.331611480304312
           },
           {
            "line": {
             "color": "white",
             "width": 3
            },
            "type": "line",
            "x0": 32.97902830289919,
            "x1": 32.779617341064636,
            "y0": 16.70543914054415,
            "y1": 16.720777598752818
           },
           {
            "line": {
             "color": "white",
             "width": 3
            },
            "type": "line",
            "x0": 26.872175401463334,
            "x1": 26.67268470554404,
            "y0": 17.20756575756838,
            "y1": 17.221829776694705
           },
           {
            "line": {
             "color": "white",
             "width": 3
            },
            "type": "line",
            "x0": 30.006994677040883,
            "x1": 29.8075547246055,
            "y0": 16.974781674134256,
            "y1": 16.98973845763111
           },
           {
            "line": {
             "color": "black",
             "width": 3
            },
            "type": "line",
            "x0": 35.95681891224589,
            "x1": 35.95282019932435,
            "y0": 13.714130300847614,
            "y1": 13.91409032258939
           },
           {
            "line": {
             "color": "black",
             "width": 3
            },
            "type": "line",
            "x0": 35.3752144846809,
            "x1": 35.38462983960814,
            "y0": 13.182789985041001,
            "y1": 13.382568239842653
           },
           {
            "line": {
             "color": "white",
             "width": 3
            },
            "type": "line",
            "x0": 35.288712815157254,
            "x1": 35.26225478806265,
            "y0": 15.745014453421703,
            "y1": 15.94325666084046
           }
          ],
          "title": {
           "text": "<b>Percentage: 0%  |  Number of Agents: 20</b>",
           "x": 0.5
          }
         },
         "name": "400"
        },
        {
         "data": [
          {
           "hoverinfo": "name",
           "line": {
            "color": "grey"
           },
           "mode": "lines",
           "name": "Exterior",
           "showlegend": false,
           "type": "scatter",
           "x": {
            "bdata": "AAAAAAAAAAAAAAAAAAAAAAAAAAAAAERAAAAAAAAAREAAAAAAAAAAAA==",
            "dtype": "f8"
           },
           "y": {
            "bdata": "AAAAAAAANEAAAAAAAAAAAAAAAAAAAAAAAAAAAAAANEAAAAAAAAA0QA==",
            "dtype": "f8"
           }
          },
          {
           "hoverinfo": "name",
           "line": {
            "color": "grey"
           },
           "mode": "lines",
           "name": "Obstacle",
           "showlegend": false,
           "type": "scatter",
           "x": {
            "bdata": "AAAAAAAAFEAAAAAAAAAcQAAAAAAAABxAAAAAAAAAFEAAAAAAAAAUQA==",
            "dtype": "f8"
           },
           "y": {
            "bdata": "AAAAAAAAMEAAAAAAAAAwQAAAAAAAABBAAAAAAAAAEEAAAAAAAAAwQA==",
            "dtype": "f8"
           }
          },
          {
           "hoverinfo": "name",
           "line": {
            "color": "grey"
           },
           "mode": "lines",
           "name": "Obstacle",
           "showlegend": false,
           "type": "scatter",
           "x": {
            "bdata": "AAAAAAAAKkAAAAAAAAAuQAAAAAAAAC5AAAAAAAAAKkAAAAAAAAAqQA==",
            "dtype": "f8"
           },
           "y": {
            "bdata": "AAAAAAAAMEAAAAAAAAAwQAAAAAAAABBAAAAAAAAAEEAAAAAAAAAwQA==",
            "dtype": "f8"
           }
          },
          {
           "hoverinfo": "name",
           "line": {
            "color": "grey"
           },
           "mode": "lines",
           "name": "Obstacle",
           "showlegend": false,
           "type": "scatter",
           "x": {
            "bdata": "AAAAAAAAOUAAAAAAAAA7QAAAAAAAADtAAAAAAAAAOUAAAAAAAAA5QA==",
            "dtype": "f8"
           },
           "y": {
            "bdata": "AAAAAAAAMEAAAAAAAAAwQAAAAAAAABBAAAAAAAAAEEAAAAAAAAAwQA==",
            "dtype": "f8"
           }
          },
          {
           "hoverinfo": "name",
           "line": {
            "color": "grey"
           },
           "mode": "lines",
           "name": "Obstacle",
           "showlegend": false,
           "type": "scatter",
           "x": {
            "bdata": "AAAAAACAQEAAAAAAAIBBQAAAAAAAgEFAAAAAAACAQEAAAAAAAIBAQA==",
            "dtype": "f8"
           },
           "y": {
            "bdata": "AAAAAAAAMEAAAAAAAAAwQAAAAAAAABBAAAAAAAAAEEAAAAAAAAAwQA==",
            "dtype": "f8"
           }
          },
          {
           "hoverinfo": "text",
           "marker": {
            "opacity": 1,
            "size": 1
           },
           "mode": "markers",
           "showlegend": false,
           "text": [
            "ID: 42, Pos(32.16,16.68)"
           ],
           "type": "scatter",
           "x": [
            32.16492532420153
           ],
           "y": [
            16.68172101917874
           ]
          },
          {
           "hoverinfo": "text",
           "marker": {
            "opacity": 1,
            "size": 1
           },
           "mode": "markers",
           "showlegend": false,
           "text": [
            "ID: 43, Pos(15.97,18.40)"
           ],
           "type": "scatter",
           "x": [
            15.968735282467165
           ],
           "y": [
            18.40147245724851
           ]
          },
          {
           "hoverinfo": "text",
           "marker": {
            "opacity": 1,
            "size": 1
           },
           "mode": "markers",
           "showlegend": false,
           "text": [
            "ID: 44, Pos(24.44,17.26)"
           ],
           "type": "scatter",
           "x": [
            24.44240214154182
           ],
           "y": [
            17.260302268836053
           ]
          },
          {
           "hoverinfo": "text",
           "marker": {
            "opacity": 1,
            "size": 1
           },
           "mode": "markers",
           "showlegend": false,
           "text": [
            "ID: 45, Pos(13.31,18.18)"
           ],
           "type": "scatter",
           "x": [
            13.312365912631574
           ],
           "y": [
            18.17753079155692
           ]
          },
          {
           "hoverinfo": "text",
           "marker": {
            "opacity": 1,
            "size": 1
           },
           "mode": "markers",
           "showlegend": false,
           "text": [
            "ID: 46, Pos(11.72,18.31)"
           ],
           "type": "scatter",
           "x": [
            11.718185718692578
           ],
           "y": [
            18.313670351320578
           ]
          },
          {
           "hoverinfo": "text",
           "marker": {
            "opacity": 1,
            "size": 1
           },
           "mode": "markers",
           "showlegend": false,
           "text": [
            "ID: 47, Pos(16.48,17.78)"
           ],
           "type": "scatter",
           "x": [
            16.48327868138004
           ],
           "y": [
            17.7784357475836
           ]
          },
          {
           "hoverinfo": "text",
           "marker": {
            "opacity": 1,
            "size": 1
           },
           "mode": "markers",
           "showlegend": false,
           "text": [
            "ID: 48, Pos(26.02,17.03)"
           ],
           "type": "scatter",
           "x": [
            26.02096061417112
           ],
           "y": [
            17.03033355739402
           ]
          },
          {
           "hoverinfo": "text",
           "marker": {
            "opacity": 1,
            "size": 1
           },
           "mode": "markers",
           "showlegend": false,
           "text": [
            "ID: 49, Pos(23.31,18.10)"
           ],
           "type": "scatter",
           "x": [
            23.31128781643982
           ],
           "y": [
            18.095399003390856
           ]
          },
          {
           "hoverinfo": "text",
           "marker": {
            "opacity": 1,
            "size": 1
           },
           "mode": "markers",
           "showlegend": false,
           "text": [
            "ID: 50, Pos(19.67,17.67)"
           ],
           "type": "scatter",
           "x": [
            19.670564871106542
           ],
           "y": [
            17.674016802507648
           ]
          },
          {
           "hoverinfo": "text",
           "marker": {
            "opacity": 1,
            "size": 1
           },
           "mode": "markers",
           "showlegend": false,
           "text": [
            "ID: 51, Pos(22.85,17.35)"
           ],
           "type": "scatter",
           "x": [
            22.847250001529435
           ],
           "y": [
            17.351609760902655
           ]
          },
          {
           "hoverinfo": "text",
           "marker": {
            "opacity": 1,
            "size": 1
           },
           "mode": "markers",
           "showlegend": false,
           "text": [
            "ID: 52, Pos(10.12,18.43)"
           ],
           "type": "scatter",
           "x": [
            10.122545127472362
           ],
           "y": [
            18.431593704307755
           ]
          },
          {
           "hoverinfo": "text",
           "marker": {
            "opacity": 1,
            "size": 1
           },
           "mode": "markers",
           "showlegend": false,
           "text": [
            "ID: 53, Pos(26.08,17.92)"
           ],
           "type": "scatter",
           "x": [
            26.08281905047183
           ],
           "y": [
            17.91671113252984
           ]
          },
          {
           "hoverinfo": "text",
           "marker": {
            "opacity": 1,
            "size": 1
           },
           "mode": "markers",
           "showlegend": false,
           "text": [
            "ID: 54, Pos(33.51,16.57)"
           ],
           "type": "scatter",
           "x": [
            33.51163333028098
           ],
           "y": [
            16.568951774321775
           ]
          },
          {
           "hoverinfo": "text",
           "marker": {
            "opacity": 1,
            "size": 1
           },
           "mode": "markers",
           "showlegend": false,
           "text": [
            "ID: 55, Pos(30.70,16.80)"
           ],
           "type": "scatter",
           "x": [
            30.698413959395285
           ],
           "y": [
            16.803849966257282
           ]
          },
          {
           "hoverinfo": "text",
           "marker": {
            "opacity": 1,
            "size": 1
           },
           "mode": "markers",
           "showlegend": false,
           "text": [
            "ID: 56, Pos(21.27,17.60)"
           ],
           "type": "scatter",
           "x": [
            21.267686133076523
           ],
           "y": [
            17.601845549722192
           ]
          },
          {
           "hoverinfo": "text",
           "marker": {
            "opacity": 1,
            "size": 1
           },
           "mode": "markers",
           "showlegend": false,
           "text": [
            "ID: 57, Pos(14.91,18.08)"
           ],
           "type": "scatter",
           "x": [
            14.909190476427248
           ],
           "y": [
            18.078576735906235
           ]
          },
          {
           "hoverinfo": "text",
           "marker": {
            "opacity": 1,
            "size": 1
           },
           "mode": "markers",
           "showlegend": false,
           "text": [
            "ID: 58, Pos(18.08,17.87)"
           ],
           "type": "scatter",
           "x": [
            18.083027115215877
           ],
           "y": [
            17.868971758767298
           ]
          },
          {
           "hoverinfo": "text",
           "marker": {
            "opacity": 1,
            "size": 1
           },
           "mode": "markers",
           "showlegend": false,
           "text": [
            "ID: 59, Pos(29.18,17.03)"
           ],
           "type": "scatter",
           "x": [
            29.179111840164126
           ],
           "y": [
            17.0276771586053
           ]
          },
          {
           "hoverinfo": "text",
           "marker": {
            "opacity": 1,
            "size": 1
           },
           "mode": "markers",
           "showlegend": false,
           "text": [
            "ID: 60, Pos(34.63,16.46)"
           ],
           "type": "scatter",
           "x": [
            34.63392881524416
           ],
           "y": [
            16.45573930032719
           ]
          },
          {
           "hoverinfo": "text",
           "marker": {
            "opacity": 1,
            "size": 1
           },
           "mode": "markers",
           "showlegend": false,
           "text": [
            "ID: 61, Pos(27.61,17.03)"
           ],
           "type": "scatter",
           "x": [
            27.608987042116414
           ],
           "y": [
            17.02881544440912
           ]
          }
         ],
         "layout": {
          "shapes": [
           {
            "fillcolor": "rgba(0, 0, 255, 0.5)",
            "line": {
             "color": "rgba(0, 0, 255, 0.5)"
            },
            "type": "circle",
            "x0": 31.964925324201534,
            "x1": 32.364925324201536,
            "xref": "x",
            "y0": 16.481721019178742,
            "y1": 16.88172101917874,
            "yref": "y"
           },
           {
            "fillcolor": "rgba(0, 0, 164, 0.5)",
            "line": {
             "color": "rgba(0, 0, 164, 0.5)"
            },
            "type": "circle",
            "x0": 15.768735282467166,
            "x1": 16.168735282467164,
            "xref": "x",
            "y0": 18.20147245724851,
            "y1": 18.60147245724851,
            "yref": "y"
           },
           {
            "fillcolor": "rgba(0, 0, 128, 0.5)",
            "line": {
             "color": "rgba(0, 0, 128, 0.5)"
            },
            "type": "circle",
            "x0": 24.24240214154182,
            "x1": 24.64240214154182,
            "xref": "x",
            "y0": 17.060302268836054,
            "y1": 17.460302268836053,
            "yref": "y"
           },
           {
            "fillcolor": "rgba(0, 0, 128, 0.5)",
            "line": {
             "color": "rgba(0, 0, 128, 0.5)"
            },
            "type": "circle",
            "x0": 13.112365912631574,
            "x1": 13.512365912631573,
            "xref": "x",
            "y0": 17.97753079155692,
            "y1": 18.377530791556918,
            "yref": "y"
           },
           {
            "fillcolor": "rgba(0, 0, 128, 0.5)",
            "line": {
             "color": "rgba(0, 0, 128, 0.5)"
            },
            "type": "circle",
            "x0": 11.518185718692578,
            "x1": 11.918185718692577,
            "xref": "x",
            "y0": 18.11367035132058,
            "y1": 18.513670351320577,
            "yref": "y"
           },
           {
            "fillcolor": "rgba(0, 0, 128, 0.5)",
            "line": {
             "color": "rgba(0, 0, 128, 0.5)"
            },
            "type": "circle",
            "x0": 16.28327868138004,
            "x1": 16.683278681380038,
            "xref": "x",
            "y0": 17.5784357475836,
            "y1": 17.9784357475836,
            "yref": "y"
           },
           {
            "fillcolor": "rgba(0, 0, 132, 0.5)",
            "line": {
             "color": "rgba(0, 0, 132, 0.5)"
            },
            "type": "circle",
            "x0": 25.82096061417112,
            "x1": 26.22096061417112,
            "xref": "x",
            "y0": 16.83033355739402,
            "y1": 17.23033355739402,
            "yref": "y"
           },
           {
            "fillcolor": "rgba(0, 0, 128, 0.5)",
            "line": {
             "color": "rgba(0, 0, 128, 0.5)"
            },
            "type": "circle",
            "x0": 23.11128781643982,
            "x1": 23.51128781643982,
            "xref": "x",
            "y0": 17.895399003390857,
            "y1": 18.295399003390855,
            "yref": "y"
           },
           {
            "fillcolor": "rgba(0, 0, 128, 0.5)",
            "line": {
             "color": "rgba(0, 0, 128, 0.5)"
            },
            "type": "circle",
            "x0": 19.470564871106543,
            "x1": 19.87056487110654,
            "xref": "x",
            "y0": 17.47401680250765,
            "y1": 17.874016802507647,
            "yref": "y"
           },
           {
            "fillcolor": "rgba(0, 0, 128, 0.5)",
            "line": {
             "color": "rgba(0, 0, 128, 0.5)"
            },
            "type": "circle",
            "x0": 22.647250001529436,
            "x1": 23.047250001529434,
            "xref": "x",
            "y0": 17.151609760902655,
            "y1": 17.551609760902654,
            "yref": "y"
           },
           {
            "fillcolor": "rgba(0, 0, 128, 0.5)",
            "line": {
             "color": "rgba(0, 0, 128, 0.5)"
            },
            "type": "circle",
            "x0": 9.922545127472363,
            "x1": 10.322545127472361,
            "xref": "x",
            "y0": 18.231593704307755,
            "y1": 18.631593704307754,
            "yref": "y"
           },
           {
            "fillcolor": "rgba(0, 0, 128, 0.5)",
            "line": {
             "color": "rgba(0, 0, 128, 0.5)"
            },
            "type": "circle",
            "x0": 25.88281905047183,
            "x1": 26.28281905047183,
            "xref": "x",
            "y0": 17.71671113252984,
            "y1": 18.11671113252984,
            "yref": "y"
           },
           {
            "fillcolor": "rgba(0, 101, 255, 0.5)",
            "line": {
             "color": "rgba(0, 101, 255, 0.5)"
            },
            "type": "circle",
            "x0": 33.311633330280976,
            "x1": 33.71163333028098,
            "xref": "x",
            "y0": 16.368951774321776,
            "y1": 16.768951774321774,
            "yref": "y"
           },
           {
            "fillcolor": "rgba(0, 0, 191, 0.5)",
            "line": {
             "color": "rgba(0, 0, 191, 0.5)"
            },
            "type": "circle",
            "x0": 30.498413959395286,
            "x1": 30.898413959395285,
            "xref": "x",
            "y0": 16.603849966257282,
            "y1": 17.00384996625728,
            "yref": "y"
           },
           {
            "fillcolor": "rgba(0, 0, 128, 0.5)",
            "line": {
             "color": "rgba(0, 0, 128, 0.5)"
            },
            "type": "circle",
            "x0": 21.067686133076524,
            "x1": 21.467686133076523,
            "xref": "x",
            "y0": 17.401845549722193,
            "y1": 17.80184554972219,
            "yref": "y"
           },
           {
            "fillcolor": "rgba(0, 0, 128, 0.5)",
            "line": {
             "color": "rgba(0, 0, 128, 0.5)"
            },
            "type": "circle",
            "x0": 14.70919047642725,
            "x1": 15.109190476427248,
            "xref": "x",
            "y0": 17.878576735906236,
            "y1": 18.278576735906235,
            "yref": "y"
           },
           {
            "fillcolor": "rgba(0, 0, 128, 0.5)",
            "line": {
             "color": "rgba(0, 0, 128, 0.5)"
            },
            "type": "circle",
            "x0": 17.883027115215878,
            "x1": 18.283027115215877,
            "xref": "x",
            "y0": 17.6689717587673,
            "y1": 18.068971758767297,
            "yref": "y"
           },
           {
            "fillcolor": "rgba(0, 0, 159, 0.5)",
            "line": {
             "color": "rgba(0, 0, 159, 0.5)"
            },
            "type": "circle",
            "x0": 28.979111840164126,
            "x1": 29.379111840164125,
            "xref": "x",
            "y0": 16.8276771586053,
            "y1": 17.2276771586053,
            "yref": "y"
           },
           {
            "fillcolor": "rgba(70, 255, 177, 0.5)",
            "line": {
             "color": "rgba(70, 255, 177, 0.5)"
            },
            "type": "circle",
            "x0": 34.43392881524416,
            "x1": 34.833928815244164,
            "xref": "x",
            "y0": 16.25573930032719,
            "y1": 16.655739300327188,
            "yref": "y"
           },
           {
            "fillcolor": "rgba(0, 0, 137, 0.5)",
            "line": {
             "color": "rgba(0, 0, 137, 0.5)"
            },
            "type": "circle",
            "x0": 27.408987042116415,
            "x1": 27.808987042116414,
            "xref": "x",
            "y0": 16.82881544440912,
            "y1": 17.22881544440912,
            "yref": "y"
           },
           {
            "line": {
             "color": "white",
             "width": 3
            },
            "type": "line",
            "x0": 32.16492532420153,
            "x1": 31.96555420525507,
            "y0": 16.68172101917874,
            "y1": 16.69756895059062
           },
           {
            "line": {
             "color": "white",
             "width": 3
            },
            "type": "line",
            "x0": 15.968735282467165,
            "x1": 15.769271320864826,
            "y0": 18.40147245724851,
            "y1": 18.416105571131094
           },
           {
            "line": {
             "color": "white",
             "width": 3
            },
            "type": "line",
            "x0": 24.44240214154182,
            "x1": 24.243056229278466,
            "y0": 17.260302268836053,
            "y1": 17.27646417664087
           },
           {
            "line": {
             "color": "white",
             "width": 3
            },
            "type": "line",
            "x0": 13.312365912631574,
            "x1": 13.112998983993222,
            "y0": 18.17753079155692,
            "y1": 18.193431350204666
           },
           {
            "line": {
             "color": "white",
             "width": 3
            },
            "type": "line",
            "x0": 11.718185718692578,
            "x1": 11.51880260112686,
            "y0": 18.313670351320578,
            "y1": 18.3293666065993
           },
           {
            "line": {
             "color": "white",
             "width": 3
            },
            "type": "line",
            "x0": 16.48327868138004,
            "x1": 16.283687890964885,
            "y0": 17.7784357475836,
            "y1": 17.791223099985658
           },
           {
            "line": {
             "color": "white",
             "width": 3
            },
            "type": "line",
            "x0": 26.02096061417112,
            "x1": 25.821391312268346,
            "y0": 17.03033355739402,
            "y1": 17.043452007685094
           },
           {
            "line": {
             "color": "white",
             "width": 3
            },
            "type": "line",
            "x0": 23.31128781643982,
            "x1": 23.111698686515233,
            "y0": 18.095399003390856,
            "y1": 18.10821224716229
           },
           {
            "line": {
             "color": "white",
             "width": 3
            },
            "type": "line",
            "x0": 19.670564871106542,
            "x1": 19.47119453234436,
            "y0": 17.674016802507648,
            "y1": 17.68987454578508
           },
           {
            "line": {
             "color": "white",
             "width": 3
            },
            "type": "line",
            "x0": 22.847250001529435,
            "x1": 22.647650894037607,
            "y0": 17.351609760902655,
            "y1": 17.364266628148
           },
           {
            "line": {
             "color": "white",
             "width": 3
            },
            "type": "line",
            "x0": 10.122545127472362,
            "x1": 9.923178964974507,
            "y0": 18.431593704307755,
            "y1": 18.447503866182444
           },
           {
            "line": {
             "color": "white",
             "width": 3
            },
            "type": "line",
            "x0": 26.08281905047183,
            "x1": 25.88326256719095,
            "y0": 17.91671113252984,
            "y1": 17.930023156439358
           },
           {
            "line": {
             "color": "white",
             "width": 3
            },
            "type": "line",
            "x0": 33.51163333028098,
            "x1": 33.31232085651499,
            "y0": 16.568951774321775,
            "y1": 16.585520956597364
           },
           {
            "line": {
             "color": "white",
             "width": 3
            },
            "type": "line",
            "x0": 30.698413959395285,
            "x1": 30.499039639202454,
            "y0": 16.803849966257282,
            "y1": 16.81965757352868
           },
           {
            "line": {
             "color": "white",
             "width": 3
            },
            "type": "line",
            "x0": 21.267686133076523,
            "x1": 21.06826939066988,
            "y0": 17.601845549722192,
            "y1": 17.617108670239368
           },
           {
            "line": {
             "color": "white",
             "width": 3
            },
            "type": "line",
            "x0": 14.909190476427248,
            "x1": 14.709770483080328,
            "y0": 18.078576735906235,
            "y1": 18.093797322409863
           },
           {
            "line": {
             "color": "white",
             "width": 3
            },
            "type": "line",
            "x0": 18.083027115215877,
            "x1": 17.883587099211365,
            "y0": 17.868971758767298,
            "y1": 17.883927694582898
           },
           {
            "line": {
             "color": "white",
             "width": 3
            },
            "type": "line",
            "x0": 29.179111840164126,
            "x1": 28.979677097786343,
            "y0": 17.0276771586053,
            "y1": 17.04270325366383
           },
           {
            "line": {
             "color": "black",
             "width": 3
            },
            "type": "line",
            "x0": 34.63392881524416,
            "x1": 34.43526122017966,
            "y0": 16.45573930032719,
            "y1": 16.478786787636857
           },
           {
            "line": {
             "color": "white",
             "width": 3
            },
            "type": "line",
            "x0": 27.608987042116414,
            "x1": 27.409625549285153,
            "y0": 17.02881544440912,
            "y1": 17.044784012788636
           }
          ],
          "title": {
           "text": "<b>Percentage: 0%  |  Number of Agents: 20</b>",
           "x": 0.5
          }
         },
         "name": "450"
        },
        {
         "data": [
          {
           "hoverinfo": "name",
           "line": {
            "color": "grey"
           },
           "mode": "lines",
           "name": "Exterior",
           "showlegend": false,
           "type": "scatter",
           "x": {
            "bdata": "AAAAAAAAAAAAAAAAAAAAAAAAAAAAAERAAAAAAAAAREAAAAAAAAAAAA==",
            "dtype": "f8"
           },
           "y": {
            "bdata": "AAAAAAAANEAAAAAAAAAAAAAAAAAAAAAAAAAAAAAANEAAAAAAAAA0QA==",
            "dtype": "f8"
           }
          },
          {
           "hoverinfo": "name",
           "line": {
            "color": "grey"
           },
           "mode": "lines",
           "name": "Obstacle",
           "showlegend": false,
           "type": "scatter",
           "x": {
            "bdata": "AAAAAAAAFEAAAAAAAAAcQAAAAAAAABxAAAAAAAAAFEAAAAAAAAAUQA==",
            "dtype": "f8"
           },
           "y": {
            "bdata": "AAAAAAAAMEAAAAAAAAAwQAAAAAAAABBAAAAAAAAAEEAAAAAAAAAwQA==",
            "dtype": "f8"
           }
          },
          {
           "hoverinfo": "name",
           "line": {
            "color": "grey"
           },
           "mode": "lines",
           "name": "Obstacle",
           "showlegend": false,
           "type": "scatter",
           "x": {
            "bdata": "AAAAAAAAKkAAAAAAAAAuQAAAAAAAAC5AAAAAAAAAKkAAAAAAAAAqQA==",
            "dtype": "f8"
           },
           "y": {
            "bdata": "AAAAAAAAMEAAAAAAAAAwQAAAAAAAABBAAAAAAAAAEEAAAAAAAAAwQA==",
            "dtype": "f8"
           }
          },
          {
           "hoverinfo": "name",
           "line": {
            "color": "grey"
           },
           "mode": "lines",
           "name": "Obstacle",
           "showlegend": false,
           "type": "scatter",
           "x": {
            "bdata": "AAAAAAAAOUAAAAAAAAA7QAAAAAAAADtAAAAAAAAAOUAAAAAAAAA5QA==",
            "dtype": "f8"
           },
           "y": {
            "bdata": "AAAAAAAAMEAAAAAAAAAwQAAAAAAAABBAAAAAAAAAEEAAAAAAAAAwQA==",
            "dtype": "f8"
           }
          },
          {
           "hoverinfo": "name",
           "line": {
            "color": "grey"
           },
           "mode": "lines",
           "name": "Obstacle",
           "showlegend": false,
           "type": "scatter",
           "x": {
            "bdata": "AAAAAACAQEAAAAAAAIBBQAAAAAAAgEFAAAAAAACAQEAAAAAAAIBAQA==",
            "dtype": "f8"
           },
           "y": {
            "bdata": "AAAAAAAAMEAAAAAAAAAwQAAAAAAAABBAAAAAAAAAEEAAAAAAAAAwQA==",
            "dtype": "f8"
           }
          },
          {
           "hoverinfo": "text",
           "marker": {
            "opacity": 1,
            "size": 1
           },
           "mode": "markers",
           "showlegend": false,
           "text": [
            "ID: 42, Pos(20.44,17.61)"
           ],
           "type": "scatter",
           "x": [
            20.441697963274965
           ],
           "y": [
            17.613584136524526
           ]
          },
          {
           "hoverinfo": "text",
           "marker": {
            "opacity": 1,
            "size": 1
           },
           "mode": "markers",
           "showlegend": false,
           "text": [
            "ID: 43, Pos(6.94,18.98)"
           ],
           "type": "scatter",
           "x": [
            6.935696362535076
           ],
           "y": [
            18.980142527148804
           ]
          },
          {
           "hoverinfo": "text",
           "marker": {
            "opacity": 1,
            "size": 1
           },
           "mode": "markers",
           "showlegend": false,
           "text": [
            "ID: 44, Pos(12.67,18.21)"
           ],
           "type": "scatter",
           "x": [
            12.67352065653745
           ],
           "y": [
            18.214496631941334
           ]
          },
          {
           "hoverinfo": "text",
           "marker": {
            "opacity": 1,
            "size": 1
           },
           "mode": "markers",
           "showlegend": false,
           "text": [
            "ID: 45, Pos(7.64,19.59)"
           ],
           "type": "scatter",
           "x": [
            7.6449222672078525
           ],
           "y": [
            19.585503940333787
           ]
          },
          {
           "hoverinfo": "text",
           "marker": {
            "opacity": 1,
            "size": 1
           },
           "mode": "markers",
           "showlegend": false,
           "text": [
            "ID: 46, Pos(8.65,17.86)"
           ],
           "type": "scatter",
           "x": [
            8.652422890931197
           ],
           "y": [
            17.864517165935712
           ]
          },
          {
           "hoverinfo": "text",
           "marker": {
            "opacity": 1,
            "size": 1
           },
           "mode": "markers",
           "showlegend": false,
           "text": [
            "ID: 47, Pos(6.64,18.30)"
           ],
           "type": "scatter",
           "x": [
            6.639494118955652
           ],
           "y": [
            18.299381090430796
           ]
          },
          {
           "hoverinfo": "text",
           "marker": {
            "opacity": 1,
            "size": 1
           },
           "mode": "markers",
           "showlegend": false,
           "text": [
            "ID: 48, Pos(14.13,17.84)"
           ],
           "type": "scatter",
           "x": [
            14.132264239988965
           ],
           "y": [
            17.84451658211727
           ]
          },
          {
           "hoverinfo": "text",
           "marker": {
            "opacity": 1,
            "size": 1
           },
           "mode": "markers",
           "showlegend": false,
           "text": [
            "ID: 49, Pos(11.34,18.84)"
           ],
           "type": "scatter",
           "x": [
            11.336980962752278
           ],
           "y": [
            18.8400837883895
           ]
          },
          {
           "hoverinfo": "text",
           "marker": {
            "opacity": 1,
            "size": 1
           },
           "mode": "markers",
           "showlegend": false,
           "text": [
            "ID: 50, Pos(8.89,18.54)"
           ],
           "type": "scatter",
           "x": [
            8.894248808852007
           ],
           "y": [
            18.535603708055834
           ]
          },
          {
           "hoverinfo": "text",
           "marker": {
            "opacity": 1,
            "size": 1
           },
           "mode": "markers",
           "showlegend": false,
           "text": [
            "ID: 51, Pos(11.26,18.08)"
           ],
           "type": "scatter",
           "x": [
            11.256290605129733
           ],
           "y": [
            18.082958985557525
           ]
          },
          {
           "hoverinfo": "text",
           "marker": {
            "opacity": 1,
            "size": 1
           },
           "mode": "markers",
           "showlegend": false,
           "text": [
            "ID: 52, Pos(12.74,19.51)"
           ],
           "type": "scatter",
           "x": [
            12.73887291941179
           ],
           "y": [
            19.51466146083649
           ]
          },
          {
           "hoverinfo": "text",
           "marker": {
            "opacity": 1,
            "size": 1
           },
           "mode": "markers",
           "showlegend": false,
           "text": [
            "ID: 53, Pos(14.11,18.68)"
           ],
           "type": "scatter",
           "x": [
            14.10727630994943
           ],
           "y": [
            18.682334553334684
           ]
          },
          {
           "hoverinfo": "text",
           "marker": {
            "opacity": 1,
            "size": 1
           },
           "mode": "markers",
           "showlegend": false,
           "text": [
            "ID: 54, Pos(22.04,17.48)"
           ],
           "type": "scatter",
           "x": [
            22.035189215767716
           ],
           "y": [
            17.484623602402557
           ]
          },
          {
           "hoverinfo": "text",
           "marker": {
            "opacity": 1,
            "size": 1
           },
           "mode": "markers",
           "showlegend": false,
           "text": [
            "ID: 55, Pos(18.85,17.74)"
           ],
           "type": "scatter",
           "x": [
            18.848814735585336
           ],
           "y": [
            17.74337296730273
           ]
          },
          {
           "hoverinfo": "text",
           "marker": {
            "opacity": 1,
            "size": 1
           },
           "mode": "markers",
           "showlegend": false,
           "text": [
            "ID: 56, Pos(10.02,18.46)"
           ],
           "type": "scatter",
           "x": [
            10.018531964245376
           ],
           "y": [
            18.46227098208826
           ]
          },
          {
           "hoverinfo": "text",
           "marker": {
            "opacity": 1,
            "size": 1
           },
           "mode": "markers",
           "showlegend": false,
           "text": [
            "ID: 57, Pos(6.28,18.72)"
           ],
           "type": "scatter",
           "x": [
            6.276618044508221
           ],
           "y": [
            18.722817639823635
           ]
          },
          {
           "hoverinfo": "text",
           "marker": {
            "opacity": 1,
            "size": 1
           },
           "mode": "markers",
           "showlegend": false,
           "text": [
            "ID: 58, Pos(7.88,18.65)"
           ],
           "type": "scatter",
           "x": [
            7.883218227112987
           ],
           "y": [
            18.64620934142817
           ]
          },
          {
           "hoverinfo": "text",
           "marker": {
            "opacity": 1,
            "size": 1
           },
           "mode": "markers",
           "showlegend": false,
           "text": [
            "ID: 59, Pos(17.26,17.93)"
           ],
           "type": "scatter",
           "x": [
            17.264707691128013
           ],
           "y": [
            17.92531940377041
           ]
          },
          {
           "hoverinfo": "text",
           "marker": {
            "opacity": 1,
            "size": 1
           },
           "mode": "markers",
           "showlegend": false,
           "text": [
            "ID: 60, Pos(23.63,17.35)"
           ],
           "type": "scatter",
           "x": [
            23.627412372405566
           ],
           "y": [
            17.351990917778494
           ]
          },
          {
           "hoverinfo": "text",
           "marker": {
            "opacity": 1,
            "size": 1
           },
           "mode": "markers",
           "showlegend": false,
           "text": [
            "ID: 61, Pos(15.68,17.98)"
           ],
           "type": "scatter",
           "x": [
            15.682564393379264
           ],
           "y": [
            17.98412038497794
           ]
          }
         ],
         "layout": {
          "shapes": [
           {
            "fillcolor": "rgba(0, 0, 128, 0.5)",
            "line": {
             "color": "rgba(0, 0, 128, 0.5)"
            },
            "type": "circle",
            "x0": 20.241697963274966,
            "x1": 20.641697963274964,
            "xref": "x",
            "y0": 17.413584136524527,
            "y1": 17.813584136524526,
            "yref": "y"
           },
           {
            "fillcolor": "rgba(106, 255, 141, 0.5)",
            "line": {
             "color": "rgba(106, 255, 141, 0.5)"
            },
            "type": "circle",
            "x0": 6.735696362535076,
            "x1": 7.135696362535076,
            "xref": "x",
            "y0": 18.780142527148804,
            "y1": 19.180142527148803,
            "yref": "y"
           },
           {
            "fillcolor": "rgba(0, 29, 255, 0.5)",
            "line": {
             "color": "rgba(0, 29, 255, 0.5)"
            },
            "type": "circle",
            "x0": 12.47352065653745,
            "x1": 12.87352065653745,
            "xref": "x",
            "y0": 18.014496631941334,
            "y1": 18.414496631941333,
            "yref": "y"
           },
           {
            "fillcolor": "rgba(0, 0, 255, 0.5)",
            "line": {
             "color": "rgba(0, 0, 255, 0.5)"
            },
            "type": "circle",
            "x0": 7.444922267207852,
            "x1": 7.844922267207853,
            "xref": "x",
            "y0": 19.385503940333788,
            "y1": 19.785503940333786,
            "yref": "y"
           },
           {
            "fillcolor": "rgba(0, 0, 232, 0.5)",
            "line": {
             "color": "rgba(0, 0, 232, 0.5)"
            },
            "type": "circle",
            "x0": 8.452422890931198,
            "x1": 8.852422890931196,
            "xref": "x",
            "y0": 17.664517165935713,
            "y1": 18.06451716593571,
            "yref": "y"
           },
           {
            "fillcolor": "rgba(70, 255, 177, 0.5)",
            "line": {
             "color": "rgba(70, 255, 177, 0.5)"
            },
            "type": "circle",
            "x0": 6.439494118955651,
            "x1": 6.839494118955652,
            "xref": "x",
            "y0": 18.099381090430796,
            "y1": 18.499381090430795,
            "yref": "y"
           },
           {
            "fillcolor": "rgba(0, 0, 223, 0.5)",
            "line": {
             "color": "rgba(0, 0, 223, 0.5)"
            },
            "type": "circle",
            "x0": 13.932264239988966,
            "x1": 14.332264239988964,
            "xref": "x",
            "y0": 17.64451658211727,
            "y1": 18.044516582117268,
            "yref": "y"
           },
           {
            "fillcolor": "rgba(0, 0, 159, 0.5)",
            "line": {
             "color": "rgba(0, 0, 159, 0.5)"
            },
            "type": "circle",
            "x0": 11.136980962752279,
            "x1": 11.536980962752278,
            "xref": "x",
            "y0": 18.6400837883895,
            "y1": 19.0400837883895,
            "yref": "y"
           },
           {
            "fillcolor": "rgba(128, 255, 119, 0.5)",
            "line": {
             "color": "rgba(128, 255, 119, 0.5)"
            },
            "type": "circle",
            "x0": 8.694248808852008,
            "x1": 9.094248808852006,
            "xref": "x",
            "y0": 18.335603708055835,
            "y1": 18.735603708055834,
            "yref": "y"
           },
           {
            "fillcolor": "rgba(0, 152, 255, 0.5)",
            "line": {
             "color": "rgba(0, 152, 255, 0.5)"
            },
            "type": "circle",
            "x0": 11.056290605129734,
            "x1": 11.456290605129732,
            "xref": "x",
            "y0": 17.882958985557526,
            "y1": 18.282958985557524,
            "yref": "y"
           },
           {
            "fillcolor": "rgba(0, 0, 128, 0.5)",
            "line": {
             "color": "rgba(0, 0, 128, 0.5)"
            },
            "type": "circle",
            "x0": 12.53887291941179,
            "x1": 12.93887291941179,
            "xref": "x",
            "y0": 19.31466146083649,
            "y1": 19.71466146083649,
            "yref": "y"
           },
           {
            "fillcolor": "rgba(0, 0, 128, 0.5)",
            "line": {
             "color": "rgba(0, 0, 128, 0.5)"
            },
            "type": "circle",
            "x0": 13.907276309949431,
            "x1": 14.30727630994943,
            "xref": "x",
            "y0": 18.482334553334685,
            "y1": 18.882334553334683,
            "yref": "y"
           },
           {
            "fillcolor": "rgba(0, 0, 128, 0.5)",
            "line": {
             "color": "rgba(0, 0, 128, 0.5)"
            },
            "type": "circle",
            "x0": 21.835189215767716,
            "x1": 22.235189215767715,
            "xref": "x",
            "y0": 17.284623602402558,
            "y1": 17.684623602402556,
            "yref": "y"
           },
           {
            "fillcolor": "rgba(0, 0, 132, 0.5)",
            "line": {
             "color": "rgba(0, 0, 132, 0.5)"
            },
            "type": "circle",
            "x0": 18.648814735585336,
            "x1": 19.048814735585335,
            "xref": "x",
            "y0": 17.54337296730273,
            "y1": 17.94337296730273,
            "yref": "y"
           },
           {
            "fillcolor": "rgba(31, 255, 215, 0.5)",
            "line": {
             "color": "rgba(31, 255, 215, 0.5)"
            },
            "type": "circle",
            "x0": 9.818531964245377,
            "x1": 10.218531964245376,
            "xref": "x",
            "y0": 18.26227098208826,
            "y1": 18.66227098208826,
            "yref": "y"
           },
           {
            "fillcolor": "rgba(191, 0, 0, 0.5)",
            "line": {
             "color": "rgba(191, 0, 0, 0.5)"
            },
            "type": "circle",
            "x0": 6.076618044508221,
            "x1": 6.476618044508221,
            "xref": "x",
            "y0": 18.522817639823636,
            "y1": 18.922817639823634,
            "yref": "y"
           },
           {
            "fillcolor": "rgba(186, 255, 60, 0.5)",
            "line": {
             "color": "rgba(186, 255, 60, 0.5)"
            },
            "type": "circle",
            "x0": 7.683218227112987,
            "x1": 8.083218227112987,
            "xref": "x",
            "y0": 18.446209341428172,
            "y1": 18.84620934142817,
            "yref": "y"
           },
           {
            "fillcolor": "rgba(0, 0, 146, 0.5)",
            "line": {
             "color": "rgba(0, 0, 146, 0.5)"
            },
            "type": "circle",
            "x0": 17.064707691128014,
            "x1": 17.464707691128012,
            "xref": "x",
            "y0": 17.72531940377041,
            "y1": 18.12531940377041,
            "yref": "y"
           },
           {
            "fillcolor": "rgba(0, 0, 128, 0.5)",
            "line": {
             "color": "rgba(0, 0, 128, 0.5)"
            },
            "type": "circle",
            "x0": 23.427412372405566,
            "x1": 23.827412372405565,
            "xref": "x",
            "y0": 17.151990917778495,
            "y1": 17.551990917778493,
            "yref": "y"
           },
           {
            "fillcolor": "rgba(0, 0, 173, 0.5)",
            "line": {
             "color": "rgba(0, 0, 173, 0.5)"
            },
            "type": "circle",
            "x0": 15.482564393379265,
            "x1": 15.882564393379264,
            "xref": "x",
            "y0": 17.78412038497794,
            "y1": 18.184120384977938,
            "yref": "y"
           },
           {
            "line": {
             "color": "white",
             "width": 3
            },
            "type": "line",
            "x0": 20.441697963274965,
            "x1": 20.24232682810316,
            "y0": 17.613584136524526,
            "y1": 17.62943186381602
           },
           {
            "line": {
             "color": "black",
             "width": 3
            },
            "type": "line",
            "x0": 6.935696362535076,
            "x1": 6.7377967805503065,
            "y0": 18.980142527148804,
            "y1": 19.009051962464174
           },
           {
            "line": {
             "color": "white",
             "width": 3
            },
            "type": "line",
            "x0": 12.67352065653745,
            "x1": 12.474171696382456,
            "y0": 18.214496631941334,
            "y1": 18.23062090200613
           },
           {
            "line": {
             "color": "white",
             "width": 3
            },
            "type": "line",
            "x0": 7.6449222672078525,
            "x1": 7.844572056356235,
            "y0": 19.585503940333787,
            "y1": 19.573673399644264
           },
           {
            "line": {
             "color": "white",
             "width": 3
            },
            "type": "line",
            "x0": 8.652422890931197,
            "x1": 8.851826927419898,
            "y0": 17.864517165935712,
            "y1": 17.87994539435031
           },
           {
            "line": {
             "color": "black",
             "width": 3
            },
            "type": "line",
            "x0": 6.639494118955652,
            "x1": 6.444895713708251,
            "y0": 18.299381090430796,
            "y1": 18.25321334546563
           },
           {
            "line": {
             "color": "white",
             "width": 3
            },
            "type": "line",
            "x0": 14.132264239988965,
            "x1": 13.932767243442312,
            "y0": 17.84451658211727,
            "y1": 17.85869220798932
           },
           {
            "line": {
             "color": "white",
             "width": 3
            },
            "type": "line",
            "x0": 11.336980962752278,
            "x1": 11.137811928089743,
            "y0": 18.8400837883895,
            "y1": 18.858296301439434
           },
           {
            "line": {
             "color": "black",
             "width": 3
            },
            "type": "line",
            "x0": 8.894248808852007,
            "x1": 8.696649188330237,
            "y0": 18.535603708055834,
            "y1": 18.56649691070064
           },
           {
            "line": {
             "color": "white",
             "width": 3
            },
            "type": "line",
            "x0": 11.256290605129733,
            "x1": 11.056441901828487,
            "y0": 18.082958985557525,
            "y1": 18.090736889440354
           },
           {
            "line": {
             "color": "white",
             "width": 3
            },
            "type": "line",
            "x0": 12.73887291941179,
            "x1": 12.938836912627698,
            "y0": 19.51466146083649,
            "y1": 19.510866540923224
           },
           {
            "line": {
             "color": "white",
             "width": 3
            },
            "type": "line",
            "x0": 14.10727630994943,
            "x1": 13.907649822330018,
            "y0": 18.682334553334684,
            "y1": 18.69455197698849
           },
           {
            "line": {
             "color": "white",
             "width": 3
            },
            "type": "line",
            "x0": 22.035189215767716,
            "x1": 21.83581998244454,
            "y0": 17.484623602402557,
            "y1": 17.500495237609073
           },
           {
            "line": {
             "color": "white",
             "width": 3
            },
            "type": "line",
            "x0": 18.848814735585336,
            "x1": 18.649440442936186,
            "y0": 17.74337296730273,
            "y1": 17.759180921966486
           },
           {
            "line": {
             "color": "black",
             "width": 3
            },
            "type": "line",
            "x0": 10.018531964245376,
            "x1": 9.819117251922101,
            "y0": 18.46227098208826,
            "y1": 18.477560603045813
           },
           {
            "line": {
             "color": "white",
             "width": 3
            },
            "type": "line",
            "x0": 6.276618044508221,
            "x1": 6.459842960280238,
            "y0": 18.722817639823635,
            "y1": 18.802996379152322
           },
           {
            "line": {
             "color": "black",
             "width": 3
            },
            "type": "line",
            "x0": 7.883218227112987,
            "x1": 7.683687843619608,
            "y0": 18.64620934142817,
            "y1": 18.659907007761706
           },
           {
            "line": {
             "color": "white",
             "width": 3
            },
            "type": "line",
            "x0": 17.264707691128013,
            "x1": 17.065272894834226,
            "y0": 17.92531940377041,
            "y1": 17.94034478320841
           },
           {
            "line": {
             "color": "white",
             "width": 3
            },
            "type": "line",
            "x0": 23.627412372405566,
            "x1": 23.428047639049364,
            "y0": 17.351990917778494,
            "y1": 17.367918977729754
           },
           {
            "line": {
             "color": "white",
             "width": 3
            },
            "type": "line",
            "x0": 15.682564393379264,
            "x1": 15.483202958136996,
            "y0": 17.98412038497794,
            "y1": 18.00008967231779
           }
          ],
          "title": {
           "text": "<b>Percentage: 0%  |  Number of Agents: 20</b>",
           "x": 0.5
          }
         },
         "name": "500"
        },
        {
         "data": [
          {
           "hoverinfo": "name",
           "line": {
            "color": "grey"
           },
           "mode": "lines",
           "name": "Exterior",
           "showlegend": false,
           "type": "scatter",
           "x": {
            "bdata": "AAAAAAAAAAAAAAAAAAAAAAAAAAAAAERAAAAAAAAAREAAAAAAAAAAAA==",
            "dtype": "f8"
           },
           "y": {
            "bdata": "AAAAAAAANEAAAAAAAAAAAAAAAAAAAAAAAAAAAAAANEAAAAAAAAA0QA==",
            "dtype": "f8"
           }
          },
          {
           "hoverinfo": "name",
           "line": {
            "color": "grey"
           },
           "mode": "lines",
           "name": "Obstacle",
           "showlegend": false,
           "type": "scatter",
           "x": {
            "bdata": "AAAAAAAAFEAAAAAAAAAcQAAAAAAAABxAAAAAAAAAFEAAAAAAAAAUQA==",
            "dtype": "f8"
           },
           "y": {
            "bdata": "AAAAAAAAMEAAAAAAAAAwQAAAAAAAABBAAAAAAAAAEEAAAAAAAAAwQA==",
            "dtype": "f8"
           }
          },
          {
           "hoverinfo": "name",
           "line": {
            "color": "grey"
           },
           "mode": "lines",
           "name": "Obstacle",
           "showlegend": false,
           "type": "scatter",
           "x": {
            "bdata": "AAAAAAAAKkAAAAAAAAAuQAAAAAAAAC5AAAAAAAAAKkAAAAAAAAAqQA==",
            "dtype": "f8"
           },
           "y": {
            "bdata": "AAAAAAAAMEAAAAAAAAAwQAAAAAAAABBAAAAAAAAAEEAAAAAAAAAwQA==",
            "dtype": "f8"
           }
          },
          {
           "hoverinfo": "name",
           "line": {
            "color": "grey"
           },
           "mode": "lines",
           "name": "Obstacle",
           "showlegend": false,
           "type": "scatter",
           "x": {
            "bdata": "AAAAAAAAOUAAAAAAAAA7QAAAAAAAADtAAAAAAAAAOUAAAAAAAAA5QA==",
            "dtype": "f8"
           },
           "y": {
            "bdata": "AAAAAAAAMEAAAAAAAAAwQAAAAAAAABBAAAAAAAAAEEAAAAAAAAAwQA==",
            "dtype": "f8"
           }
          },
          {
           "hoverinfo": "name",
           "line": {
            "color": "grey"
           },
           "mode": "lines",
           "name": "Obstacle",
           "showlegend": false,
           "type": "scatter",
           "x": {
            "bdata": "AAAAAACAQEAAAAAAAIBBQAAAAAAAgEFAAAAAAACAQEAAAAAAAIBAQA==",
            "dtype": "f8"
           },
           "y": {
            "bdata": "AAAAAAAAMEAAAAAAAAAwQAAAAAAAABBAAAAAAAAAEEAAAAAAAAAwQA==",
            "dtype": "f8"
           }
          },
          {
           "hoverinfo": "text",
           "marker": {
            "opacity": 1,
            "size": 1
           },
           "mode": "markers",
           "showlegend": false,
           "text": [
            "ID: 42.0, Pos(11.28,18.66)"
           ],
           "type": "scatter",
           "x": [
            11.28023372249595
           ],
           "y": [
            18.658734195229083
           ]
          },
          {
           "hoverinfo": "text",
           "marker": {
            "opacity": 1,
            "size": 1
           },
           "mode": "markers",
           "showlegend": false,
           "text": [
            "ID: 43.0, Pos(16.43,19.48)"
           ],
           "type": "scatter",
           "x": [
            16.42557007260169
           ],
           "y": [
            19.48108980167257
           ]
          },
          {
           "hoverinfo": "text",
           "marker": {
            "opacity": 1,
            "size": 1
           },
           "mode": "markers",
           "showlegend": false,
           "text": [
            "ID: 44.0, Pos(6.82,18.21)"
           ],
           "type": "scatter",
           "x": [
            6.815002069791193
           ],
           "y": [
            18.214320117467427
           ]
          },
          {
           "hoverinfo": "text",
           "marker": {
            "opacity": 1,
            "size": 1
           },
           "mode": "markers",
           "showlegend": false,
           "text": [
            "ID: 46.0, Pos(17.15,18.51)"
           ],
           "type": "scatter",
           "x": [
            17.153019078079065
           ],
           "y": [
            18.505674590767462
           ]
          },
          {
           "hoverinfo": "text",
           "marker": {
            "opacity": 1,
            "size": 1
           },
           "mode": "markers",
           "showlegend": false,
           "text": [
            "ID: 47.0, Pos(15.60,18.24)"
           ],
           "type": "scatter",
           "x": [
            15.598464318820838
           ],
           "y": [
            18.236674891005716
           ]
          },
          {
           "hoverinfo": "text",
           "marker": {
            "opacity": 1,
            "size": 1
           },
           "mode": "markers",
           "showlegend": false,
           "text": [
            "ID: 48.0, Pos(7.58,18.60)"
           ],
           "type": "scatter",
           "x": [
            7.583417352057101
           ],
           "y": [
            18.595814491499958
           ]
          },
          {
           "hoverinfo": "text",
           "marker": {
            "opacity": 1,
            "size": 1
           },
           "mode": "markers",
           "showlegend": false,
           "text": [
            "ID: 49.0, Pos(6.58,19.21)"
           ],
           "type": "scatter",
           "x": [
            6.5752351322698726
           ],
           "y": [
            19.2071491091139
           ]
          },
          {
           "hoverinfo": "text",
           "marker": {
            "opacity": 1,
            "size": 1
           },
           "mode": "markers",
           "showlegend": false,
           "text": [
            "ID: 50.0, Pos(8.68,19.35)"
           ],
           "type": "scatter",
           "x": [
            8.682090260993574
           ],
           "y": [
            19.353240962390764
           ]
          },
          {
           "hoverinfo": "text",
           "marker": {
            "opacity": 1,
            "size": 1
           },
           "mode": "markers",
           "showlegend": false,
           "text": [
            "ID: 51.0, Pos(6.27,18.11)"
           ],
           "type": "scatter",
           "x": [
            6.273910696260111
           ],
           "y": [
            18.108414069835888
           ]
          },
          {
           "hoverinfo": "text",
           "marker": {
            "opacity": 1,
            "size": 1
           },
           "mode": "markers",
           "showlegend": false,
           "text": [
            "ID: 53.0, Pos(6.36,19.70)"
           ],
           "type": "scatter",
           "x": [
            6.355130074480244
           ],
           "y": [
            19.696077654875953
           ]
          },
          {
           "hoverinfo": "text",
           "marker": {
            "opacity": 1,
            "size": 1
           },
           "mode": "markers",
           "showlegend": false,
           "text": [
            "ID: 54.0, Pos(12.31,18.66)"
           ],
           "type": "scatter",
           "x": [
            12.309958321115925
           ],
           "y": [
            18.662316493289744
           ]
          },
          {
           "hoverinfo": "text",
           "marker": {
            "opacity": 1,
            "size": 1
           },
           "mode": "markers",
           "showlegend": false,
           "text": [
            "ID: 55.0, Pos(10.29,18.66)"
           ],
           "type": "scatter",
           "x": [
            10.288392257224647
           ],
           "y": [
            18.662628505788902
           ]
          },
          {
           "hoverinfo": "text",
           "marker": {
            "opacity": 1,
            "size": 1
           },
           "mode": "markers",
           "showlegend": false,
           "text": [
            "ID: 56.0, Pos(6.99,18.80)"
           ],
           "type": "scatter",
           "x": [
            6.98843265338522
           ],
           "y": [
            18.80415376678586
           ]
          },
          {
           "hoverinfo": "text",
           "marker": {
            "opacity": 1,
            "size": 1
           },
           "mode": "markers",
           "showlegend": false,
           "text": [
            "ID: 57.0, Pos(14.16,18.07)"
           ],
           "type": "scatter",
           "x": [
            14.155230173237866
           ],
           "y": [
            18.07233005687306
           ]
          },
          {
           "hoverinfo": "text",
           "marker": {
            "opacity": 1,
            "size": 1
           },
           "mode": "markers",
           "showlegend": false,
           "text": [
            "ID: 58.0, Pos(12.04,19.52)"
           ],
           "type": "scatter",
           "x": [
            12.039364962343546
           ],
           "y": [
            19.518280120711516
           ]
          },
          {
           "hoverinfo": "text",
           "marker": {
            "opacity": 1,
            "size": 1
           },
           "mode": "markers",
           "showlegend": false,
           "text": [
            "ID: 59.0, Pos(9.33,18.67)"
           ],
           "type": "scatter",
           "x": [
            9.333291388611594
           ],
           "y": [
            18.669124849868236
           ]
          },
          {
           "hoverinfo": "text",
           "marker": {
            "opacity": 1,
            "size": 1
           },
           "mode": "markers",
           "showlegend": false,
           "text": [
            "ID: 60.0, Pos(13.40,18.67)"
           ],
           "type": "scatter",
           "x": [
            13.40042498825706
           ],
           "y": [
            18.67271072548217
           ]
          },
          {
           "hoverinfo": "text",
           "marker": {
            "opacity": 1,
            "size": 1
           },
           "mode": "markers",
           "showlegend": false,
           "text": [
            "ID: 61.0, Pos(8.42,18.64)"
           ],
           "type": "scatter",
           "x": [
            8.42279198999129
           ],
           "y": [
            18.64252081723364
           ]
          },
          {
           "hoverinfo": "none",
           "marker": {
            "opacity": 0,
            "size": 1
           },
           "mode": "markers",
           "showlegend": false,
           "type": "scatter",
           "x": [
            0
           ],
           "y": [
            0
           ]
          },
          {
           "hoverinfo": "none",
           "marker": {
            "opacity": 0,
            "size": 1
           },
           "mode": "markers",
           "showlegend": false,
           "type": "scatter",
           "x": [
            0
           ],
           "y": [
            0
           ]
          }
         ],
         "layout": {
          "shapes": [
           {
            "fillcolor": "rgba(141, 255, 106, 0.5)",
            "line": {
             "color": "rgba(141, 255, 106, 0.5)"
            },
            "type": "circle",
            "x0": 11.08023372249595,
            "x1": 11.48023372249595,
            "xref": "x",
            "y0": 18.458734195229084,
            "y1": 18.858734195229083,
            "yref": "y"
           },
           {
            "fillcolor": "rgba(0, 0, 128, 0.5)",
            "line": {
             "color": "rgba(0, 0, 128, 0.5)"
            },
            "type": "circle",
            "x0": 16.22557007260169,
            "x1": 16.62557007260169,
            "xref": "x",
            "y0": 19.28108980167257,
            "y1": 19.68108980167257,
            "yref": "y"
           },
           {
            "fillcolor": "rgba(183, 255, 64, 0.5)",
            "line": {
             "color": "rgba(183, 255, 64, 0.5)"
            },
            "type": "circle",
            "x0": 6.615002069791193,
            "x1": 7.015002069791193,
            "xref": "x",
            "y0": 18.014320117467427,
            "y1": 18.414320117467426,
            "yref": "y"
           },
           {
            "fillcolor": "rgba(0, 0, 128, 0.5)",
            "line": {
             "color": "rgba(0, 0, 128, 0.5)"
            },
            "type": "circle",
            "x0": 16.953019078079066,
            "x1": 17.353019078079065,
            "xref": "x",
            "y0": 18.305674590767463,
            "y1": 18.70567459076746,
            "yref": "y"
           },
           {
            "fillcolor": "rgba(0, 0, 146, 0.5)",
            "line": {
             "color": "rgba(0, 0, 146, 0.5)"
            },
            "type": "circle",
            "x0": 15.398464318820839,
            "x1": 15.798464318820837,
            "xref": "x",
            "y0": 18.036674891005717,
            "y1": 18.436674891005715,
            "yref": "y"
           },
           {
            "fillcolor": "rgba(251, 241, 0, 0.5)",
            "line": {
             "color": "rgba(251, 241, 0, 0.5)"
            },
            "type": "circle",
            "x0": 7.3834173520571005,
            "x1": 7.783417352057101,
            "xref": "x",
            "y0": 18.39581449149996,
            "y1": 18.795814491499957,
            "yref": "y"
           },
           {
            "fillcolor": "rgba(154, 255, 93, 0.5)",
            "line": {
             "color": "rgba(154, 255, 93, 0.5)"
            },
            "type": "circle",
            "x0": 6.375235132269872,
            "x1": 6.775235132269873,
            "xref": "x",
            "y0": 19.0071491091139,
            "y1": 19.4071491091139,
            "yref": "y"
           },
           {
            "fillcolor": "rgba(0, 0, 137, 0.5)",
            "line": {
             "color": "rgba(0, 0, 137, 0.5)"
            },
            "type": "circle",
            "x0": 8.482090260993575,
            "x1": 8.882090260993573,
            "xref": "x",
            "y0": 19.153240962390765,
            "y1": 19.553240962390763,
            "yref": "y"
           },
           {
            "fillcolor": "rgba(128, 255, 119, 0.5)",
            "line": {
             "color": "rgba(128, 255, 119, 0.5)"
            },
            "type": "circle",
            "x0": 6.073910696260111,
            "x1": 6.473910696260111,
            "xref": "x",
            "y0": 17.90841406983589,
            "y1": 18.308414069835887,
            "yref": "y"
           },
           {
            "fillcolor": "rgba(255, 115, 0, 0.5)",
            "line": {
             "color": "rgba(255, 115, 0, 0.5)"
            },
            "type": "circle",
            "x0": 6.155130074480244,
            "x1": 6.555130074480244,
            "xref": "x",
            "y0": 19.496077654875954,
            "y1": 19.896077654875953,
            "yref": "y"
           },
           {
            "fillcolor": "rgba(115, 255, 131, 0.5)",
            "line": {
             "color": "rgba(115, 255, 131, 0.5)"
            },
            "type": "circle",
            "x0": 12.109958321115926,
            "x1": 12.509958321115924,
            "xref": "x",
            "y0": 18.462316493289745,
            "y1": 18.862316493289743,
            "yref": "y"
           },
           {
            "fillcolor": "rgba(170, 255, 77, 0.5)",
            "line": {
             "color": "rgba(170, 255, 77, 0.5)"
            },
            "type": "circle",
            "x0": 10.088392257224648,
            "x1": 10.488392257224646,
            "xref": "x",
            "y0": 18.462628505788903,
            "y1": 18.8626285057889,
            "yref": "y"
           },
           {
            "fillcolor": "rgba(196, 255, 51, 0.5)",
            "line": {
             "color": "rgba(196, 255, 51, 0.5)"
            },
            "type": "circle",
            "x0": 6.78843265338522,
            "x1": 7.18843265338522,
            "xref": "x",
            "y0": 18.60415376678586,
            "y1": 19.00415376678586,
            "yref": "y"
           },
           {
            "fillcolor": "rgba(0, 40, 255, 0.5)",
            "line": {
             "color": "rgba(0, 40, 255, 0.5)"
            },
            "type": "circle",
            "x0": 13.955230173237867,
            "x1": 14.355230173237866,
            "xref": "x",
            "y0": 17.87233005687306,
            "y1": 18.27233005687306,
            "yref": "y"
           },
           {
            "fillcolor": "rgba(0, 0, 128, 0.5)",
            "line": {
             "color": "rgba(0, 0, 128, 0.5)"
            },
            "type": "circle",
            "x0": 11.839364962343547,
            "x1": 12.239364962343545,
            "xref": "x",
            "y0": 19.318280120711517,
            "y1": 19.718280120711515,
            "yref": "y"
           },
           {
            "fillcolor": "rgba(202, 255, 44, 0.5)",
            "line": {
             "color": "rgba(202, 255, 44, 0.5)"
            },
            "type": "circle",
            "x0": 9.133291388611594,
            "x1": 9.533291388611593,
            "xref": "x",
            "y0": 18.469124849868237,
            "y1": 18.869124849868236,
            "yref": "y"
           },
           {
            "fillcolor": "rgba(48, 255, 199, 0.5)",
            "line": {
             "color": "rgba(48, 255, 199, 0.5)"
            },
            "type": "circle",
            "x0": 13.20042498825706,
            "x1": 13.600424988257059,
            "xref": "x",
            "y0": 18.47271072548217,
            "y1": 18.872710725482168,
            "yref": "y"
           },
           {
            "fillcolor": "rgba(254, 237, 0, 0.5)",
            "line": {
             "color": "rgba(254, 237, 0, 0.5)"
            },
            "type": "circle",
            "x0": 8.222791989991292,
            "x1": 8.62279198999129,
            "xref": "x",
            "y0": 18.44252081723364,
            "y1": 18.842520817233638,
            "yref": "y"
           },
           {
            "fillcolor": "rgba(255,255,255,0)",
            "line": {
             "width": 0
            },
            "type": "circle",
            "x0": 0,
            "x1": 0,
            "xref": "x",
            "y0": 0,
            "y1": 0,
            "yref": "y"
           },
           {
            "fillcolor": "rgba(255,255,255,0)",
            "line": {
             "width": 0
            },
            "type": "circle",
            "x0": 0,
            "x1": 0,
            "xref": "x",
            "y0": 0,
            "y1": 0,
            "yref": "y"
           },
           {
            "line": {
             "color": "black",
             "width": 3
            },
            "type": "line",
            "x0": 11.28023372249595,
            "x1": 11.08038666271297,
            "y0": 18.658734195229083,
            "y1": 18.666554214161145
           },
           {
            "line": {
             "color": "white",
             "width": 3
            },
            "type": "line",
            "x0": 16.42557007260169,
            "x1": 16.625569670601173,
            "y0": 19.48108980167257,
            "y1": 19.480688802863675
           },
           {
            "line": {
             "color": "black",
             "width": 3
            },
            "type": "line",
            "x0": 6.815002069791193,
            "x1": 6.61544297208097,
            "y0": 18.214320117467427,
            "y1": 18.201047343790393
           },
           {
            "line": {
             "color": "white",
             "width": 3
            },
            "type": "line",
            "x0": 17.153019078079065,
            "x1": 17.33722032428976,
            "y0": 18.505674590767462,
            "y1": 18.583584159463655
           },
           {
            "line": {
             "color": "white",
             "width": 3
            },
            "type": "line",
            "x0": 15.598464318820838,
            "x1": 15.788740365377095,
            "y0": 18.236674891005716,
            "y1": 18.298278674224942
           },
           {
            "line": {
             "color": "black",
             "width": 3
            },
            "type": "line",
            "x0": 7.583417352057101,
            "x1": 7.38357272331169,
            "y0": 18.595814491499958,
            "y1": 18.603696392387995
           },
           {
            "line": {
             "color": "black",
             "width": 3
            },
            "type": "line",
            "x0": 6.5752351322698726,
            "x1": 6.757665833276222,
            "y0": 19.2071491091139,
            "y1": 19.125179362680644
           },
           {
            "line": {
             "color": "white",
             "width": 3
            },
            "type": "line",
            "x0": 8.682090260993574,
            "x1": 8.880818127572772,
            "y0": 19.353240962390764,
            "y1": 19.37576284163919
           },
           {
            "line": {
             "color": "black",
             "width": 3
            },
            "type": "line",
            "x0": 6.273910696260111,
            "x1": 6.473890671082883,
            "y0": 18.108414069835888,
            "y1": 18.111244205854398
           },
           {
            "line": {
             "color": "black",
             "width": 3
            },
            "type": "line",
            "x0": 6.355130074480244,
            "x1": 6.1585284163636205,
            "y0": 19.696077654875953,
            "y1": 19.65936542223077
           },
           {
            "line": {
             "color": "black",
             "width": 3
            },
            "type": "line",
            "x0": 12.309958321115925,
            "x1": 12.110018325147339,
            "y0": 18.662316493289744,
            "y1": 18.667215269880067
           },
           {
            "line": {
             "color": "black",
             "width": 3
            },
            "type": "line",
            "x0": 10.288392257224647,
            "x1": 10.088607082978065,
            "y0": 18.662628505788902,
            "y1": 18.671895876034185
           },
           {
            "line": {
             "color": "black",
             "width": 3
            },
            "type": "line",
            "x0": 6.98843265338522,
            "x1": 7.187324145407564,
            "y0": 18.80415376678586,
            "y1": 18.825181710126234
           },
           {
            "line": {
             "color": "white",
             "width": 3
            },
            "type": "line",
            "x0": 14.155230173237866,
            "x1": 14.349148394486946,
            "y0": 18.07233005687306,
            "y1": 18.121276185091677
           },
           {
            "line": {
             "color": "white",
             "width": 3
            },
            "type": "line",
            "x0": 12.039364962343546,
            "x1": 12.239360661125982,
            "y0": 19.518280120711516,
            "y1": 19.51696845439525
           },
           {
            "line": {
             "color": "black",
             "width": 3
            },
            "type": "line",
            "x0": 9.333291388611594,
            "x1": 9.133529989886611,
            "y0": 18.669124849868236,
            "y1": 18.67889130160049
           },
           {
            "line": {
             "color": "black",
             "width": 3
            },
            "type": "line",
            "x0": 13.40042498825706,
            "x1": 13.200602538847413,
            "y0": 18.67271072548217,
            "y1": 18.681136205404936
           },
           {
            "line": {
             "color": "black",
             "width": 3
            },
            "type": "line",
            "x0": 8.42279198999129,
            "x1": 8.222885938632329,
            "y0": 18.64252081723364,
            "y1": 18.636391328668648
           },
           {
            "line": {
             "color": "rgba(255,255,255,0)",
             "width": 3
            },
            "type": "line",
            "x0": 0,
            "x1": null,
            "y0": 0,
            "y1": null
           },
           {
            "line": {
             "color": "rgba(255,255,255,0)",
             "width": 3
            },
            "type": "line",
            "x0": 0,
            "x1": null,
            "y0": 0,
            "y1": null
           }
          ],
          "title": {
           "text": "<b>Percentage: 0%  |  Number of Agents: 18</b>",
           "x": 0.5
          }
         },
         "name": "550"
        },
        {
         "data": [
          {
           "hoverinfo": "name",
           "line": {
            "color": "grey"
           },
           "mode": "lines",
           "name": "Exterior",
           "showlegend": false,
           "type": "scatter",
           "x": {
            "bdata": "AAAAAAAAAAAAAAAAAAAAAAAAAAAAAERAAAAAAAAAREAAAAAAAAAAAA==",
            "dtype": "f8"
           },
           "y": {
            "bdata": "AAAAAAAANEAAAAAAAAAAAAAAAAAAAAAAAAAAAAAANEAAAAAAAAA0QA==",
            "dtype": "f8"
           }
          },
          {
           "hoverinfo": "name",
           "line": {
            "color": "grey"
           },
           "mode": "lines",
           "name": "Obstacle",
           "showlegend": false,
           "type": "scatter",
           "x": {
            "bdata": "AAAAAAAAFEAAAAAAAAAcQAAAAAAAABxAAAAAAAAAFEAAAAAAAAAUQA==",
            "dtype": "f8"
           },
           "y": {
            "bdata": "AAAAAAAAMEAAAAAAAAAwQAAAAAAAABBAAAAAAAAAEEAAAAAAAAAwQA==",
            "dtype": "f8"
           }
          },
          {
           "hoverinfo": "name",
           "line": {
            "color": "grey"
           },
           "mode": "lines",
           "name": "Obstacle",
           "showlegend": false,
           "type": "scatter",
           "x": {
            "bdata": "AAAAAAAAKkAAAAAAAAAuQAAAAAAAAC5AAAAAAAAAKkAAAAAAAAAqQA==",
            "dtype": "f8"
           },
           "y": {
            "bdata": "AAAAAAAAMEAAAAAAAAAwQAAAAAAAABBAAAAAAAAAEEAAAAAAAAAwQA==",
            "dtype": "f8"
           }
          },
          {
           "hoverinfo": "name",
           "line": {
            "color": "grey"
           },
           "mode": "lines",
           "name": "Obstacle",
           "showlegend": false,
           "type": "scatter",
           "x": {
            "bdata": "AAAAAAAAOUAAAAAAAAA7QAAAAAAAADtAAAAAAAAAOUAAAAAAAAA5QA==",
            "dtype": "f8"
           },
           "y": {
            "bdata": "AAAAAAAAMEAAAAAAAAAwQAAAAAAAABBAAAAAAAAAEEAAAAAAAAAwQA==",
            "dtype": "f8"
           }
          },
          {
           "hoverinfo": "name",
           "line": {
            "color": "grey"
           },
           "mode": "lines",
           "name": "Obstacle",
           "showlegend": false,
           "type": "scatter",
           "x": {
            "bdata": "AAAAAACAQEAAAAAAAIBBQAAAAAAAgEFAAAAAAACAQEAAAAAAAIBAQA==",
            "dtype": "f8"
           },
           "y": {
            "bdata": "AAAAAAAAMEAAAAAAAAAwQAAAAAAAABBAAAAAAAAAEEAAAAAAAAAwQA==",
            "dtype": "f8"
           }
          },
          {
           "hoverinfo": "text",
           "marker": {
            "opacity": 1,
            "size": 1
           },
           "mode": "markers",
           "showlegend": false,
           "text": [
            "ID: 42.0, Pos(6.12,18.69)"
           ],
           "type": "scatter",
           "x": [
            6.123412682437292
           ],
           "y": [
            18.693296316678186
           ]
          },
          {
           "hoverinfo": "text",
           "marker": {
            "opacity": 1,
            "size": 1
           },
           "mode": "markers",
           "showlegend": false,
           "text": [
            "ID: 44.0, Pos(13.60,19.46)"
           ],
           "type": "scatter",
           "x": [
            13.600364684276833
           ],
           "y": [
            19.46320609698806
           ]
          },
          {
           "hoverinfo": "text",
           "marker": {
            "opacity": 1,
            "size": 1
           },
           "mode": "markers",
           "showlegend": false,
           "text": [
            "ID: 48.0, Pos(13.54,18.56)"
           ],
           "type": "scatter",
           "x": [
            13.538355122704692
           ],
           "y": [
            18.560506455116986
           ]
          },
          {
           "hoverinfo": "text",
           "marker": {
            "opacity": 1,
            "size": 1
           },
           "mode": "markers",
           "showlegend": false,
           "text": [
            "ID: 49.0, Pos(18.37,19.50)"
           ],
           "type": "scatter",
           "x": [
            18.369981112657243
           ],
           "y": [
            19.496944205521892
           ]
          },
          {
           "hoverinfo": "text",
           "marker": {
            "opacity": 1,
            "size": 1
           },
           "mode": "markers",
           "showlegend": false,
           "text": [
            "ID: 51.0, Pos(17.26,19.07)"
           ],
           "type": "scatter",
           "x": [
            17.26274978935692
           ],
           "y": [
            19.072362869923655
           ]
          },
          {
           "hoverinfo": "text",
           "marker": {
            "opacity": 1,
            "size": 1
           },
           "mode": "markers",
           "showlegend": false,
           "text": [
            "ID: 53.0, Pos(16.77,19.51)"
           ],
           "type": "scatter",
           "x": [
            16.769243050755826
           ],
           "y": [
            19.510553591249614
           ]
          },
          {
           "hoverinfo": "text",
           "marker": {
            "opacity": 1,
            "size": 1
           },
           "mode": "markers",
           "showlegend": false,
           "text": [
            "ID: 54.0, Pos(6.99,18.75)"
           ],
           "type": "scatter",
           "x": [
            6.9945656883706055
           ],
           "y": [
            18.748684783821737
           ]
          },
          {
           "hoverinfo": "text",
           "marker": {
            "opacity": 1,
            "size": 1
           },
           "mode": "markers",
           "showlegend": false,
           "text": [
            "ID: 55.0, Pos(7.42,19.44)"
           ],
           "type": "scatter",
           "x": [
            7.4151094159195345
           ],
           "y": [
            19.441883369028908
           ]
          },
          {
           "hoverinfo": "text",
           "marker": {
            "opacity": 1,
            "size": 1
           },
           "mode": "markers",
           "showlegend": false,
           "text": [
            "ID: 56.0, Pos(15.18,19.45)"
           ],
           "type": "scatter",
           "x": [
            15.175160087638288
           ],
           "y": [
            19.445795216434842
           ]
          },
          {
           "hoverinfo": "text",
           "marker": {
            "opacity": 1,
            "size": 1
           },
           "mode": "markers",
           "showlegend": false,
           "text": [
            "ID: 59.0, Pos(9.14,18.17)"
           ],
           "type": "scatter",
           "x": [
            9.136749379566973
           ],
           "y": [
            18.169366987488456
           ]
          },
          {
           "hoverinfo": "text",
           "marker": {
            "opacity": 1,
            "size": 1
           },
           "mode": "markers",
           "showlegend": false,
           "text": [
            "ID: 60.0, Pos(7.98,18.81)"
           ],
           "type": "scatter",
           "x": [
            7.981018123572948
           ],
           "y": [
            18.808736179486647
           ]
          },
          {
           "hoverinfo": "text",
           "marker": {
            "opacity": 1,
            "size": 1
           },
           "mode": "markers",
           "showlegend": false,
           "text": [
            "ID: 61.0, Pos(11.60,19.47)"
           ],
           "type": "scatter",
           "x": [
            11.601227897390011
           ],
           "y": [
            19.47409887453225
           ]
          },
          {
           "hoverinfo": "none",
           "marker": {
            "opacity": 0,
            "size": 1
           },
           "mode": "markers",
           "showlegend": false,
           "type": "scatter",
           "x": [
            0
           ],
           "y": [
            0
           ]
          },
          {
           "hoverinfo": "none",
           "marker": {
            "opacity": 0,
            "size": 1
           },
           "mode": "markers",
           "showlegend": false,
           "type": "scatter",
           "x": [
            0
           ],
           "y": [
            0
           ]
          },
          {
           "hoverinfo": "none",
           "marker": {
            "opacity": 0,
            "size": 1
           },
           "mode": "markers",
           "showlegend": false,
           "type": "scatter",
           "x": [
            0
           ],
           "y": [
            0
           ]
          },
          {
           "hoverinfo": "none",
           "marker": {
            "opacity": 0,
            "size": 1
           },
           "mode": "markers",
           "showlegend": false,
           "type": "scatter",
           "x": [
            0
           ],
           "y": [
            0
           ]
          },
          {
           "hoverinfo": "none",
           "marker": {
            "opacity": 0,
            "size": 1
           },
           "mode": "markers",
           "showlegend": false,
           "type": "scatter",
           "x": [
            0
           ],
           "y": [
            0
           ]
          },
          {
           "hoverinfo": "none",
           "marker": {
            "opacity": 0,
            "size": 1
           },
           "mode": "markers",
           "showlegend": false,
           "type": "scatter",
           "x": [
            0
           ],
           "y": [
            0
           ]
          },
          {
           "hoverinfo": "none",
           "marker": {
            "opacity": 0,
            "size": 1
           },
           "mode": "markers",
           "showlegend": false,
           "type": "scatter",
           "x": [
            0
           ],
           "y": [
            0
           ]
          },
          {
           "hoverinfo": "none",
           "marker": {
            "opacity": 0,
            "size": 1
           },
           "mode": "markers",
           "showlegend": false,
           "type": "scatter",
           "x": [
            0
           ],
           "y": [
            0
           ]
          }
         ],
         "layout": {
          "shapes": [
           {
            "fillcolor": "rgba(255, 93, 0, 0.5)",
            "line": {
             "color": "rgba(255, 93, 0, 0.5)"
            },
            "type": "circle",
            "x0": 5.9234126824372915,
            "x1": 6.323412682437292,
            "xref": "x",
            "y0": 18.493296316678187,
            "y1": 18.893296316678185,
            "yref": "y"
           },
           {
            "fillcolor": "rgba(0, 0, 155, 0.5)",
            "line": {
             "color": "rgba(0, 0, 155, 0.5)"
            },
            "type": "circle",
            "x0": 13.400364684276834,
            "x1": 13.800364684276833,
            "xref": "x",
            "y0": 19.26320609698806,
            "y1": 19.66320609698806,
            "yref": "y"
           },
           {
            "fillcolor": "rgba(0, 0, 128, 0.5)",
            "line": {
             "color": "rgba(0, 0, 128, 0.5)"
            },
            "type": "circle",
            "x0": 13.338355122704693,
            "x1": 13.738355122704691,
            "xref": "x",
            "y0": 18.360506455116987,
            "y1": 18.760506455116985,
            "yref": "y"
           },
           {
            "fillcolor": "rgba(0, 0, 128, 0.5)",
            "line": {
             "color": "rgba(0, 0, 128, 0.5)"
            },
            "type": "circle",
            "x0": 18.169981112657243,
            "x1": 18.569981112657242,
            "xref": "x",
            "y0": 19.296944205521893,
            "y1": 19.69694420552189,
            "yref": "y"
           },
           {
            "fillcolor": "rgba(0, 152, 255, 0.5)",
            "line": {
             "color": "rgba(0, 152, 255, 0.5)"
            },
            "type": "circle",
            "x0": 17.06274978935692,
            "x1": 17.46274978935692,
            "xref": "x",
            "y0": 18.872362869923656,
            "y1": 19.272362869923654,
            "yref": "y"
           },
           {
            "fillcolor": "rgba(0, 0, 128, 0.5)",
            "line": {
             "color": "rgba(0, 0, 128, 0.5)"
            },
            "type": "circle",
            "x0": 16.569243050755826,
            "x1": 16.969243050755825,
            "xref": "x",
            "y0": 19.310553591249615,
            "y1": 19.710553591249614,
            "yref": "y"
           },
           {
            "fillcolor": "rgba(222, 255, 25, 0.5)",
            "line": {
             "color": "rgba(222, 255, 25, 0.5)"
            },
            "type": "circle",
            "x0": 6.794565688370605,
            "x1": 7.194565688370606,
            "xref": "x",
            "y0": 18.548684783821738,
            "y1": 18.948684783821736,
            "yref": "y"
           },
           {
            "fillcolor": "rgba(0, 0, 164, 0.5)",
            "line": {
             "color": "rgba(0, 0, 164, 0.5)"
            },
            "type": "circle",
            "x0": 7.215109415919534,
            "x1": 7.615109415919535,
            "xref": "x",
            "y0": 19.24188336902891,
            "y1": 19.641883369028907,
            "yref": "y"
           },
           {
            "fillcolor": "rgba(0, 0, 132, 0.5)",
            "line": {
             "color": "rgba(0, 0, 132, 0.5)"
            },
            "type": "circle",
            "x0": 14.975160087638288,
            "x1": 15.375160087638287,
            "xref": "x",
            "y0": 19.245795216434843,
            "y1": 19.64579521643484,
            "yref": "y"
           },
           {
            "fillcolor": "rgba(0, 0, 128, 0.5)",
            "line": {
             "color": "rgba(0, 0, 128, 0.5)"
            },
            "type": "circle",
            "x0": 8.936749379566974,
            "x1": 9.336749379566973,
            "xref": "x",
            "y0": 17.969366987488456,
            "y1": 18.369366987488455,
            "yref": "y"
           },
           {
            "fillcolor": "rgba(202, 255, 44, 0.5)",
            "line": {
             "color": "rgba(202, 255, 44, 0.5)"
            },
            "type": "circle",
            "x0": 7.781018123572948,
            "x1": 8.181018123572947,
            "xref": "x",
            "y0": 18.608736179486648,
            "y1": 19.008736179486647,
            "yref": "y"
           },
           {
            "fillcolor": "rgba(0, 0, 128, 0.5)",
            "line": {
             "color": "rgba(0, 0, 128, 0.5)"
            },
            "type": "circle",
            "x0": 11.401227897390012,
            "x1": 11.80122789739001,
            "xref": "x",
            "y0": 19.27409887453225,
            "y1": 19.67409887453225,
            "yref": "y"
           },
           {
            "fillcolor": "rgba(255,255,255,0)",
            "line": {
             "width": 0
            },
            "type": "circle",
            "x0": 0,
            "x1": 0,
            "xref": "x",
            "y0": 0,
            "y1": 0,
            "yref": "y"
           },
           {
            "fillcolor": "rgba(255,255,255,0)",
            "line": {
             "width": 0
            },
            "type": "circle",
            "x0": 0,
            "x1": 0,
            "xref": "x",
            "y0": 0,
            "y1": 0,
            "yref": "y"
           },
           {
            "fillcolor": "rgba(255,255,255,0)",
            "line": {
             "width": 0
            },
            "type": "circle",
            "x0": 0,
            "x1": 0,
            "xref": "x",
            "y0": 0,
            "y1": 0,
            "yref": "y"
           },
           {
            "fillcolor": "rgba(255,255,255,0)",
            "line": {
             "width": 0
            },
            "type": "circle",
            "x0": 0,
            "x1": 0,
            "xref": "x",
            "y0": 0,
            "y1": 0,
            "yref": "y"
           },
           {
            "fillcolor": "rgba(255,255,255,0)",
            "line": {
             "width": 0
            },
            "type": "circle",
            "x0": 0,
            "x1": 0,
            "xref": "x",
            "y0": 0,
            "y1": 0,
            "yref": "y"
           },
           {
            "fillcolor": "rgba(255,255,255,0)",
            "line": {
             "width": 0
            },
            "type": "circle",
            "x0": 0,
            "x1": 0,
            "xref": "x",
            "y0": 0,
            "y1": 0,
            "yref": "y"
           },
           {
            "fillcolor": "rgba(255,255,255,0)",
            "line": {
             "width": 0
            },
            "type": "circle",
            "x0": 0,
            "x1": 0,
            "xref": "x",
            "y0": 0,
            "y1": 0,
            "yref": "y"
           },
           {
            "fillcolor": "rgba(255,255,255,0)",
            "line": {
             "width": 0
            },
            "type": "circle",
            "x0": 0,
            "x1": 0,
            "xref": "x",
            "y0": 0,
            "y1": 0,
            "yref": "y"
           },
           {
            "line": {
             "color": "black",
             "width": 3
            },
            "type": "line",
            "x0": 6.123412682437292,
            "x1": 6.323050544683855,
            "y0": 18.693296316678186,
            "y1": 18.705326443760736
           },
           {
            "line": {
             "color": "white",
             "width": 3
            },
            "type": "line",
            "x0": 13.600364684276833,
            "x1": 13.800339299780255,
            "y0": 19.46320609698806,
            "y1": 19.466392498447206
           },
           {
            "line": {
             "color": "white",
             "width": 3
            },
            "type": "line",
            "x0": 13.538355122704692,
            "x1": 13.736370038866312,
            "y0": 18.560506455116986,
            "y1": 18.58861504770905
           },
           {
            "line": {
             "color": "white",
             "width": 3
            },
            "type": "line",
            "x0": 18.369981112657243,
            "x1": 18.569972594295724,
            "y0": 19.496944205521892,
            "y1": 19.495098325773604
           },
           {
            "line": {
             "color": "white",
             "width": 3
            },
            "type": "line",
            "x0": 17.26274978935692,
            "x1": 17.46227336688952,
            "y0": 19.072362869923655,
            "y1": 19.086159319053536
           },
           {
            "line": {
             "color": "white",
             "width": 3
            },
            "type": "line",
            "x0": 16.769243050755826,
            "x1": 16.96809791695286,
            "y0": 19.510553591249614,
            "y1": 19.531925118798195
           },
           {
            "line": {
             "color": "black",
             "width": 3
            },
            "type": "line",
            "x0": 6.9945656883706055,
            "x1": 6.79456630442901,
            "y0": 18.748684783821737,
            "y1": 18.74918119391635
           },
           {
            "line": {
             "color": "white",
             "width": 3
            },
            "type": "line",
            "x0": 7.4151094159195345,
            "x1": 7.614596804203853,
            "y0": 19.441883369028908,
            "y1": 19.45619357222458
           },
           {
            "line": {
             "color": "white",
             "width": 3
            },
            "type": "line",
            "x0": 15.175160087638288,
            "x1": 15.375153157110665,
            "y0": 19.445795216434842,
            "y1": 19.447460197821098
           },
           {
            "line": {
             "color": "white",
             "width": 3
            },
            "type": "line",
            "x0": 9.136749379566973,
            "x1": 9.335129528787123,
            "y0": 18.169366987488456,
            "y1": 18.194770065951335
           },
           {
            "line": {
             "color": "black",
             "width": 3
            },
            "type": "line",
            "x0": 7.981018123572948,
            "x1": 7.7810989335039356,
            "y0": 18.808736179486647,
            "y1": 18.814421022681486
           },
           {
            "line": {
             "color": "white",
             "width": 3
            },
            "type": "line",
            "x0": 11.601227897390011,
            "x1": 11.801226135553076,
            "y0": 19.47409887453225,
            "y1": 19.473259391554507
           },
           {
            "line": {
             "color": "rgba(255,255,255,0)",
             "width": 3
            },
            "type": "line",
            "x0": 0,
            "x1": null,
            "y0": 0,
            "y1": null
           },
           {
            "line": {
             "color": "rgba(255,255,255,0)",
             "width": 3
            },
            "type": "line",
            "x0": 0,
            "x1": null,
            "y0": 0,
            "y1": null
           },
           {
            "line": {
             "color": "rgba(255,255,255,0)",
             "width": 3
            },
            "type": "line",
            "x0": 0,
            "x1": null,
            "y0": 0,
            "y1": null
           },
           {
            "line": {
             "color": "rgba(255,255,255,0)",
             "width": 3
            },
            "type": "line",
            "x0": 0,
            "x1": null,
            "y0": 0,
            "y1": null
           },
           {
            "line": {
             "color": "rgba(255,255,255,0)",
             "width": 3
            },
            "type": "line",
            "x0": 0,
            "x1": null,
            "y0": 0,
            "y1": null
           },
           {
            "line": {
             "color": "rgba(255,255,255,0)",
             "width": 3
            },
            "type": "line",
            "x0": 0,
            "x1": null,
            "y0": 0,
            "y1": null
           },
           {
            "line": {
             "color": "rgba(255,255,255,0)",
             "width": 3
            },
            "type": "line",
            "x0": 0,
            "x1": null,
            "y0": 0,
            "y1": null
           },
           {
            "line": {
             "color": "rgba(255,255,255,0)",
             "width": 3
            },
            "type": "line",
            "x0": 0,
            "x1": null,
            "y0": 0,
            "y1": null
           }
          ],
          "title": {
           "text": "<b>Percentage: 0%  |  Number of Agents: 12</b>",
           "x": 0.5
          }
         },
         "name": "600"
        },
        {
         "data": [
          {
           "hoverinfo": "name",
           "line": {
            "color": "grey"
           },
           "mode": "lines",
           "name": "Exterior",
           "showlegend": false,
           "type": "scatter",
           "x": {
            "bdata": "AAAAAAAAAAAAAAAAAAAAAAAAAAAAAERAAAAAAAAAREAAAAAAAAAAAA==",
            "dtype": "f8"
           },
           "y": {
            "bdata": "AAAAAAAANEAAAAAAAAAAAAAAAAAAAAAAAAAAAAAANEAAAAAAAAA0QA==",
            "dtype": "f8"
           }
          },
          {
           "hoverinfo": "name",
           "line": {
            "color": "grey"
           },
           "mode": "lines",
           "name": "Obstacle",
           "showlegend": false,
           "type": "scatter",
           "x": {
            "bdata": "AAAAAAAAFEAAAAAAAAAcQAAAAAAAABxAAAAAAAAAFEAAAAAAAAAUQA==",
            "dtype": "f8"
           },
           "y": {
            "bdata": "AAAAAAAAMEAAAAAAAAAwQAAAAAAAABBAAAAAAAAAEEAAAAAAAAAwQA==",
            "dtype": "f8"
           }
          },
          {
           "hoverinfo": "name",
           "line": {
            "color": "grey"
           },
           "mode": "lines",
           "name": "Obstacle",
           "showlegend": false,
           "type": "scatter",
           "x": {
            "bdata": "AAAAAAAAKkAAAAAAAAAuQAAAAAAAAC5AAAAAAAAAKkAAAAAAAAAqQA==",
            "dtype": "f8"
           },
           "y": {
            "bdata": "AAAAAAAAMEAAAAAAAAAwQAAAAAAAABBAAAAAAAAAEEAAAAAAAAAwQA==",
            "dtype": "f8"
           }
          },
          {
           "hoverinfo": "name",
           "line": {
            "color": "grey"
           },
           "mode": "lines",
           "name": "Obstacle",
           "showlegend": false,
           "type": "scatter",
           "x": {
            "bdata": "AAAAAAAAOUAAAAAAAAA7QAAAAAAAADtAAAAAAAAAOUAAAAAAAAA5QA==",
            "dtype": "f8"
           },
           "y": {
            "bdata": "AAAAAAAAMEAAAAAAAAAwQAAAAAAAABBAAAAAAAAAEEAAAAAAAAAwQA==",
            "dtype": "f8"
           }
          },
          {
           "hoverinfo": "name",
           "line": {
            "color": "grey"
           },
           "mode": "lines",
           "name": "Obstacle",
           "showlegend": false,
           "type": "scatter",
           "x": {
            "bdata": "AAAAAACAQEAAAAAAAIBBQAAAAAAAgEFAAAAAAACAQEAAAAAAAIBAQA==",
            "dtype": "f8"
           },
           "y": {
            "bdata": "AAAAAAAAMEAAAAAAAAAwQAAAAAAAABBAAAAAAAAAEEAAAAAAAAAwQA==",
            "dtype": "f8"
           }
          },
          {
           "hoverinfo": "text",
           "marker": {
            "opacity": 1,
            "size": 1
           },
           "mode": "markers",
           "showlegend": false,
           "text": [
            "ID: 42.0, Pos(16.90,19.24)"
           ],
           "type": "scatter",
           "x": [
            16.897038843114576
           ],
           "y": [
            19.242064001627572
           ]
          },
          {
           "hoverinfo": "text",
           "marker": {
            "opacity": 1,
            "size": 1
           },
           "mode": "markers",
           "showlegend": false,
           "text": [
            "ID: 54.0, Pos(15.25,19.46)"
           ],
           "type": "scatter",
           "x": [
            15.247668080236297
           ],
           "y": [
            19.455415321520746
           ]
          },
          {
           "hoverinfo": "text",
           "marker": {
            "opacity": 1,
            "size": 1
           },
           "mode": "markers",
           "showlegend": false,
           "text": [
            "ID: 60.0, Pos(13.69,19.18)"
           ],
           "type": "scatter",
           "x": [
            13.692576519312588
           ],
           "y": [
            19.181495297336316
           ]
          },
          {
           "hoverinfo": "none",
           "marker": {
            "opacity": 0,
            "size": 1
           },
           "mode": "markers",
           "showlegend": false,
           "type": "scatter",
           "x": [
            0
           ],
           "y": [
            0
           ]
          },
          {
           "hoverinfo": "none",
           "marker": {
            "opacity": 0,
            "size": 1
           },
           "mode": "markers",
           "showlegend": false,
           "type": "scatter",
           "x": [
            0
           ],
           "y": [
            0
           ]
          },
          {
           "hoverinfo": "none",
           "marker": {
            "opacity": 0,
            "size": 1
           },
           "mode": "markers",
           "showlegend": false,
           "type": "scatter",
           "x": [
            0
           ],
           "y": [
            0
           ]
          },
          {
           "hoverinfo": "none",
           "marker": {
            "opacity": 0,
            "size": 1
           },
           "mode": "markers",
           "showlegend": false,
           "type": "scatter",
           "x": [
            0
           ],
           "y": [
            0
           ]
          },
          {
           "hoverinfo": "none",
           "marker": {
            "opacity": 0,
            "size": 1
           },
           "mode": "markers",
           "showlegend": false,
           "type": "scatter",
           "x": [
            0
           ],
           "y": [
            0
           ]
          },
          {
           "hoverinfo": "none",
           "marker": {
            "opacity": 0,
            "size": 1
           },
           "mode": "markers",
           "showlegend": false,
           "type": "scatter",
           "x": [
            0
           ],
           "y": [
            0
           ]
          },
          {
           "hoverinfo": "none",
           "marker": {
            "opacity": 0,
            "size": 1
           },
           "mode": "markers",
           "showlegend": false,
           "type": "scatter",
           "x": [
            0
           ],
           "y": [
            0
           ]
          },
          {
           "hoverinfo": "none",
           "marker": {
            "opacity": 0,
            "size": 1
           },
           "mode": "markers",
           "showlegend": false,
           "type": "scatter",
           "x": [
            0
           ],
           "y": [
            0
           ]
          },
          {
           "hoverinfo": "none",
           "marker": {
            "opacity": 0,
            "size": 1
           },
           "mode": "markers",
           "showlegend": false,
           "type": "scatter",
           "x": [
            0
           ],
           "y": [
            0
           ]
          },
          {
           "hoverinfo": "none",
           "marker": {
            "opacity": 0,
            "size": 1
           },
           "mode": "markers",
           "showlegend": false,
           "type": "scatter",
           "x": [
            0
           ],
           "y": [
            0
           ]
          },
          {
           "hoverinfo": "none",
           "marker": {
            "opacity": 0,
            "size": 1
           },
           "mode": "markers",
           "showlegend": false,
           "type": "scatter",
           "x": [
            0
           ],
           "y": [
            0
           ]
          },
          {
           "hoverinfo": "none",
           "marker": {
            "opacity": 0,
            "size": 1
           },
           "mode": "markers",
           "showlegend": false,
           "type": "scatter",
           "x": [
            0
           ],
           "y": [
            0
           ]
          },
          {
           "hoverinfo": "none",
           "marker": {
            "opacity": 0,
            "size": 1
           },
           "mode": "markers",
           "showlegend": false,
           "type": "scatter",
           "x": [
            0
           ],
           "y": [
            0
           ]
          },
          {
           "hoverinfo": "none",
           "marker": {
            "opacity": 0,
            "size": 1
           },
           "mode": "markers",
           "showlegend": false,
           "type": "scatter",
           "x": [
            0
           ],
           "y": [
            0
           ]
          },
          {
           "hoverinfo": "none",
           "marker": {
            "opacity": 0,
            "size": 1
           },
           "mode": "markers",
           "showlegend": false,
           "type": "scatter",
           "x": [
            0
           ],
           "y": [
            0
           ]
          },
          {
           "hoverinfo": "none",
           "marker": {
            "opacity": 0,
            "size": 1
           },
           "mode": "markers",
           "showlegend": false,
           "type": "scatter",
           "x": [
            0
           ],
           "y": [
            0
           ]
          },
          {
           "hoverinfo": "none",
           "marker": {
            "opacity": 0,
            "size": 1
           },
           "mode": "markers",
           "showlegend": false,
           "type": "scatter",
           "x": [
            0
           ],
           "y": [
            0
           ]
          }
         ],
         "layout": {
          "shapes": [
           {
            "fillcolor": "rgba(0, 0, 128, 0.5)",
            "line": {
             "color": "rgba(0, 0, 128, 0.5)"
            },
            "type": "circle",
            "x0": 16.697038843114576,
            "x1": 17.097038843114575,
            "xref": "x",
            "y0": 19.042064001627573,
            "y1": 19.44206400162757,
            "yref": "y"
           },
           {
            "fillcolor": "rgba(0, 0, 128, 0.5)",
            "line": {
             "color": "rgba(0, 0, 128, 0.5)"
            },
            "type": "circle",
            "x0": 15.047668080236297,
            "x1": 15.447668080236296,
            "xref": "x",
            "y0": 19.255415321520747,
            "y1": 19.655415321520746,
            "yref": "y"
           },
           {
            "fillcolor": "rgba(0, 0, 150, 0.5)",
            "line": {
             "color": "rgba(0, 0, 150, 0.5)"
            },
            "type": "circle",
            "x0": 13.492576519312589,
            "x1": 13.892576519312588,
            "xref": "x",
            "y0": 18.981495297336316,
            "y1": 19.381495297336315,
            "yref": "y"
           },
           {
            "fillcolor": "rgba(255,255,255,0)",
            "line": {
             "width": 0
            },
            "type": "circle",
            "x0": 0,
            "x1": 0,
            "xref": "x",
            "y0": 0,
            "y1": 0,
            "yref": "y"
           },
           {
            "fillcolor": "rgba(255,255,255,0)",
            "line": {
             "width": 0
            },
            "type": "circle",
            "x0": 0,
            "x1": 0,
            "xref": "x",
            "y0": 0,
            "y1": 0,
            "yref": "y"
           },
           {
            "fillcolor": "rgba(255,255,255,0)",
            "line": {
             "width": 0
            },
            "type": "circle",
            "x0": 0,
            "x1": 0,
            "xref": "x",
            "y0": 0,
            "y1": 0,
            "yref": "y"
           },
           {
            "fillcolor": "rgba(255,255,255,0)",
            "line": {
             "width": 0
            },
            "type": "circle",
            "x0": 0,
            "x1": 0,
            "xref": "x",
            "y0": 0,
            "y1": 0,
            "yref": "y"
           },
           {
            "fillcolor": "rgba(255,255,255,0)",
            "line": {
             "width": 0
            },
            "type": "circle",
            "x0": 0,
            "x1": 0,
            "xref": "x",
            "y0": 0,
            "y1": 0,
            "yref": "y"
           },
           {
            "fillcolor": "rgba(255,255,255,0)",
            "line": {
             "width": 0
            },
            "type": "circle",
            "x0": 0,
            "x1": 0,
            "xref": "x",
            "y0": 0,
            "y1": 0,
            "yref": "y"
           },
           {
            "fillcolor": "rgba(255,255,255,0)",
            "line": {
             "width": 0
            },
            "type": "circle",
            "x0": 0,
            "x1": 0,
            "xref": "x",
            "y0": 0,
            "y1": 0,
            "yref": "y"
           },
           {
            "fillcolor": "rgba(255,255,255,0)",
            "line": {
             "width": 0
            },
            "type": "circle",
            "x0": 0,
            "x1": 0,
            "xref": "x",
            "y0": 0,
            "y1": 0,
            "yref": "y"
           },
           {
            "fillcolor": "rgba(255,255,255,0)",
            "line": {
             "width": 0
            },
            "type": "circle",
            "x0": 0,
            "x1": 0,
            "xref": "x",
            "y0": 0,
            "y1": 0,
            "yref": "y"
           },
           {
            "fillcolor": "rgba(255,255,255,0)",
            "line": {
             "width": 0
            },
            "type": "circle",
            "x0": 0,
            "x1": 0,
            "xref": "x",
            "y0": 0,
            "y1": 0,
            "yref": "y"
           },
           {
            "fillcolor": "rgba(255,255,255,0)",
            "line": {
             "width": 0
            },
            "type": "circle",
            "x0": 0,
            "x1": 0,
            "xref": "x",
            "y0": 0,
            "y1": 0,
            "yref": "y"
           },
           {
            "fillcolor": "rgba(255,255,255,0)",
            "line": {
             "width": 0
            },
            "type": "circle",
            "x0": 0,
            "x1": 0,
            "xref": "x",
            "y0": 0,
            "y1": 0,
            "yref": "y"
           },
           {
            "fillcolor": "rgba(255,255,255,0)",
            "line": {
             "width": 0
            },
            "type": "circle",
            "x0": 0,
            "x1": 0,
            "xref": "x",
            "y0": 0,
            "y1": 0,
            "yref": "y"
           },
           {
            "fillcolor": "rgba(255,255,255,0)",
            "line": {
             "width": 0
            },
            "type": "circle",
            "x0": 0,
            "x1": 0,
            "xref": "x",
            "y0": 0,
            "y1": 0,
            "yref": "y"
           },
           {
            "fillcolor": "rgba(255,255,255,0)",
            "line": {
             "width": 0
            },
            "type": "circle",
            "x0": 0,
            "x1": 0,
            "xref": "x",
            "y0": 0,
            "y1": 0,
            "yref": "y"
           },
           {
            "fillcolor": "rgba(255,255,255,0)",
            "line": {
             "width": 0
            },
            "type": "circle",
            "x0": 0,
            "x1": 0,
            "xref": "x",
            "y0": 0,
            "y1": 0,
            "yref": "y"
           },
           {
            "fillcolor": "rgba(255,255,255,0)",
            "line": {
             "width": 0
            },
            "type": "circle",
            "x0": 0,
            "x1": 0,
            "xref": "x",
            "y0": 0,
            "y1": 0,
            "yref": "y"
           },
           {
            "line": {
             "color": "white",
             "width": 3
            },
            "type": "line",
            "x0": 16.897038843114576,
            "x1": 17.09606537729619,
            "y0": 19.242064001627572,
            "y1": 19.261772849682583
           },
           {
            "line": {
             "color": "white",
             "width": 3
            },
            "type": "line",
            "x0": 15.247668080236297,
            "x1": 15.447665197128005,
            "y0": 19.455415321520746,
            "y1": 19.45648920931935
           },
           {
            "line": {
             "color": "white",
             "width": 3
            },
            "type": "line",
            "x0": 13.692576519312588,
            "x1": 13.892276651565156,
            "y0": 19.181495297336316,
            "y1": 19.192443227657026
           },
           {
            "line": {
             "color": "rgba(255,255,255,0)",
             "width": 3
            },
            "type": "line",
            "x0": 0,
            "x1": null,
            "y0": 0,
            "y1": null
           },
           {
            "line": {
             "color": "rgba(255,255,255,0)",
             "width": 3
            },
            "type": "line",
            "x0": 0,
            "x1": null,
            "y0": 0,
            "y1": null
           },
           {
            "line": {
             "color": "rgba(255,255,255,0)",
             "width": 3
            },
            "type": "line",
            "x0": 0,
            "x1": null,
            "y0": 0,
            "y1": null
           },
           {
            "line": {
             "color": "rgba(255,255,255,0)",
             "width": 3
            },
            "type": "line",
            "x0": 0,
            "x1": null,
            "y0": 0,
            "y1": null
           },
           {
            "line": {
             "color": "rgba(255,255,255,0)",
             "width": 3
            },
            "type": "line",
            "x0": 0,
            "x1": null,
            "y0": 0,
            "y1": null
           },
           {
            "line": {
             "color": "rgba(255,255,255,0)",
             "width": 3
            },
            "type": "line",
            "x0": 0,
            "x1": null,
            "y0": 0,
            "y1": null
           },
           {
            "line": {
             "color": "rgba(255,255,255,0)",
             "width": 3
            },
            "type": "line",
            "x0": 0,
            "x1": null,
            "y0": 0,
            "y1": null
           },
           {
            "line": {
             "color": "rgba(255,255,255,0)",
             "width": 3
            },
            "type": "line",
            "x0": 0,
            "x1": null,
            "y0": 0,
            "y1": null
           },
           {
            "line": {
             "color": "rgba(255,255,255,0)",
             "width": 3
            },
            "type": "line",
            "x0": 0,
            "x1": null,
            "y0": 0,
            "y1": null
           },
           {
            "line": {
             "color": "rgba(255,255,255,0)",
             "width": 3
            },
            "type": "line",
            "x0": 0,
            "x1": null,
            "y0": 0,
            "y1": null
           },
           {
            "line": {
             "color": "rgba(255,255,255,0)",
             "width": 3
            },
            "type": "line",
            "x0": 0,
            "x1": null,
            "y0": 0,
            "y1": null
           },
           {
            "line": {
             "color": "rgba(255,255,255,0)",
             "width": 3
            },
            "type": "line",
            "x0": 0,
            "x1": null,
            "y0": 0,
            "y1": null
           },
           {
            "line": {
             "color": "rgba(255,255,255,0)",
             "width": 3
            },
            "type": "line",
            "x0": 0,
            "x1": null,
            "y0": 0,
            "y1": null
           },
           {
            "line": {
             "color": "rgba(255,255,255,0)",
             "width": 3
            },
            "type": "line",
            "x0": 0,
            "x1": null,
            "y0": 0,
            "y1": null
           },
           {
            "line": {
             "color": "rgba(255,255,255,0)",
             "width": 3
            },
            "type": "line",
            "x0": 0,
            "x1": null,
            "y0": 0,
            "y1": null
           },
           {
            "line": {
             "color": "rgba(255,255,255,0)",
             "width": 3
            },
            "type": "line",
            "x0": 0,
            "x1": null,
            "y0": 0,
            "y1": null
           },
           {
            "line": {
             "color": "rgba(255,255,255,0)",
             "width": 3
            },
            "type": "line",
            "x0": 0,
            "x1": null,
            "y0": 0,
            "y1": null
           }
          ],
          "title": {
           "text": "<b>Percentage: 0%  |  Number of Agents: 3</b>",
           "x": 0.5
          }
         },
         "name": "650"
        }
       ],
       "layout": {
        "autosize": false,
        "height": 800,
        "shapes": [
         {
          "fillcolor": "rgba(209, 255, 38, 0.5)",
          "line": {
           "color": "rgba(209, 255, 38, 0.5)"
          },
          "type": "circle",
          "x0": 35.83553812043044,
          "x1": 36.23553812043045,
          "xref": "x",
          "y0": 7.630932985673279,
          "y1": 8.030932985673278,
          "yref": "y"
         },
         {
          "fillcolor": "rgba(193, 255, 54, 0.5)",
          "line": {
           "color": "rgba(193, 255, 54, 0.5)"
          },
          "type": "circle",
          "x0": 36.06969652945636,
          "x1": 36.469696529456364,
          "xref": "x",
          "y0": 12.249044876850132,
          "y1": 12.64904487685013,
          "yref": "y"
         },
         {
          "fillcolor": "rgba(0, 224, 251, 0.5)",
          "line": {
           "color": "rgba(0, 224, 251, 0.5)"
          },
          "type": "circle",
          "x0": 35.81535553971827,
          "x1": 36.215355539718274,
          "xref": "x",
          "y0": 10.513503051672576,
          "y1": 10.913503051672574,
          "yref": "y"
         },
         {
          "fillcolor": "rgba(0, 0, 141, 0.5)",
          "line": {
           "color": "rgba(0, 0, 141, 0.5)"
          },
          "type": "circle",
          "x0": 35.672260664907405,
          "x1": 36.07226066490741,
          "xref": "x",
          "y0": 12.585802143347486,
          "y1": 12.985802143347485,
          "yref": "y"
         },
         {
          "fillcolor": "rgba(128, 255, 119, 0.5)",
          "line": {
           "color": "rgba(128, 255, 119, 0.5)"
          },
          "type": "circle",
          "x0": 36.64319195031687,
          "x1": 37.043191950316874,
          "xref": "x",
          "y0": 13.963389203794385,
          "y1": 14.363389203794384,
          "yref": "y"
         },
         {
          "fillcolor": "rgba(0, 0, 164, 0.5)",
          "line": {
           "color": "rgba(0, 0, 164, 0.5)"
          },
          "type": "circle",
          "x0": 36.145926194973484,
          "x1": 36.54592619497349,
          "xref": "x",
          "y0": 12.829259626443935,
          "y1": 13.229259626443934,
          "yref": "y"
         },
         {
          "fillcolor": "rgba(244, 248, 2, 0.5)",
          "line": {
           "color": "rgba(244, 248, 2, 0.5)"
          },
          "type": "circle",
          "x0": 36.89327835877232,
          "x1": 37.293278358772326,
          "xref": "x",
          "y0": 8.494651192321484,
          "y1": 8.894651192321483,
          "yref": "y"
         },
         {
          "fillcolor": "rgba(209, 255, 38, 0.5)",
          "line": {
           "color": "rgba(209, 255, 38, 0.5)"
          },
          "type": "circle",
          "x0": 36.858321479324985,
          "x1": 37.25832147932499,
          "xref": "x",
          "y0": 9.32834222066561,
          "y1": 9.728342220665608,
          "yref": "y"
         },
         {
          "fillcolor": "rgba(0, 228, 248, 0.5)",
          "line": {
           "color": "rgba(0, 228, 248, 0.5)"
          },
          "type": "circle",
          "x0": 35.82256988570956,
          "x1": 36.22256988570957,
          "xref": "x",
          "y0": 11.753513681724105,
          "y1": 12.153513681724103,
          "yref": "y"
         },
         {
          "fillcolor": "rgba(0, 160, 255, 0.5)",
          "line": {
           "color": "rgba(0, 160, 255, 0.5)"
          },
          "type": "circle",
          "x0": 35.853946568535086,
          "x1": 36.25394656853509,
          "xref": "x",
          "y0": 9.209245052725436,
          "y1": 9.609245052725434,
          "yref": "y"
         },
         {
          "fillcolor": "rgba(0, 0, 128, 0.5)",
          "line": {
           "color": "rgba(0, 0, 128, 0.5)"
          },
          "type": "circle",
          "x0": 36.43828196795256,
          "x1": 36.83828196795257,
          "xref": "x",
          "y0": 14.66549979048334,
          "y1": 15.065499790483338,
          "yref": "y"
         },
         {
          "fillcolor": "rgba(255, 167, 0, 0.5)",
          "line": {
           "color": "rgba(255, 167, 0, 0.5)"
          },
          "type": "circle",
          "x0": 37.02256595500771,
          "x1": 37.42256595500771,
          "xref": "x",
          "y0": 7.810706802899152,
          "y1": 8.210706802899152,
          "yref": "y"
         },
         {
          "fillcolor": "rgba(255, 167, 0, 0.5)",
          "line": {
           "color": "rgba(255, 167, 0, 0.5)"
          },
          "type": "circle",
          "x0": 35.7374475679911,
          "x1": 36.1374475679911,
          "xref": "x",
          "y0": 6.965888998555674,
          "y1": 7.365888998555675,
          "yref": "y"
         },
         {
          "fillcolor": "rgba(135, 255, 112, 0.5)",
          "line": {
           "color": "rgba(135, 255, 112, 0.5)"
          },
          "type": "circle",
          "x0": 36.09637897538177,
          "x1": 36.496378975381774,
          "xref": "x",
          "y0": 8.430586674609211,
          "y1": 8.83058667460921,
          "yref": "y"
         },
         {
          "fillcolor": "rgba(128, 255, 119, 0.5)",
          "line": {
           "color": "rgba(128, 255, 119, 0.5)"
          },
          "type": "circle",
          "x0": 36.71248096815636,
          "x1": 37.11248096815637,
          "xref": "x",
          "y0": 10.1525718744657,
          "y1": 10.552571874465698,
          "yref": "y"
         },
         {
          "fillcolor": "rgba(64, 255, 183, 0.5)",
          "line": {
           "color": "rgba(64, 255, 183, 0.5)"
          },
          "type": "circle",
          "x0": 36.95815239516262,
          "x1": 37.35815239516263,
          "xref": "x",
          "y0": 12.737696182908028,
          "y1": 13.137696182908027,
          "yref": "y"
         },
         {
          "fillcolor": "rgba(90, 255, 157, 0.5)",
          "line": {
           "color": "rgba(90, 255, 157, 0.5)"
          },
          "type": "circle",
          "x0": 36.38912567464697,
          "x1": 36.789125674646975,
          "xref": "x",
          "y0": 11.075408096300457,
          "y1": 11.475408096300455,
          "yref": "y"
         },
         {
          "fillcolor": "rgba(0, 0, 155, 0.5)",
          "line": {
           "color": "rgba(0, 0, 155, 0.5)"
          },
          "type": "circle",
          "x0": 37.00866914797275,
          "x1": 37.40866914797276,
          "xref": "x",
          "y0": 5.62835725746466,
          "y1": 6.02835725746466,
          "yref": "y"
         },
         {
          "fillcolor": "rgba(0, 132, 255, 0.5)",
          "line": {
           "color": "rgba(0, 132, 255, 0.5)"
          },
          "type": "circle",
          "x0": 36.097667724668526,
          "x1": 36.49766772466853,
          "xref": "x",
          "y0": 5.383317444460078,
          "y1": 5.783317444460079,
          "yref": "y"
         },
         {
          "fillcolor": "rgba(0, 0, 137, 0.5)",
          "line": {
           "color": "rgba(0, 0, 137, 0.5)"
          },
          "type": "circle",
          "x0": 35.578734469612215,
          "x1": 35.97873446961222,
          "xref": "x",
          "y0": 8.501617938190686,
          "y1": 8.901617938190684,
          "yref": "y"
         },
         {
          "line": {
           "color": "black",
           "width": 3
          },
          "type": "line",
          "x0": 36.035538120430445,
          "x1": 36.035538120430445,
          "y0": 7.830932985673279,
          "y1": 7.830932985673279
         },
         {
          "line": {
           "color": "black",
           "width": 3
          },
          "type": "line",
          "x0": 36.26969652945636,
          "x1": 36.26969652945636,
          "y0": 12.449044876850131,
          "y1": 12.449044876850131
         },
         {
          "line": {
           "color": "black",
           "width": 3
          },
          "type": "line",
          "x0": 36.01535553971827,
          "x1": 36.01535553971827,
          "y0": 10.713503051672575,
          "y1": 10.713503051672575
         },
         {
          "line": {
           "color": "white",
           "width": 3
          },
          "type": "line",
          "x0": 35.87226066490741,
          "x1": 35.87226066490741,
          "y0": 12.785802143347485,
          "y1": 12.785802143347485
         },
         {
          "line": {
           "color": "black",
           "width": 3
          },
          "type": "line",
          "x0": 36.84319195031687,
          "x1": 36.84319195031687,
          "y0": 14.163389203794384,
          "y1": 14.163389203794384
         },
         {
          "line": {
           "color": "white",
           "width": 3
          },
          "type": "line",
          "x0": 36.34592619497349,
          "x1": 36.34592619497349,
          "y0": 13.029259626443935,
          "y1": 13.029259626443935
         },
         {
          "line": {
           "color": "black",
           "width": 3
          },
          "type": "line",
          "x0": 37.093278358772324,
          "x1": 37.093278358772324,
          "y0": 8.694651192321484,
          "y1": 8.694651192321484
         },
         {
          "line": {
           "color": "black",
           "width": 3
          },
          "type": "line",
          "x0": 37.05832147932499,
          "x1": 37.05832147932499,
          "y0": 9.528342220665609,
          "y1": 9.528342220665609
         },
         {
          "line": {
           "color": "black",
           "width": 3
          },
          "type": "line",
          "x0": 36.022569885709565,
          "x1": 36.022569885709565,
          "y0": 11.953513681724104,
          "y1": 11.953513681724104
         },
         {
          "line": {
           "color": "white",
           "width": 3
          },
          "type": "line",
          "x0": 36.05394656853509,
          "x1": 36.05394656853509,
          "y0": 9.409245052725435,
          "y1": 9.409245052725435
         },
         {
          "line": {
           "color": "white",
           "width": 3
          },
          "type": "line",
          "x0": 36.638281967952565,
          "x1": 36.638281967952565,
          "y0": 14.865499790483339,
          "y1": 14.865499790483339
         },
         {
          "line": {
           "color": "black",
           "width": 3
          },
          "type": "line",
          "x0": 37.22256595500771,
          "x1": 37.22256595500771,
          "y0": 8.010706802899152,
          "y1": 8.010706802899152
         },
         {
          "line": {
           "color": "black",
           "width": 3
          },
          "type": "line",
          "x0": 35.9374475679911,
          "x1": 35.9374475679911,
          "y0": 7.165888998555674,
          "y1": 7.165888998555674
         },
         {
          "line": {
           "color": "black",
           "width": 3
          },
          "type": "line",
          "x0": 36.29637897538177,
          "x1": 36.29637897538177,
          "y0": 8.63058667460921,
          "y1": 8.63058667460921
         },
         {
          "line": {
           "color": "black",
           "width": 3
          },
          "type": "line",
          "x0": 36.912480968156366,
          "x1": 36.912480968156366,
          "y0": 10.3525718744657,
          "y1": 10.3525718744657
         },
         {
          "line": {
           "color": "black",
           "width": 3
          },
          "type": "line",
          "x0": 37.158152395162624,
          "x1": 37.158152395162624,
          "y0": 12.937696182908027,
          "y1": 12.937696182908027
         },
         {
          "line": {
           "color": "black",
           "width": 3
          },
          "type": "line",
          "x0": 36.58912567464697,
          "x1": 36.58912567464697,
          "y0": 11.275408096300456,
          "y1": 11.275408096300456
         },
         {
          "line": {
           "color": "white",
           "width": 3
          },
          "type": "line",
          "x0": 37.208669147972756,
          "x1": 37.208669147972756,
          "y0": 5.82835725746466,
          "y1": 5.82835725746466
         },
         {
          "line": {
           "color": "white",
           "width": 3
          },
          "type": "line",
          "x0": 36.29766772466853,
          "x1": 36.29766772466853,
          "y0": 5.583317444460079,
          "y1": 5.583317444460079
         },
         {
          "line": {
           "color": "white",
           "width": 3
          },
          "type": "line",
          "x0": 35.77873446961222,
          "x1": 35.77873446961222,
          "y0": 8.701617938190685,
          "y1": 8.701617938190685
         }
        ],
        "sliders": [
         {
          "active": 0,
          "currentvalue": {
           "font": {
            "size": 20
           },
           "prefix": "Frame:",
           "visible": true,
           "xanchor": "right"
          },
          "len": 0.9,
          "pad": {
           "b": 10,
           "t": 50
          },
          "steps": [
           {
            "args": [
             [
              "0"
             ],
             {
              "frame": {
               "duration": 100,
               "redraw": true
              },
              "mode": "immediate",
              "transition": {
               "duration": 500
              }
             }
            ],
            "label": "0",
            "method": "animate"
           },
           {
            "args": [
             [
              "50"
             ],
             {
              "frame": {
               "duration": 100,
               "redraw": true
              },
              "mode": "immediate",
              "transition": {
               "duration": 500
              }
             }
            ],
            "label": "50",
            "method": "animate"
           },
           {
            "args": [
             [
              "100"
             ],
             {
              "frame": {
               "duration": 100,
               "redraw": true
              },
              "mode": "immediate",
              "transition": {
               "duration": 500
              }
             }
            ],
            "label": "100",
            "method": "animate"
           },
           {
            "args": [
             [
              "150"
             ],
             {
              "frame": {
               "duration": 100,
               "redraw": true
              },
              "mode": "immediate",
              "transition": {
               "duration": 500
              }
             }
            ],
            "label": "150",
            "method": "animate"
           },
           {
            "args": [
             [
              "200"
             ],
             {
              "frame": {
               "duration": 100,
               "redraw": true
              },
              "mode": "immediate",
              "transition": {
               "duration": 500
              }
             }
            ],
            "label": "200",
            "method": "animate"
           },
           {
            "args": [
             [
              "250"
             ],
             {
              "frame": {
               "duration": 100,
               "redraw": true
              },
              "mode": "immediate",
              "transition": {
               "duration": 500
              }
             }
            ],
            "label": "250",
            "method": "animate"
           },
           {
            "args": [
             [
              "300"
             ],
             {
              "frame": {
               "duration": 100,
               "redraw": true
              },
              "mode": "immediate",
              "transition": {
               "duration": 500
              }
             }
            ],
            "label": "300",
            "method": "animate"
           },
           {
            "args": [
             [
              "350"
             ],
             {
              "frame": {
               "duration": 100,
               "redraw": true
              },
              "mode": "immediate",
              "transition": {
               "duration": 500
              }
             }
            ],
            "label": "350",
            "method": "animate"
           },
           {
            "args": [
             [
              "400"
             ],
             {
              "frame": {
               "duration": 100,
               "redraw": true
              },
              "mode": "immediate",
              "transition": {
               "duration": 500
              }
             }
            ],
            "label": "400",
            "method": "animate"
           },
           {
            "args": [
             [
              "450"
             ],
             {
              "frame": {
               "duration": 100,
               "redraw": true
              },
              "mode": "immediate",
              "transition": {
               "duration": 500
              }
             }
            ],
            "label": "450",
            "method": "animate"
           },
           {
            "args": [
             [
              "500"
             ],
             {
              "frame": {
               "duration": 100,
               "redraw": true
              },
              "mode": "immediate",
              "transition": {
               "duration": 500
              }
             }
            ],
            "label": "500",
            "method": "animate"
           },
           {
            "args": [
             [
              "550"
             ],
             {
              "frame": {
               "duration": 100,
               "redraw": true
              },
              "mode": "immediate",
              "transition": {
               "duration": 500
              }
             }
            ],
            "label": "550",
            "method": "animate"
           },
           {
            "args": [
             [
              "600"
             ],
             {
              "frame": {
               "duration": 100,
               "redraw": true
              },
              "mode": "immediate",
              "transition": {
               "duration": 500
              }
             }
            ],
            "label": "600",
            "method": "animate"
           },
           {
            "args": [
             [
              "650"
             ],
             {
              "frame": {
               "duration": 100,
               "redraw": true
              },
              "mode": "immediate",
              "transition": {
               "duration": 500
              }
             }
            ],
            "label": "650",
            "method": "animate"
           }
          ],
          "transition": {
           "duration": 100,
           "easing": "cubic-in-out"
          },
          "x": 0.1,
          "xanchor": "left",
          "y": 0,
          "yanchor": "top"
         }
        ],
        "template": {
         "data": {
          "bar": [
           {
            "error_x": {
             "color": "#2a3f5f"
            },
            "error_y": {
             "color": "#2a3f5f"
            },
            "marker": {
             "line": {
              "color": "#E5ECF6",
              "width": 0.5
             },
             "pattern": {
              "fillmode": "overlay",
              "size": 10,
              "solidity": 0.2
             }
            },
            "type": "bar"
           }
          ],
          "barpolar": [
           {
            "marker": {
             "line": {
              "color": "#E5ECF6",
              "width": 0.5
             },
             "pattern": {
              "fillmode": "overlay",
              "size": 10,
              "solidity": 0.2
             }
            },
            "type": "barpolar"
           }
          ],
          "carpet": [
           {
            "aaxis": {
             "endlinecolor": "#2a3f5f",
             "gridcolor": "white",
             "linecolor": "white",
             "minorgridcolor": "white",
             "startlinecolor": "#2a3f5f"
            },
            "baxis": {
             "endlinecolor": "#2a3f5f",
             "gridcolor": "white",
             "linecolor": "white",
             "minorgridcolor": "white",
             "startlinecolor": "#2a3f5f"
            },
            "type": "carpet"
           }
          ],
          "choropleth": [
           {
            "colorbar": {
             "outlinewidth": 0,
             "ticks": ""
            },
            "type": "choropleth"
           }
          ],
          "contour": [
           {
            "colorbar": {
             "outlinewidth": 0,
             "ticks": ""
            },
            "colorscale": [
             [
              0,
              "#0d0887"
             ],
             [
              0.1111111111111111,
              "#46039f"
             ],
             [
              0.2222222222222222,
              "#7201a8"
             ],
             [
              0.3333333333333333,
              "#9c179e"
             ],
             [
              0.4444444444444444,
              "#bd3786"
             ],
             [
              0.5555555555555556,
              "#d8576b"
             ],
             [
              0.6666666666666666,
              "#ed7953"
             ],
             [
              0.7777777777777778,
              "#fb9f3a"
             ],
             [
              0.8888888888888888,
              "#fdca26"
             ],
             [
              1,
              "#f0f921"
             ]
            ],
            "type": "contour"
           }
          ],
          "contourcarpet": [
           {
            "colorbar": {
             "outlinewidth": 0,
             "ticks": ""
            },
            "type": "contourcarpet"
           }
          ],
          "heatmap": [
           {
            "colorbar": {
             "outlinewidth": 0,
             "ticks": ""
            },
            "colorscale": [
             [
              0,
              "#0d0887"
             ],
             [
              0.1111111111111111,
              "#46039f"
             ],
             [
              0.2222222222222222,
              "#7201a8"
             ],
             [
              0.3333333333333333,
              "#9c179e"
             ],
             [
              0.4444444444444444,
              "#bd3786"
             ],
             [
              0.5555555555555556,
              "#d8576b"
             ],
             [
              0.6666666666666666,
              "#ed7953"
             ],
             [
              0.7777777777777778,
              "#fb9f3a"
             ],
             [
              0.8888888888888888,
              "#fdca26"
             ],
             [
              1,
              "#f0f921"
             ]
            ],
            "type": "heatmap"
           }
          ],
          "histogram": [
           {
            "marker": {
             "pattern": {
              "fillmode": "overlay",
              "size": 10,
              "solidity": 0.2
             }
            },
            "type": "histogram"
           }
          ],
          "histogram2d": [
           {
            "colorbar": {
             "outlinewidth": 0,
             "ticks": ""
            },
            "colorscale": [
             [
              0,
              "#0d0887"
             ],
             [
              0.1111111111111111,
              "#46039f"
             ],
             [
              0.2222222222222222,
              "#7201a8"
             ],
             [
              0.3333333333333333,
              "#9c179e"
             ],
             [
              0.4444444444444444,
              "#bd3786"
             ],
             [
              0.5555555555555556,
              "#d8576b"
             ],
             [
              0.6666666666666666,
              "#ed7953"
             ],
             [
              0.7777777777777778,
              "#fb9f3a"
             ],
             [
              0.8888888888888888,
              "#fdca26"
             ],
             [
              1,
              "#f0f921"
             ]
            ],
            "type": "histogram2d"
           }
          ],
          "histogram2dcontour": [
           {
            "colorbar": {
             "outlinewidth": 0,
             "ticks": ""
            },
            "colorscale": [
             [
              0,
              "#0d0887"
             ],
             [
              0.1111111111111111,
              "#46039f"
             ],
             [
              0.2222222222222222,
              "#7201a8"
             ],
             [
              0.3333333333333333,
              "#9c179e"
             ],
             [
              0.4444444444444444,
              "#bd3786"
             ],
             [
              0.5555555555555556,
              "#d8576b"
             ],
             [
              0.6666666666666666,
              "#ed7953"
             ],
             [
              0.7777777777777778,
              "#fb9f3a"
             ],
             [
              0.8888888888888888,
              "#fdca26"
             ],
             [
              1,
              "#f0f921"
             ]
            ],
            "type": "histogram2dcontour"
           }
          ],
          "mesh3d": [
           {
            "colorbar": {
             "outlinewidth": 0,
             "ticks": ""
            },
            "type": "mesh3d"
           }
          ],
          "parcoords": [
           {
            "line": {
             "colorbar": {
              "outlinewidth": 0,
              "ticks": ""
             }
            },
            "type": "parcoords"
           }
          ],
          "pie": [
           {
            "automargin": true,
            "type": "pie"
           }
          ],
          "scatter": [
           {
            "fillpattern": {
             "fillmode": "overlay",
             "size": 10,
             "solidity": 0.2
            },
            "type": "scatter"
           }
          ],
          "scatter3d": [
           {
            "line": {
             "colorbar": {
              "outlinewidth": 0,
              "ticks": ""
             }
            },
            "marker": {
             "colorbar": {
              "outlinewidth": 0,
              "ticks": ""
             }
            },
            "type": "scatter3d"
           }
          ],
          "scattercarpet": [
           {
            "marker": {
             "colorbar": {
              "outlinewidth": 0,
              "ticks": ""
             }
            },
            "type": "scattercarpet"
           }
          ],
          "scattergeo": [
           {
            "marker": {
             "colorbar": {
              "outlinewidth": 0,
              "ticks": ""
             }
            },
            "type": "scattergeo"
           }
          ],
          "scattergl": [
           {
            "marker": {
             "colorbar": {
              "outlinewidth": 0,
              "ticks": ""
             }
            },
            "type": "scattergl"
           }
          ],
          "scattermap": [
           {
            "marker": {
             "colorbar": {
              "outlinewidth": 0,
              "ticks": ""
             }
            },
            "type": "scattermap"
           }
          ],
          "scattermapbox": [
           {
            "marker": {
             "colorbar": {
              "outlinewidth": 0,
              "ticks": ""
             }
            },
            "type": "scattermapbox"
           }
          ],
          "scatterpolar": [
           {
            "marker": {
             "colorbar": {
              "outlinewidth": 0,
              "ticks": ""
             }
            },
            "type": "scatterpolar"
           }
          ],
          "scatterpolargl": [
           {
            "marker": {
             "colorbar": {
              "outlinewidth": 0,
              "ticks": ""
             }
            },
            "type": "scatterpolargl"
           }
          ],
          "scatterternary": [
           {
            "marker": {
             "colorbar": {
              "outlinewidth": 0,
              "ticks": ""
             }
            },
            "type": "scatterternary"
           }
          ],
          "surface": [
           {
            "colorbar": {
             "outlinewidth": 0,
             "ticks": ""
            },
            "colorscale": [
             [
              0,
              "#0d0887"
             ],
             [
              0.1111111111111111,
              "#46039f"
             ],
             [
              0.2222222222222222,
              "#7201a8"
             ],
             [
              0.3333333333333333,
              "#9c179e"
             ],
             [
              0.4444444444444444,
              "#bd3786"
             ],
             [
              0.5555555555555556,
              "#d8576b"
             ],
             [
              0.6666666666666666,
              "#ed7953"
             ],
             [
              0.7777777777777778,
              "#fb9f3a"
             ],
             [
              0.8888888888888888,
              "#fdca26"
             ],
             [
              1,
              "#f0f921"
             ]
            ],
            "type": "surface"
           }
          ],
          "table": [
           {
            "cells": {
             "fill": {
              "color": "#EBF0F8"
             },
             "line": {
              "color": "white"
             }
            },
            "header": {
             "fill": {
              "color": "#C8D4E3"
             },
             "line": {
              "color": "white"
             }
            },
            "type": "table"
           }
          ]
         },
         "layout": {
          "annotationdefaults": {
           "arrowcolor": "#2a3f5f",
           "arrowhead": 0,
           "arrowwidth": 1
          },
          "autotypenumbers": "strict",
          "coloraxis": {
           "colorbar": {
            "outlinewidth": 0,
            "ticks": ""
           }
          },
          "colorscale": {
           "diverging": [
            [
             0,
             "#8e0152"
            ],
            [
             0.1,
             "#c51b7d"
            ],
            [
             0.2,
             "#de77ae"
            ],
            [
             0.3,
             "#f1b6da"
            ],
            [
             0.4,
             "#fde0ef"
            ],
            [
             0.5,
             "#f7f7f7"
            ],
            [
             0.6,
             "#e6f5d0"
            ],
            [
             0.7,
             "#b8e186"
            ],
            [
             0.8,
             "#7fbc41"
            ],
            [
             0.9,
             "#4d9221"
            ],
            [
             1,
             "#276419"
            ]
           ],
           "sequential": [
            [
             0,
             "#0d0887"
            ],
            [
             0.1111111111111111,
             "#46039f"
            ],
            [
             0.2222222222222222,
             "#7201a8"
            ],
            [
             0.3333333333333333,
             "#9c179e"
            ],
            [
             0.4444444444444444,
             "#bd3786"
            ],
            [
             0.5555555555555556,
             "#d8576b"
            ],
            [
             0.6666666666666666,
             "#ed7953"
            ],
            [
             0.7777777777777778,
             "#fb9f3a"
            ],
            [
             0.8888888888888888,
             "#fdca26"
            ],
            [
             1,
             "#f0f921"
            ]
           ],
           "sequentialminus": [
            [
             0,
             "#0d0887"
            ],
            [
             0.1111111111111111,
             "#46039f"
            ],
            [
             0.2222222222222222,
             "#7201a8"
            ],
            [
             0.3333333333333333,
             "#9c179e"
            ],
            [
             0.4444444444444444,
             "#bd3786"
            ],
            [
             0.5555555555555556,
             "#d8576b"
            ],
            [
             0.6666666666666666,
             "#ed7953"
            ],
            [
             0.7777777777777778,
             "#fb9f3a"
            ],
            [
             0.8888888888888888,
             "#fdca26"
            ],
            [
             1,
             "#f0f921"
            ]
           ]
          },
          "colorway": [
           "#636efa",
           "#EF553B",
           "#00cc96",
           "#ab63fa",
           "#FFA15A",
           "#19d3f3",
           "#FF6692",
           "#B6E880",
           "#FF97FF",
           "#FECB52"
          ],
          "font": {
           "color": "#2a3f5f"
          },
          "geo": {
           "bgcolor": "white",
           "lakecolor": "white",
           "landcolor": "#E5ECF6",
           "showlakes": true,
           "showland": true,
           "subunitcolor": "white"
          },
          "hoverlabel": {
           "align": "left"
          },
          "hovermode": "closest",
          "mapbox": {
           "style": "light"
          },
          "paper_bgcolor": "white",
          "plot_bgcolor": "#E5ECF6",
          "polar": {
           "angularaxis": {
            "gridcolor": "white",
            "linecolor": "white",
            "ticks": ""
           },
           "bgcolor": "#E5ECF6",
           "radialaxis": {
            "gridcolor": "white",
            "linecolor": "white",
            "ticks": ""
           }
          },
          "scene": {
           "xaxis": {
            "backgroundcolor": "#E5ECF6",
            "gridcolor": "white",
            "gridwidth": 2,
            "linecolor": "white",
            "showbackground": true,
            "ticks": "",
            "zerolinecolor": "white"
           },
           "yaxis": {
            "backgroundcolor": "#E5ECF6",
            "gridcolor": "white",
            "gridwidth": 2,
            "linecolor": "white",
            "showbackground": true,
            "ticks": "",
            "zerolinecolor": "white"
           },
           "zaxis": {
            "backgroundcolor": "#E5ECF6",
            "gridcolor": "white",
            "gridwidth": 2,
            "linecolor": "white",
            "showbackground": true,
            "ticks": "",
            "zerolinecolor": "white"
           }
          },
          "shapedefaults": {
           "line": {
            "color": "#2a3f5f"
           }
          },
          "ternary": {
           "aaxis": {
            "gridcolor": "white",
            "linecolor": "white",
            "ticks": ""
           },
           "baxis": {
            "gridcolor": "white",
            "linecolor": "white",
            "ticks": ""
           },
           "bgcolor": "#E5ECF6",
           "caxis": {
            "gridcolor": "white",
            "linecolor": "white",
            "ticks": ""
           }
          },
          "title": {
           "x": 0.05
          },
          "xaxis": {
           "automargin": true,
           "gridcolor": "white",
           "linecolor": "white",
           "ticks": "",
           "title": {
            "standoff": 15
           },
           "zerolinecolor": "white",
           "zerolinewidth": 2
          },
          "yaxis": {
           "automargin": true,
           "gridcolor": "white",
           "linecolor": "white",
           "ticks": "",
           "title": {
            "standoff": 15
           },
           "zerolinecolor": "white",
           "zerolinewidth": 2
          }
         }
        },
        "title": {
         "text": "<b>Percentage: 0%  |  Number of Agents: 20</b>",
         "x": 0.5
        },
        "updatemenus": [
         {
          "buttons": [
           {
            "args": [
             null,
             {
              "frame": {
               "duration": 100,
               "redraw": true
              },
              "fromcurrent": true
             }
            ],
            "label": "Play",
            "method": "animate"
           }
          ],
          "direction": "left",
          "pad": {
           "r": 10,
           "t": 87
          },
          "showactive": false,
          "type": "buttons",
          "x": 0.1,
          "xanchor": "right",
          "y": 0,
          "yanchor": "top"
         }
        ],
        "width": 800,
        "xaxis": {
         "range": [
          -0.5,
          40.5
         ]
        },
        "yaxis": {
         "range": [
          -0.5,
          20.5
         ],
         "scaleanchor": "x",
         "scaleratio": 1
        }
       }
      }
     },
     "metadata": {},
     "output_type": "display_data"
    }
   ],
   "source": [
    "from jupedsim.internal.notebook_utils import animate, read_sqlite_file\n",
    "\n",
    "agent_trajectories = {}\n",
    "agent_trajectories[percentage], walkable_area = read_sqlite_file(\n",
    "    trajectory_file\n",
    ")\n",
    "animate(\n",
    "    agent_trajectories[percentage],\n",
    "    walkable_area,\n",
    "    title_note=f\"Percentage: {percentage}%\",\n",
    ").show()"
   ]
  },
  {
   "cell_type": "code",
   "execution_count": 46,
   "metadata": {
    "editable": true,
    "slideshow": {
     "slide_type": ""
    },
    "tags": []
   },
   "outputs": [],
   "source": [
    "evac_times = []\n",
    "for percentage, traj in agent_trajectories.items():\n",
    "    t_evac = traj.data[\"frame\"].max() / traj.frame_rate\n",
    "    evac_times.append(t_evac)"
   ]
  },
  {
   "cell_type": "code",
   "execution_count": 47,
   "metadata": {
    "tags": [
     "hide-input"
    ]
   },
   "outputs": [
    {
     "data": {
      "application/vnd.plotly.v1+json": {
       "config": {
        "plotlyServerURL": "https://plot.ly"
       },
       "data": [
        {
         "marker": {
          "size": 10
         },
         "mode": "lines+markers",
         "name": "Evacuation Times",
         "type": "scatter",
         "x": [
          0
         ],
         "y": [
          150
         ]
        }
       ],
       "layout": {
        "template": {
         "data": {
          "bar": [
           {
            "error_x": {
             "color": "#2a3f5f"
            },
            "error_y": {
             "color": "#2a3f5f"
            },
            "marker": {
             "line": {
              "color": "#E5ECF6",
              "width": 0.5
             },
             "pattern": {
              "fillmode": "overlay",
              "size": 10,
              "solidity": 0.2
             }
            },
            "type": "bar"
           }
          ],
          "barpolar": [
           {
            "marker": {
             "line": {
              "color": "#E5ECF6",
              "width": 0.5
             },
             "pattern": {
              "fillmode": "overlay",
              "size": 10,
              "solidity": 0.2
             }
            },
            "type": "barpolar"
           }
          ],
          "carpet": [
           {
            "aaxis": {
             "endlinecolor": "#2a3f5f",
             "gridcolor": "white",
             "linecolor": "white",
             "minorgridcolor": "white",
             "startlinecolor": "#2a3f5f"
            },
            "baxis": {
             "endlinecolor": "#2a3f5f",
             "gridcolor": "white",
             "linecolor": "white",
             "minorgridcolor": "white",
             "startlinecolor": "#2a3f5f"
            },
            "type": "carpet"
           }
          ],
          "choropleth": [
           {
            "colorbar": {
             "outlinewidth": 0,
             "ticks": ""
            },
            "type": "choropleth"
           }
          ],
          "contour": [
           {
            "colorbar": {
             "outlinewidth": 0,
             "ticks": ""
            },
            "colorscale": [
             [
              0,
              "#0d0887"
             ],
             [
              0.1111111111111111,
              "#46039f"
             ],
             [
              0.2222222222222222,
              "#7201a8"
             ],
             [
              0.3333333333333333,
              "#9c179e"
             ],
             [
              0.4444444444444444,
              "#bd3786"
             ],
             [
              0.5555555555555556,
              "#d8576b"
             ],
             [
              0.6666666666666666,
              "#ed7953"
             ],
             [
              0.7777777777777778,
              "#fb9f3a"
             ],
             [
              0.8888888888888888,
              "#fdca26"
             ],
             [
              1,
              "#f0f921"
             ]
            ],
            "type": "contour"
           }
          ],
          "contourcarpet": [
           {
            "colorbar": {
             "outlinewidth": 0,
             "ticks": ""
            },
            "type": "contourcarpet"
           }
          ],
          "heatmap": [
           {
            "colorbar": {
             "outlinewidth": 0,
             "ticks": ""
            },
            "colorscale": [
             [
              0,
              "#0d0887"
             ],
             [
              0.1111111111111111,
              "#46039f"
             ],
             [
              0.2222222222222222,
              "#7201a8"
             ],
             [
              0.3333333333333333,
              "#9c179e"
             ],
             [
              0.4444444444444444,
              "#bd3786"
             ],
             [
              0.5555555555555556,
              "#d8576b"
             ],
             [
              0.6666666666666666,
              "#ed7953"
             ],
             [
              0.7777777777777778,
              "#fb9f3a"
             ],
             [
              0.8888888888888888,
              "#fdca26"
             ],
             [
              1,
              "#f0f921"
             ]
            ],
            "type": "heatmap"
           }
          ],
          "histogram": [
           {
            "marker": {
             "pattern": {
              "fillmode": "overlay",
              "size": 10,
              "solidity": 0.2
             }
            },
            "type": "histogram"
           }
          ],
          "histogram2d": [
           {
            "colorbar": {
             "outlinewidth": 0,
             "ticks": ""
            },
            "colorscale": [
             [
              0,
              "#0d0887"
             ],
             [
              0.1111111111111111,
              "#46039f"
             ],
             [
              0.2222222222222222,
              "#7201a8"
             ],
             [
              0.3333333333333333,
              "#9c179e"
             ],
             [
              0.4444444444444444,
              "#bd3786"
             ],
             [
              0.5555555555555556,
              "#d8576b"
             ],
             [
              0.6666666666666666,
              "#ed7953"
             ],
             [
              0.7777777777777778,
              "#fb9f3a"
             ],
             [
              0.8888888888888888,
              "#fdca26"
             ],
             [
              1,
              "#f0f921"
             ]
            ],
            "type": "histogram2d"
           }
          ],
          "histogram2dcontour": [
           {
            "colorbar": {
             "outlinewidth": 0,
             "ticks": ""
            },
            "colorscale": [
             [
              0,
              "#0d0887"
             ],
             [
              0.1111111111111111,
              "#46039f"
             ],
             [
              0.2222222222222222,
              "#7201a8"
             ],
             [
              0.3333333333333333,
              "#9c179e"
             ],
             [
              0.4444444444444444,
              "#bd3786"
             ],
             [
              0.5555555555555556,
              "#d8576b"
             ],
             [
              0.6666666666666666,
              "#ed7953"
             ],
             [
              0.7777777777777778,
              "#fb9f3a"
             ],
             [
              0.8888888888888888,
              "#fdca26"
             ],
             [
              1,
              "#f0f921"
             ]
            ],
            "type": "histogram2dcontour"
           }
          ],
          "mesh3d": [
           {
            "colorbar": {
             "outlinewidth": 0,
             "ticks": ""
            },
            "type": "mesh3d"
           }
          ],
          "parcoords": [
           {
            "line": {
             "colorbar": {
              "outlinewidth": 0,
              "ticks": ""
             }
            },
            "type": "parcoords"
           }
          ],
          "pie": [
           {
            "automargin": true,
            "type": "pie"
           }
          ],
          "scatter": [
           {
            "fillpattern": {
             "fillmode": "overlay",
             "size": 10,
             "solidity": 0.2
            },
            "type": "scatter"
           }
          ],
          "scatter3d": [
           {
            "line": {
             "colorbar": {
              "outlinewidth": 0,
              "ticks": ""
             }
            },
            "marker": {
             "colorbar": {
              "outlinewidth": 0,
              "ticks": ""
             }
            },
            "type": "scatter3d"
           }
          ],
          "scattercarpet": [
           {
            "marker": {
             "colorbar": {
              "outlinewidth": 0,
              "ticks": ""
             }
            },
            "type": "scattercarpet"
           }
          ],
          "scattergeo": [
           {
            "marker": {
             "colorbar": {
              "outlinewidth": 0,
              "ticks": ""
             }
            },
            "type": "scattergeo"
           }
          ],
          "scattergl": [
           {
            "marker": {
             "colorbar": {
              "outlinewidth": 0,
              "ticks": ""
             }
            },
            "type": "scattergl"
           }
          ],
          "scattermap": [
           {
            "marker": {
             "colorbar": {
              "outlinewidth": 0,
              "ticks": ""
             }
            },
            "type": "scattermap"
           }
          ],
          "scattermapbox": [
           {
            "marker": {
             "colorbar": {
              "outlinewidth": 0,
              "ticks": ""
             }
            },
            "type": "scattermapbox"
           }
          ],
          "scatterpolar": [
           {
            "marker": {
             "colorbar": {
              "outlinewidth": 0,
              "ticks": ""
             }
            },
            "type": "scatterpolar"
           }
          ],
          "scatterpolargl": [
           {
            "marker": {
             "colorbar": {
              "outlinewidth": 0,
              "ticks": ""
             }
            },
            "type": "scatterpolargl"
           }
          ],
          "scatterternary": [
           {
            "marker": {
             "colorbar": {
              "outlinewidth": 0,
              "ticks": ""
             }
            },
            "type": "scatterternary"
           }
          ],
          "surface": [
           {
            "colorbar": {
             "outlinewidth": 0,
             "ticks": ""
            },
            "colorscale": [
             [
              0,
              "#0d0887"
             ],
             [
              0.1111111111111111,
              "#46039f"
             ],
             [
              0.2222222222222222,
              "#7201a8"
             ],
             [
              0.3333333333333333,
              "#9c179e"
             ],
             [
              0.4444444444444444,
              "#bd3786"
             ],
             [
              0.5555555555555556,
              "#d8576b"
             ],
             [
              0.6666666666666666,
              "#ed7953"
             ],
             [
              0.7777777777777778,
              "#fb9f3a"
             ],
             [
              0.8888888888888888,
              "#fdca26"
             ],
             [
              1,
              "#f0f921"
             ]
            ],
            "type": "surface"
           }
          ],
          "table": [
           {
            "cells": {
             "fill": {
              "color": "#EBF0F8"
             },
             "line": {
              "color": "white"
             }
            },
            "header": {
             "fill": {
              "color": "#C8D4E3"
             },
             "line": {
              "color": "white"
             }
            },
            "type": "table"
           }
          ]
         },
         "layout": {
          "annotationdefaults": {
           "arrowcolor": "#2a3f5f",
           "arrowhead": 0,
           "arrowwidth": 1
          },
          "autotypenumbers": "strict",
          "coloraxis": {
           "colorbar": {
            "outlinewidth": 0,
            "ticks": ""
           }
          },
          "colorscale": {
           "diverging": [
            [
             0,
             "#8e0152"
            ],
            [
             0.1,
             "#c51b7d"
            ],
            [
             0.2,
             "#de77ae"
            ],
            [
             0.3,
             "#f1b6da"
            ],
            [
             0.4,
             "#fde0ef"
            ],
            [
             0.5,
             "#f7f7f7"
            ],
            [
             0.6,
             "#e6f5d0"
            ],
            [
             0.7,
             "#b8e186"
            ],
            [
             0.8,
             "#7fbc41"
            ],
            [
             0.9,
             "#4d9221"
            ],
            [
             1,
             "#276419"
            ]
           ],
           "sequential": [
            [
             0,
             "#0d0887"
            ],
            [
             0.1111111111111111,
             "#46039f"
            ],
            [
             0.2222222222222222,
             "#7201a8"
            ],
            [
             0.3333333333333333,
             "#9c179e"
            ],
            [
             0.4444444444444444,
             "#bd3786"
            ],
            [
             0.5555555555555556,
             "#d8576b"
            ],
            [
             0.6666666666666666,
             "#ed7953"
            ],
            [
             0.7777777777777778,
             "#fb9f3a"
            ],
            [
             0.8888888888888888,
             "#fdca26"
            ],
            [
             1,
             "#f0f921"
            ]
           ],
           "sequentialminus": [
            [
             0,
             "#0d0887"
            ],
            [
             0.1111111111111111,
             "#46039f"
            ],
            [
             0.2222222222222222,
             "#7201a8"
            ],
            [
             0.3333333333333333,
             "#9c179e"
            ],
            [
             0.4444444444444444,
             "#bd3786"
            ],
            [
             0.5555555555555556,
             "#d8576b"
            ],
            [
             0.6666666666666666,
             "#ed7953"
            ],
            [
             0.7777777777777778,
             "#fb9f3a"
            ],
            [
             0.8888888888888888,
             "#fdca26"
            ],
            [
             1,
             "#f0f921"
            ]
           ]
          },
          "colorway": [
           "#636efa",
           "#EF553B",
           "#00cc96",
           "#ab63fa",
           "#FFA15A",
           "#19d3f3",
           "#FF6692",
           "#B6E880",
           "#FF97FF",
           "#FECB52"
          ],
          "font": {
           "color": "#2a3f5f"
          },
          "geo": {
           "bgcolor": "white",
           "lakecolor": "white",
           "landcolor": "#E5ECF6",
           "showlakes": true,
           "showland": true,
           "subunitcolor": "white"
          },
          "hoverlabel": {
           "align": "left"
          },
          "hovermode": "closest",
          "mapbox": {
           "style": "light"
          },
          "paper_bgcolor": "white",
          "plot_bgcolor": "#E5ECF6",
          "polar": {
           "angularaxis": {
            "gridcolor": "white",
            "linecolor": "white",
            "ticks": ""
           },
           "bgcolor": "#E5ECF6",
           "radialaxis": {
            "gridcolor": "white",
            "linecolor": "white",
            "ticks": ""
           }
          },
          "scene": {
           "xaxis": {
            "backgroundcolor": "#E5ECF6",
            "gridcolor": "white",
            "gridwidth": 2,
            "linecolor": "white",
            "showbackground": true,
            "ticks": "",
            "zerolinecolor": "white"
           },
           "yaxis": {
            "backgroundcolor": "#E5ECF6",
            "gridcolor": "white",
            "gridwidth": 2,
            "linecolor": "white",
            "showbackground": true,
            "ticks": "",
            "zerolinecolor": "white"
           },
           "zaxis": {
            "backgroundcolor": "#E5ECF6",
            "gridcolor": "white",
            "gridwidth": 2,
            "linecolor": "white",
            "showbackground": true,
            "ticks": "",
            "zerolinecolor": "white"
           }
          },
          "shapedefaults": {
           "line": {
            "color": "#2a3f5f"
           }
          },
          "ternary": {
           "aaxis": {
            "gridcolor": "white",
            "linecolor": "white",
            "ticks": ""
           },
           "baxis": {
            "gridcolor": "white",
            "linecolor": "white",
            "ticks": ""
           },
           "bgcolor": "#E5ECF6",
           "caxis": {
            "gridcolor": "white",
            "linecolor": "white",
            "ticks": ""
           }
          },
          "title": {
           "x": 0.05
          },
          "xaxis": {
           "automargin": true,
           "gridcolor": "white",
           "linecolor": "white",
           "ticks": "",
           "title": {
            "standoff": 15
           },
           "zerolinecolor": "white",
           "zerolinewidth": 2
          },
          "yaxis": {
           "automargin": true,
           "gridcolor": "white",
           "linecolor": "white",
           "ticks": "",
           "title": {
            "standoff": 15
           },
           "zerolinecolor": "white",
           "zerolinewidth": 2
          }
         }
        },
        "title": {
         "text": "Evacuation Times vs. Percentages"
        },
        "xaxis": {
         "title": {
          "text": "Percentage %"
         }
        },
        "yaxis": {
         "title": {
          "text": "Evacuation Time (s)"
         }
        }
       }
      },
      "image/png": "[encoded data removed]"
     },
     "metadata": {},
     "output_type": "display_data"
    }
   ],
   "source": [
    "import plotly.graph_objects as go\n",
    "\n",
    "fig = go.Figure()\n",
    "\n",
    "fig.add_trace(\n",
    "    go.Scatter(\n",
    "        x=list(agent_trajectories.keys()),\n",
    "        y=evac_times,\n",
    "        marker=dict(size=10),\n",
    "        mode=\"lines+markers\",\n",
    "        name=\"Evacuation Times\",\n",
    "    )\n",
    ")\n",
    "\n",
    "fig.update_layout(\n",
    "    title=\"Evacuation Times vs. Percentages\",\n",
    "    xaxis_title=\"Percentage %\",\n",
    "    yaxis_title=\"Evacuation Time (s)\",\n",
    ")\n",
    "\n",
    "fig.show()"
   ]
  },
  {
   "cell_type": "markdown",
   "metadata": {},
   "source": [
    "## Summary and Discussion\n",
    "\n",
    "In our simulated scenario, agents are presented with two distinct paths: a direct route that is shorter but prone to congestion and a detour. \n",
    "Given the high volume of individuals arriving at door 1, relying solely on one door's capacity proves impractical.\n",
    "\n",
    "Although the alternate path through door 2 may be considerably longer in distance, it becomes crucial to utilize both doors in order to alleviate congestion and reduce waiting times at door 1.\n",
    "The findings from our simulation align with this rationale. \n",
    "\n",
    "To optimize both average and peak arrival times, approximately 40% of individuals should choose the longer journey via door 2, which is in accordance with the results reported in this [paper](https://collective-dynamics.eu/index.php/cod/article/view/A24).\n",
    "This strategic distribution ensures smoother flow dynamics and contributes towards enhancing evacuation efficiency.\n",
    "\n",
    "Note, that in  we used a fixed seed number to distribute the agents. To get a reliable result  for this specific scenario, one should repeat the simulations many times for the sake of some statistical relevance.\n",
    "\n",
    "Please note that in the section [Allocation and Configuration of Agents](#distribution), we employed a consistent seed number for agent distribution. For dependable outcomes, it's advised to run the simulations multiple times to ensure statistical significance. Morover, more percentage values between 0 and 100 will enhance the quality of the results."
   ]
  },
  {
   "cell_type": "markdown",
   "metadata": {},
   "source": [
    "# Download\n",
    "\n",
    "This notebook can be directly downloaded {download}`here <./routing.ipynb>` to run it locally."
   ]
  }
 ],
 "metadata": {
  "kernelspec": {
   "display_name": "jupedsim",
   "language": "python",
   "name": "python3"
  },
  "language_info": {
   "codemirror_mode": {
    "name": "ipython",
    "version": 3
   },
   "file_extension": ".py",
   "mimetype": "text/x-python",
   "name": "python",
   "nbconvert_exporter": "python",
   "pygments_lexer": "ipython3",
   "version": "3.12.11"
  }
 },
 "nbformat": 4,
 "nbformat_minor": 4
}
